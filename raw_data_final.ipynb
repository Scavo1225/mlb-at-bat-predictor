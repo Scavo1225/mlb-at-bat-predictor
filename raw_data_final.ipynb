{
 "cells": [
  {
   "cell_type": "code",
   "execution_count": 1,
   "metadata": {},
   "outputs": [],
   "source": [
    "import pandas as pd\n",
    "import requests\n",
    "import json\n",
    "import time\n",
    "import numpy as np\n",
    "\n",
    "pd.set_option('display.max_columns', None)"
   ]
  },
  {
   "cell_type": "code",
   "execution_count": 21,
   "metadata": {},
   "outputs": [],
   "source": [
    "#Filtering to games completed as of mid-way through August 23rd\n",
    "game_list = pd.read_csv('../raw_data/games.csv', index_col=\"id\")\n",
    "game_list = game_list[game_list[\"status\"] == \"closed\"]\n",
    "g_list = game_list.index"
   ]
  },
  {
   "cell_type": "code",
   "execution_count": 22,
   "metadata": {},
   "outputs": [],
   "source": [
    "# setting naming convention for the columns that the json files are read into the Dataframe\n",
    "columns = ['id', 'game_id', 'inning', 'side', 'hitter_id', 'hitter_hand', 'pitcher_id', 'pitcher_hand', 'description', 'temp_f', 'weather_condition', 'humidity', 'wind_speed_mph']"
   ]
  },
  {
   "cell_type": "code",
   "execution_count": 23,
   "metadata": {},
   "outputs": [],
   "source": [
    "#Create empty DataFrame to concat to in the next code cell\n",
    "at_bat_df = pd.DataFrame(columns=columns)"
   ]
  },
  {
   "cell_type": "code",
   "execution_count": 25,
   "metadata": {},
   "outputs": [],
   "source": [
    "#Parsing through JSON to pull the key data into a dataframe\n",
    "\n",
    "columns = ['id', 'game_id', 'inning', 'side', 'hitter_id', 'hitter_hand', 'pitcher_id', 'pitcher_hand', 'description', 'temp_f', 'weather_condition', 'humidity', 'wind_speed_mph']\n",
    "\n",
    "for g in g_list:\n",
    "    with open(f'../data/plate_app_data/{g}.json') as user_file:\n",
    "        api_c = user_file.read()\n",
    "    api_c = json.loads(api_c)\n",
    "    \n",
    "    for ing in range(1, len(api_c[\"game\"][\"innings\"])):\n",
    "        for hlf in range(2):\n",
    "            for atb in range(len(api_c[\"game\"][\"innings\"][ing][\"halfs\"][hlf][\"events\"])):\n",
    "                \n",
    "                if 'at_bat' not in api_c[\"game\"][\"innings\"][ing][\"halfs\"][hlf][\"events\"][atb]:\n",
    "                    continue\n",
    "                \n",
    "                if 'pitcher_id' not in api_c[\"game\"][\"innings\"][ing][\"halfs\"][hlf][\"events\"][atb][\"at_bat\"]:\n",
    "                    continue\n",
    "                \n",
    "                id = api_c[\"game\"][\"innings\"][ing][\"halfs\"][hlf][\"events\"][atb][\"at_bat\"][\"id\"]\n",
    "                game_id = api_c[\"game\"][\"id\"]\n",
    "                inning = api_c[\"game\"][\"innings\"][ing][\"number\"]\n",
    "                side = api_c[\"game\"][\"innings\"][ing][\"halfs\"][hlf][\"half\"]\n",
    "\n",
    "                hitter_id = api_c[\"game\"][\"innings\"][ing][\"halfs\"][hlf][\"events\"][atb][\"at_bat\"][\"hitter_id\"]\n",
    "                hitter_hand = api_c[\"game\"][\"innings\"][ing][\"halfs\"][hlf][\"events\"][atb][\"at_bat\"][\"hitter_hand\"]\n",
    "                \n",
    "                pitcher_id = api_c[\"game\"][\"innings\"][ing][\"halfs\"][hlf][\"events\"][atb][\"at_bat\"][\"pitcher_id\"]\n",
    "                pitcher_hand = api_c[\"game\"][\"innings\"][ing][\"halfs\"][hlf][\"events\"][atb][\"at_bat\"][\"pitcher_hand\"]\n",
    "                \n",
    "                if 'description' not in api_c[\"game\"][\"innings\"][ing][\"halfs\"][hlf][\"events\"][atb][\"at_bat\"]:\n",
    "                    continue\n",
    "                \n",
    "                description = api_c[\"game\"][\"innings\"][ing][\"halfs\"][hlf][\"events\"][atb][\"at_bat\"][\"description\"]\n",
    "\n",
    "                if 'weather' in api_c[\"game\"][\"innings\"][ing][\"halfs\"][hlf]:\n",
    "                    if \"temp_f\" not in api_c[\"game\"][\"innings\"][ing][\"halfs\"][hlf][\"weather\"][\"current_conditions\"]:\n",
    "                        temp_f = np.nan\n",
    "                    else:\n",
    "                        temp_f = api_c[\"game\"][\"innings\"][ing][\"halfs\"][hlf][\"weather\"][\"current_conditions\"][\"temp_f\"]\n",
    "                    \n",
    "                    if \"condition\" not in api_c[\"game\"][\"innings\"][ing][\"halfs\"][hlf][\"weather\"][\"current_conditions\"]:\n",
    "                        weather_condition = np.nan\n",
    "                    else:    \n",
    "                        weather_condition = api_c[\"game\"][\"innings\"][ing][\"halfs\"][hlf][\"weather\"][\"current_conditions\"][\"condition\"]\n",
    "                    \n",
    "                    if \"humidity\" not in api_c[\"game\"][\"innings\"][ing][\"halfs\"][hlf][\"weather\"][\"current_conditions\"]:\n",
    "                        humidity  = np.nan\n",
    "                    else:\n",
    "                        humidity = api_c[\"game\"][\"innings\"][ing][\"halfs\"][hlf][\"weather\"][\"current_conditions\"][\"humidity\"]\n",
    "                        \n",
    "                    if \"wind\" not in api_c[\"game\"][\"innings\"][ing][\"halfs\"][hlf][\"weather\"][\"current_conditions\"]:\n",
    "                        wind_speed_mph  = np.nan\n",
    "                        \n",
    "                    else:  \n",
    "                        wind_speed_mph = api_c[\"game\"][\"innings\"][ing][\"halfs\"][hlf][\"weather\"][\"current_conditions\"][\"wind\"][\"speed_mph\"]\n",
    "                    \n",
    "                else:  \n",
    "                    temp_f = np.nan\n",
    "                    weather_condition = np.nan\n",
    "                    humidity = np.nan\n",
    "                    wind_speed_mph = np.nan\n",
    "            \n",
    "                _temp = pd.DataFrame(list((id, game_id, inning, side, hitter_id, hitter_hand, pitcher_id, pitcher_hand, description, temp_f, weather_condition, humidity, wind_speed_mph))).T\n",
    "                \n",
    "                _temp.columns = columns\n",
    "                \n",
    "                at_bat_df = pd.concat((at_bat_df, _temp))\n",
    "                \n",
    "at_bat_df = at_bat_df.set_index(\"id\")"
   ]
  },
  {
   "cell_type": "code",
   "execution_count": 2,
   "metadata": {},
   "outputs": [],
   "source": [
    "#reading .csv verison\n",
    "at_bat_df = pd.read_csv(\"../raw_data/all_ab_raw_data.csv\")\n"
   ]
  },
  {
   "cell_type": "code",
   "execution_count": 7,
   "metadata": {},
   "outputs": [],
   "source": [
    "#Mapping descriptions to outcome codes\n",
    "search_substrings = [\"walks\", \"walked\", \"hit by pitch\", \"singles\", \"doubles\", \"triples\", \"homers\", \"strikes out\"]\n",
    "mapping = [\"walk\", \"walk\", \"HBP\", \"1B\", \"2B\", \"3B\", \"HR\", \"SO\"]\n",
    "\n",
    "for substring, value in zip(search_substrings, mapping):\n",
    "    # Check if the substring is present in the column\n",
    "    mask = at_bat_df['description'].str.contains(substring, case=False)\n",
    "    # Assign the corresponding value to the 'result' column where the mask is True\n",
    "    at_bat_df.loc[mask, 'play_outcome'] = value\n",
    "\n",
    "at_bat_df['play_outcome'] = at_bat_df['play_outcome'].fillna(\"IPO\")"
   ]
  },
  {
   "cell_type": "code",
   "execution_count": 13,
   "metadata": {},
   "outputs": [],
   "source": [
    "#Mapping outcomes to multi-class targets\n",
    "outcome_mapping = {\"walk\": 1,\n",
    "                   \"HBP\": 1,\n",
    "                   \"1B\": 1,\n",
    "                   \"2B\": 2,\n",
    "                   \"3B\": 3,\n",
    "                   \"HR\": 4,\n",
    "                   \"SO\": 0,\n",
    "                   \"IPO\": 0}\n",
    "\n",
    "at_bat_df[\"mc_target\"] = at_bat_df[\"play_outcome\"].map(lambda x: outcome_mapping[x])"
   ]
  },
  {
   "cell_type": "code",
   "execution_count": 15,
   "metadata": {},
   "outputs": [],
   "source": [
    "#Mapping multi-class targets to binary targets, final target for model\n",
    "at_bat_df[\"y_target\"] = at_bat_df[\"mc_target\"].map(lambda x: 0 if x  == 0 else 1)"
   ]
  },
  {
   "cell_type": "markdown",
   "metadata": {},
   "source": []
  },
  {
   "cell_type": "code",
   "execution_count": 25,
   "metadata": {},
   "outputs": [],
   "source": [
    "#Writing final raw data set with targets to .csv to share and reuse\n",
    "at_bat_df.to_csv('../data/all_ab_raw_data_w_target.csv', index=True)"
   ]
  }
 ],
 "metadata": {
  "kernelspec": {
   "display_name": "mlb_classification",
   "language": "python",
   "name": "python3"
  },
  "language_info": {
   "codemirror_mode": {
    "name": "ipython",
    "version": 3
   },
   "file_extension": ".py",
   "mimetype": "text/x-python",
   "name": "python",
   "nbconvert_exporter": "python",
   "pygments_lexer": "ipython3",
   "version": "3.10.6"
  },
  "orig_nbformat": 4
 },
 "nbformat": 4,
 "nbformat_minor": 2
}
