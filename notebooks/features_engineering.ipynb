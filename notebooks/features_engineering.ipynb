{
 "cells": [
  {
   "cell_type": "markdown",
   "metadata": {},
   "source": [
    "# Features engineering"
   ]
  },
  {
   "cell_type": "code",
   "execution_count": 2,
   "metadata": {},
   "outputs": [],
   "source": [
    "# Libraries and parameters\n",
    "import pandas as pd\n",
    "pd.set_option('display.max_columns', None)\n",
    "import math\n",
    "\n",
    "# Functions\n"
   ]
  },
  {
   "cell_type": "code",
   "execution_count": null,
   "metadata": {},
   "outputs": [],
   "source": [
    "# Import data\n",
    "data = pd.read_csv(\"../raw_data/players.csv\")"
   ]
  },
  {
   "cell_type": "code",
   "execution_count": 3,
   "metadata": {},
   "outputs": [],
   "source": [
    "def haversine(lat1, lon1, lat2, lon2):\n",
    "    \"\"\"\n",
    "    Calculate the distance between the home team and the away team\n",
    "    => return the distance in kilometer\n",
    "    \"\"\"\n",
    "    lat1 = math.radians(lat1)\n",
    "    lon1 = math.radians(lon1)\n",
    "    lat2 = math.radians(lat2)\n",
    "    lon2 = math.radians(lon2)\n",
    "\n",
    "    radius = 6371.0\n",
    "\n",
    "    dlon = lon2 - lon1\n",
    "    dlat = lat2 - lat1\n",
    "    a = math.sin(dlat / 2)**2 + math.cos(lat1) * math.cos(lat2) * math.sin(dlon / 2)**2\n",
    "    c = 2 * math.atan2(math.sqrt(a), math.sqrt(1 - a))\n",
    "    distance = radius * c\n",
    "\n",
    "    return distance"
   ]
  },
  {
   "cell_type": "code",
   "execution_count": null,
   "metadata": {},
   "outputs": [],
   "source": [
    "# Calculate distance between home and away team\n",
    "data[\"distance\"] = data.apply(lambda row: haversine(row[\"stadium_lat\"], row[\"stadium_lon\"], row[\"away_stadium_lat\"], row[\"away_stadium_lon\"]), axis=1)"
   ]
  },
  {
   "cell_type": "code",
   "execution_count": null,
   "metadata": {},
   "outputs": [],
   "source": [
    "# Calculate stats of bater before he bats\n",
    "pd.to_datetime()\n",
    "\n",
    "\n",
    "data[\"hitter_previous_stats\"] = data.apply((lambda row: data.iloc[0:row.name][data[\"hitter_id\"] == row[\"hitter_id\"]][\"y_target\"].mean()), axis=1)"
   ]
  },
  {
   "cell_type": "code",
   "execution_count": null,
   "metadata": {},
   "outputs": [],
   "source": [
    "# Calculate stats of pitcher before he pitchs\n",
    "\n",
    "\n",
    "data[\"pitcher_previous_stats\"] = data.apply((lambda row: data.iloc[0:row.name][data[\"pitcher_id\"] == row[\"pitcher_id\"]][\"y_target\"].mean()), axis=1)"
   ]
  }
 ],
 "metadata": {
  "kernelspec": {
   "display_name": "mlb_classification",
   "language": "python",
   "name": "python3"
  },
  "language_info": {
   "codemirror_mode": {
    "name": "ipython",
    "version": 3
   },
   "file_extension": ".py",
   "mimetype": "text/x-python",
   "name": "python",
   "nbconvert_exporter": "python",
   "pygments_lexer": "ipython3",
   "version": "3.10.6"
  },
  "orig_nbformat": 4
 },
 "nbformat": 4,
 "nbformat_minor": 2
}
