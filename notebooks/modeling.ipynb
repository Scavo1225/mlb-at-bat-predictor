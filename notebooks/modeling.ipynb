{
 "cells": [
  {
   "cell_type": "markdown",
   "metadata": {},
   "source": [
    "# Modeling after Preprocessing"
   ]
  },
  {
   "cell_type": "code",
   "execution_count": 1,
   "metadata": {},
   "outputs": [],
   "source": [
    "import pandas as pd\n",
    "import numpy as np\n",
    "import seaborn as sns\n",
    "from sklearn.model_selection import cross_val_score\n",
    "from sklearn.linear_model import LogisticRegression\n",
    "\n",
    "from imblearn.over_sampling import SMOTE\n"
   ]
  },
  {
   "cell_type": "code",
   "execution_count": null,
   "metadata": {},
   "outputs": [],
   "source": [
    "#Loading X_train, y_train, X_test, y_test from .csv creating in preprocessing\n",
    "X_train = pd.read_csv('../raw_data/X_train_preproc')\n",
    "y_train = pd.read_csv('../raw_data/y_train_preproc')\n",
    "X_test = pd.read_csv('../raw_data/X_test_preproc')\n",
    "y_test = pd.read_csv('../raw_data/y_test_preproc')"
   ]
  },
  {
   "cell_type": "code",
   "execution_count": null,
   "metadata": {},
   "outputs": [],
   "source": [
    "#Setting baseline score as % of outs (Class 0)\n",
    "baseline_score = y_train.value_counts(normalize=True)[0]"
   ]
  },
  {
   "cell_type": "code",
   "execution_count": null,
   "metadata": {},
   "outputs": [],
   "source": [
    "#Utilizing the SMOTE method to resample X_train, y_train to balance the data set\n",
    "X_train_resampled, y_train_resampled = SMOTE().fit_resample(X_train, y_train)"
   ]
  },
  {
   "cell_type": "code",
   "execution_count": null,
   "metadata": {},
   "outputs": [],
   "source": [
    "# Checking the rebalancing was correct in terms of y_target split\n",
    "print(X_train.shape, y_train.shape, y_train.value_counts(normalize=True))\n",
    "print(X_train_resampled.shape, y_train_resampled.shape, y_train.value_counts(normalize=True))"
   ]
  },
  {
   "cell_type": "code",
   "execution_count": null,
   "metadata": {},
   "outputs": [],
   "source": [
    "#Instantiating basic Logisitic Regression model and fitting to balanced data\n",
    "log_model = LogisticRegression()\n",
    "log_model.fit(X_train_resampled, y_train_resampled)"
   ]
  },
  {
   "cell_type": "code",
   "execution_count": null,
   "metadata": {},
   "outputs": [],
   "source": [
    "#Feature Permutation\n",
    "permutation_score = permutation_importance(log_model, X_train_resampled, y_train_resampled, n_repeats=25)\n",
    "\n",
    "importance_df = pd.DataFrame(np.vstack((X_train_resampled.columns,\n",
    "                                        permutation_score.importances_mean)).T) \n",
    "importance_df.columns=['feature','score decrease']\n",
    "\n",
    "importance_df.sort_values(by=\"score decrease\", ascending = False) "
   ]
  },
  {
   "cell_type": "code",
   "execution_count": null,
   "metadata": {},
   "outputs": [],
   "source": []
  }
 ],
 "metadata": {
  "kernelspec": {
   "display_name": "mlb_classification",
   "language": "python",
   "name": "python3"
  },
  "language_info": {
   "codemirror_mode": {
    "name": "ipython",
    "version": 3
   },
   "file_extension": ".py",
   "mimetype": "text/x-python",
   "name": "python",
   "nbconvert_exporter": "python",
   "pygments_lexer": "ipython3",
   "version": "3.10.6"
  },
  "orig_nbformat": 4
 },
 "nbformat": 4,
 "nbformat_minor": 2
}
