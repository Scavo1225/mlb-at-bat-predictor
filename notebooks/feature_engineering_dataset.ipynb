{
 "cells": [
  {
   "cell_type": "markdown",
   "metadata": {},
   "source": [
    "# Merging table to create Dataset for feature engineering"
   ]
  },
  {
   "cell_type": "code",
   "execution_count": 37,
   "metadata": {},
   "outputs": [],
   "source": [
    "import pandas as pd\n",
    "import numpy as np\n",
    "import datetime as dt\n",
    "\n",
    "pd.set_option('display.max_columns', None)"
   ]
  },
  {
   "cell_type": "code",
   "execution_count": 38,
   "metadata": {},
   "outputs": [],
   "source": [
    "# Data import\n",
    "games = pd.read_csv(\"../raw_data/games_w_venue.csv\", index_col=\"Unnamed: 0\")\n",
    "players = pd.read_csv(\"../raw_data/players.csv\", index_col=\"Unnamed: 0\")\n",
    "teams = pd.read_csv(\"../raw_data/teams.csv\")\n",
    "data = pd.read_csv(\"../raw_data/all_ab_raw_data_w_target.csv\")"
   ]
  },
  {
   "cell_type": "code",
   "execution_count": 39,
   "metadata": {},
   "outputs": [
    {
     "data": {
      "text/plain": [
       "(142307, 19)"
      ]
     },
     "execution_count": 39,
     "metadata": {},
     "output_type": "execute_result"
    }
   ],
   "source": [
    "data.shape"
   ]
  },
  {
   "cell_type": "code",
   "execution_count": 40,
   "metadata": {},
   "outputs": [],
   "source": [
    "#classifying last pitch as ball or strike\n",
    "data[\"pitch_class\"] = data[\"pitch_location_zone\"].apply(lambda x: 0 if x < 10 else 1)\n",
    "data = data.drop(columns=\"pitch_location_zone\")"
   ]
  },
  {
   "cell_type": "code",
   "execution_count": 41,
   "metadata": {},
   "outputs": [
    {
     "data": {
      "text/plain": [
       "(142307, 37)"
      ]
     },
     "execution_count": 41,
     "metadata": {},
     "output_type": "execute_result"
    }
   ],
   "source": [
    "# Merging data and games\n",
    "games = games.rename(columns={\"id\": \"game_id\"})\n",
    "data = data.merge(games, how=\"left\", on='game_id')\n",
    "data.shape"
   ]
  },
  {
   "cell_type": "code",
   "execution_count": 42,
   "metadata": {},
   "outputs": [],
   "source": [
    "# Merging data and hitters\n",
    "hitters = players[~players.id.duplicated(keep=\"first\")]\n",
    "hitters = hitters.add_prefix(\"hitter_\")\n",
    "data = data.merge(hitters, how=\"left\", on=\"hitter_id\")"
   ]
  },
  {
   "cell_type": "code",
   "execution_count": 43,
   "metadata": {},
   "outputs": [
    {
     "data": {
      "text/plain": [
       "(142307, 47)"
      ]
     },
     "execution_count": 43,
     "metadata": {},
     "output_type": "execute_result"
    }
   ],
   "source": [
    "# Merging data and pitchers\n",
    "pitchers = players[~players.id.duplicated(keep=\"first\")]\n",
    "pitchers = pitchers.add_prefix(\"pitcher_\")\n",
    "data = data.merge(pitchers, how=\"left\", on=\"pitcher_id\")\n",
    "data.shape"
   ]
  },
  {
   "cell_type": "code",
   "execution_count": 44,
   "metadata": {},
   "outputs": [
    {
     "data": {
      "text/plain": [
       "(142307, 50)"
      ]
     },
     "execution_count": 44,
     "metadata": {},
     "output_type": "execute_result"
    }
   ],
   "source": [
    "# Merging data and home team\n",
    "home_team = teams.add_prefix(\"home_team_\")\n",
    "data = data.rename(columns={\"home_team\": \"home_team_id\"})\n",
    "data = data.merge(home_team, how=\"left\", on=\"home_team_id\")\n",
    "data.shape"
   ]
  },
  {
   "cell_type": "code",
   "execution_count": 45,
   "metadata": {},
   "outputs": [
    {
     "data": {
      "text/plain": [
       "(142307, 53)"
      ]
     },
     "execution_count": 45,
     "metadata": {},
     "output_type": "execute_result"
    }
   ],
   "source": [
    "# Merging data and away team\n",
    "away_team = teams.add_prefix(\"away_team_\")\n",
    "data = data.rename(columns={\"away_team\": \"away_team_id\"})\n",
    "data = data.merge(away_team, how=\"left\", on=\"away_team_id\")\n",
    "data.shape"
   ]
  },
  {
   "cell_type": "code",
   "execution_count": 46,
   "metadata": {},
   "outputs": [
    {
     "data": {
      "text/plain": [
       "Index(['id', 'game_id', 'hitter_id', 'hitter_hand', 'pitcher_id',\n",
       "       'pitcher_hand', 'description', 'temp_f', 'humidity', 'at_bat_end_time',\n",
       "       'pitch_speed_mph', 'pitch_count_at_bat',\n",
       "       'pitcher_pitch_count_at_bat_start', 'outs_at_start', 'play_outcome',\n",
       "       'mc_target', 'y_target', 'pitch_type_cat', 'pitch_class', 'status',\n",
       "       'coverage', 'game_number', 'day_night', 'scheduled', 'home_team_id',\n",
       "       'away_team_id', 'attendance', 'duration', 'double_header', 'entry_mode',\n",
       "       'reference', 'venue', 'home', 'away', 'broadcast', 'rescheduled',\n",
       "       'venue_id', 'hitter_player_name', 'hitter_team_id', 'hitter_team_name',\n",
       "       'hitter_position', 'hitter_primary_position', 'pitcher_player_name',\n",
       "       'pitcher_team_id', 'pitcher_team_name', 'pitcher_position',\n",
       "       'pitcher_primary_position', 'home_team_name', 'home_team_market',\n",
       "       'home_team_abbr', 'away_team_name', 'away_team_market',\n",
       "       'away_team_abbr'],\n",
       "      dtype='object')"
      ]
     },
     "execution_count": 46,
     "metadata": {},
     "output_type": "execute_result"
    }
   ],
   "source": [
    "data.columns"
   ]
  },
  {
   "cell_type": "code",
   "execution_count": 47,
   "metadata": {},
   "outputs": [
    {
     "data": {
      "text/plain": [
       "Index(['id', 'game_id', 'hitter_id', 'hitter_hand', 'pitcher_id',\n",
       "       'pitcher_hand', 'description', 'temp_f', 'humidity', 'at_bat_end_time',\n",
       "       'pitch_speed_mph', 'pitch_count_at_bat',\n",
       "       'pitcher_pitch_count_at_bat_start', 'outs_at_start', 'play_outcome',\n",
       "       'mc_target', 'y_target', 'pitch_type_cat', 'pitch_class', 'status',\n",
       "       'coverage', 'game_number', 'day_night', 'scheduled', 'home_team_id',\n",
       "       'away_team_id', 'attendance', 'duration', 'double_header', 'entry_mode',\n",
       "       'reference', 'venue', 'home', 'away', 'broadcast', 'rescheduled',\n",
       "       'venue_id', 'hitter_player_name', 'hitter_team_id', 'hitter_team_name',\n",
       "       'hitter_position', 'hitter_primary_position', 'pitcher_player_name',\n",
       "       'pitcher_team_id', 'pitcher_team_name', 'pitcher_position',\n",
       "       'pitcher_primary_position', 'home_team_name', 'home_team_market',\n",
       "       'home_team_abbr', 'away_team_name', 'away_team_market',\n",
       "       'away_team_abbr'],\n",
       "      dtype='object')"
      ]
     },
     "execution_count": 47,
     "metadata": {},
     "output_type": "execute_result"
    }
   ],
   "source": [
    "data.columns"
   ]
  },
  {
   "cell_type": "code",
   "execution_count": 48,
   "metadata": {},
   "outputs": [],
   "source": [
    "columns_to_remove_fp = list(('description','scheduled',\n",
    "                            'status', 'coverage', 'game_number', \n",
    "                            'duration', 'double_header', 'entry_mode', 'reference', \n",
    "                            'venue', 'home', 'away', 'broadcast', 'rescheduled','hitter_team_id', 'hitter_team_name','pitcher_position',\n",
    "                            'pitcher_team_id', 'pitcher_team_name', 'home_team_name', 'home_team_market', 'home_team_abbr',\n",
    "                            'away_team_name', 'away_team_market', 'away_team_abbr'))"
   ]
  },
  {
   "cell_type": "code",
   "execution_count": 49,
   "metadata": {},
   "outputs": [],
   "source": [
    "data = data.drop(columns=columns_to_remove_fp)"
   ]
  },
  {
   "cell_type": "code",
   "execution_count": 50,
   "metadata": {},
   "outputs": [],
   "source": [
    "#Cleaning up data points\n",
    "data['outs_at_start'] = data['outs_at_start'].apply(lambda x: 2 if x == 3 else x)\n",
    "data['pitcher_pitch_count_at_bat_start'] = data['pitcher_pitch_count_at_bat_start'].apply(lambda x: 0 if x < 0 else x)"
   ]
  },
  {
   "cell_type": "code",
   "execution_count": 51,
   "metadata": {},
   "outputs": [],
   "source": [
    "#Coverting columns to the correct dtype\n",
    "data[\"at_bat_end_time\"] = pd.to_datetime(data[\"at_bat_end_time\"])"
   ]
  },
  {
   "cell_type": "code",
   "execution_count": 52,
   "metadata": {},
   "outputs": [
    {
     "name": "stdout",
     "output_type": "stream",
     "text": [
      "<class 'pandas.core.frame.DataFrame'>\n",
      "RangeIndex: 142307 entries, 0 to 142306\n",
      "Data columns (total 28 columns):\n",
      " #   Column                            Non-Null Count   Dtype              \n",
      "---  ------                            --------------   -----              \n",
      " 0   id                                142307 non-null  object             \n",
      " 1   game_id                           142307 non-null  object             \n",
      " 2   hitter_id                         142307 non-null  object             \n",
      " 3   hitter_hand                       142307 non-null  object             \n",
      " 4   pitcher_id                        142307 non-null  object             \n",
      " 5   pitcher_hand                      142307 non-null  object             \n",
      " 6   temp_f                            142307 non-null  float64            \n",
      " 7   humidity                          142307 non-null  float64            \n",
      " 8   at_bat_end_time                   142307 non-null  datetime64[ns, UTC]\n",
      " 9   pitch_speed_mph                   142307 non-null  float64            \n",
      " 10  pitch_count_at_bat                142307 non-null  float64            \n",
      " 11  pitcher_pitch_count_at_bat_start  142307 non-null  float64            \n",
      " 12  outs_at_start                     142307 non-null  float64            \n",
      " 13  play_outcome                      142307 non-null  object             \n",
      " 14  mc_target                         142307 non-null  int64              \n",
      " 15  y_target                          142307 non-null  int64              \n",
      " 16  pitch_type_cat                    142307 non-null  int64              \n",
      " 17  pitch_class                       142307 non-null  int64              \n",
      " 18  day_night                         142307 non-null  object             \n",
      " 19  home_team_id                      142307 non-null  object             \n",
      " 20  away_team_id                      142307 non-null  object             \n",
      " 21  attendance                        141860 non-null  float64            \n",
      " 22  venue_id                          142307 non-null  object             \n",
      " 23  hitter_player_name                142307 non-null  object             \n",
      " 24  hitter_position                   142307 non-null  object             \n",
      " 25  hitter_primary_position           142307 non-null  object             \n",
      " 26  pitcher_player_name               142307 non-null  object             \n",
      " 27  pitcher_primary_position          142307 non-null  object             \n",
      "dtypes: datetime64[ns, UTC](1), float64(7), int64(4), object(16)\n",
      "memory usage: 30.4+ MB\n"
     ]
    }
   ],
   "source": [
    "data.info()"
   ]
  },
  {
   "cell_type": "code",
   "execution_count": 53,
   "metadata": {},
   "outputs": [],
   "source": [
    "data = data.sort_values([\"at_bat_end_time\"], ignore_index=True, ascending=True)"
   ]
  },
  {
   "cell_type": "code",
   "execution_count": 54,
   "metadata": {},
   "outputs": [
    {
     "name": "stdout",
     "output_type": "stream",
     "text": [
      "<class 'pandas.core.frame.DataFrame'>\n",
      "RangeIndex: 142307 entries, 0 to 142306\n",
      "Data columns (total 28 columns):\n",
      " #   Column                            Non-Null Count   Dtype              \n",
      "---  ------                            --------------   -----              \n",
      " 0   id                                142307 non-null  object             \n",
      " 1   game_id                           142307 non-null  object             \n",
      " 2   hitter_id                         142307 non-null  object             \n",
      " 3   hitter_hand                       142307 non-null  object             \n",
      " 4   pitcher_id                        142307 non-null  object             \n",
      " 5   pitcher_hand                      142307 non-null  object             \n",
      " 6   temp_f                            142307 non-null  float64            \n",
      " 7   humidity                          142307 non-null  float64            \n",
      " 8   at_bat_end_time                   142307 non-null  datetime64[ns, UTC]\n",
      " 9   pitch_speed_mph                   142307 non-null  float64            \n",
      " 10  pitch_count_at_bat                142307 non-null  float64            \n",
      " 11  pitcher_pitch_count_at_bat_start  142307 non-null  float64            \n",
      " 12  outs_at_start                     142307 non-null  float64            \n",
      " 13  play_outcome                      142307 non-null  object             \n",
      " 14  mc_target                         142307 non-null  int64              \n",
      " 15  y_target                          142307 non-null  int64              \n",
      " 16  pitch_type_cat                    142307 non-null  int64              \n",
      " 17  pitch_class                       142307 non-null  int64              \n",
      " 18  day_night                         142307 non-null  object             \n",
      " 19  home_team_id                      142307 non-null  object             \n",
      " 20  away_team_id                      142307 non-null  object             \n",
      " 21  attendance                        141860 non-null  float64            \n",
      " 22  venue_id                          142307 non-null  object             \n",
      " 23  hitter_player_name                142307 non-null  object             \n",
      " 24  hitter_position                   142307 non-null  object             \n",
      " 25  hitter_primary_position           142307 non-null  object             \n",
      " 26  pitcher_player_name               142307 non-null  object             \n",
      " 27  pitcher_primary_position          142307 non-null  object             \n",
      "dtypes: datetime64[ns, UTC](1), float64(7), int64(4), object(16)\n",
      "memory usage: 30.4+ MB\n"
     ]
    }
   ],
   "source": [
    "data.info()"
   ]
  },
  {
   "cell_type": "code",
   "execution_count": 55,
   "metadata": {},
   "outputs": [],
   "source": [
    "data.to_csv('../raw_data/final_raw_data.csv', index=True)"
   ]
  }
 ],
 "metadata": {
  "kernelspec": {
   "display_name": "mlb_classification",
   "language": "python",
   "name": "python3"
  },
  "language_info": {
   "codemirror_mode": {
    "name": "ipython",
    "version": 3
   },
   "file_extension": ".py",
   "mimetype": "text/x-python",
   "name": "python",
   "nbconvert_exporter": "python",
   "pygments_lexer": "ipython3",
   "version": "3.10.6"
  },
  "orig_nbformat": 4
 },
 "nbformat": 4,
 "nbformat_minor": 2
}
