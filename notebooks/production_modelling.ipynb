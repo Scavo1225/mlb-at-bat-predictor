{
 "cells": [
  {
   "cell_type": "markdown",
   "metadata": {},
   "source": [
    "# Production modelling"
   ]
  },
  {
   "cell_type": "code",
   "execution_count": 188,
   "metadata": {},
   "outputs": [],
   "source": [
    "# Libraries and parameters\n",
    "import pandas as pd\n",
    "import numpy as np\n",
    "import matplotlib.pyplot as plt\n",
    "\n",
    "from sklearn.linear_model import LogisticRegression, SGDClassifier\n",
    "from sklearn.metrics import accuracy_score, recall_score, precision_score\n",
    "from sklearn.ensemble import GradientBoostingClassifier, RandomForestClassifier\n",
    "from sklearn.ensemble import HistGradientBoostingClassifier\n",
    "from sklearn.model_selection import cross_validate, learning_curve, GridSearchCV\n",
    "from sklearn.pipeline import Pipeline, make_pipeline\n",
    "from sklearn.model_selection import train_test_split\n",
    "\n",
    "from imblearn.over_sampling import SMOTE\n",
    "from imblearn.under_sampling import RandomUnderSampler"
   ]
  },
  {
   "cell_type": "code",
   "execution_count": 189,
   "metadata": {},
   "outputs": [],
   "source": [
    "#Loading X_train, y_train, X_test, y_test from .csv creating in preprocessing\n",
    "\n",
    "X_train = pd.read_csv('../preproc_data/X_train_preproc.csv', index_col=0)\n",
    "y_train = pd.read_csv('../preproc_data/y_train.csv', index_col=0)[\"y_target\"]\n",
    "\n",
    "X_test = pd.read_csv('../preproc_data/X_test_preproc.csv', index_col=0)\n",
    "y_test = pd.read_csv('../preproc_data/y_test.csv', index_col=0)[\"y_target\"]"
   ]
  },
  {
   "cell_type": "code",
   "execution_count": 290,
   "metadata": {},
   "outputs": [
    {
     "data": {
      "text/plain": [
       "y_target\n",
       "0    66451\n",
       "1    30926\n",
       "Name: count, dtype: int64"
      ]
     },
     "execution_count": 290,
     "metadata": {},
     "output_type": "execute_result"
    }
   ],
   "source": [
    "y_train.value_counts()"
   ]
  },
  {
   "cell_type": "code",
   "execution_count": 183,
   "metadata": {},
   "outputs": [],
   "source": [
    "from imblearn.pipeline import Pipeline\n",
    "\n",
    "# Sampling strategies\n",
    "over = SMOTE(sampling_strategy=0.48)\n",
    "under = RandomUnderSampler(sampling_strategy=0.5)\n",
    "\n",
    "from sklearn import set_config;  set_config(display = 'diagram')\n",
    "\n",
    "# Pipelining the two strategies\n",
    "steps =  [('o', over), ('u', under)]\n",
    "rebalancing_pipeline = Pipeline(steps=steps)\n",
    "rebalancing_pipeline\n",
    "\n",
    "# Rebalance the dataset\n",
    "X_train_resampled, y_train_resampled = rebalancing_pipeline.fit_resample(X_train, y_train)"
   ]
  },
  {
   "cell_type": "code",
   "execution_count": 5,
   "metadata": {},
   "outputs": [
    {
     "data": {
      "text/plain": [
       "y_target\n",
       "0    63876\n",
       "1    31938\n",
       "Name: count, dtype: int64"
      ]
     },
     "execution_count": 5,
     "metadata": {},
     "output_type": "execute_result"
    }
   ],
   "source": [
    "y_train_resampled.value_counts()"
   ]
  },
  {
   "cell_type": "markdown",
   "metadata": {},
   "source": [
    "## Logistic Regression with unbalanced dataset"
   ]
  },
  {
   "cell_type": "code",
   "execution_count": 6,
   "metadata": {},
   "outputs": [
    {
     "data": {
      "text/html": [
       "<style>#sk-container-id-1 {color: black;}#sk-container-id-1 pre{padding: 0;}#sk-container-id-1 div.sk-toggleable {background-color: white;}#sk-container-id-1 label.sk-toggleable__label {cursor: pointer;display: block;width: 100%;margin-bottom: 0;padding: 0.3em;box-sizing: border-box;text-align: center;}#sk-container-id-1 label.sk-toggleable__label-arrow:before {content: \"▸\";float: left;margin-right: 0.25em;color: #696969;}#sk-container-id-1 label.sk-toggleable__label-arrow:hover:before {color: black;}#sk-container-id-1 div.sk-estimator:hover label.sk-toggleable__label-arrow:before {color: black;}#sk-container-id-1 div.sk-toggleable__content {max-height: 0;max-width: 0;overflow: hidden;text-align: left;background-color: #f0f8ff;}#sk-container-id-1 div.sk-toggleable__content pre {margin: 0.2em;color: black;border-radius: 0.25em;background-color: #f0f8ff;}#sk-container-id-1 input.sk-toggleable__control:checked~div.sk-toggleable__content {max-height: 200px;max-width: 100%;overflow: auto;}#sk-container-id-1 input.sk-toggleable__control:checked~label.sk-toggleable__label-arrow:before {content: \"▾\";}#sk-container-id-1 div.sk-estimator input.sk-toggleable__control:checked~label.sk-toggleable__label {background-color: #d4ebff;}#sk-container-id-1 div.sk-label input.sk-toggleable__control:checked~label.sk-toggleable__label {background-color: #d4ebff;}#sk-container-id-1 input.sk-hidden--visually {border: 0;clip: rect(1px 1px 1px 1px);clip: rect(1px, 1px, 1px, 1px);height: 1px;margin: -1px;overflow: hidden;padding: 0;position: absolute;width: 1px;}#sk-container-id-1 div.sk-estimator {font-family: monospace;background-color: #f0f8ff;border: 1px dotted black;border-radius: 0.25em;box-sizing: border-box;margin-bottom: 0.5em;}#sk-container-id-1 div.sk-estimator:hover {background-color: #d4ebff;}#sk-container-id-1 div.sk-parallel-item::after {content: \"\";width: 100%;border-bottom: 1px solid gray;flex-grow: 1;}#sk-container-id-1 div.sk-label:hover label.sk-toggleable__label {background-color: #d4ebff;}#sk-container-id-1 div.sk-serial::before {content: \"\";position: absolute;border-left: 1px solid gray;box-sizing: border-box;top: 0;bottom: 0;left: 50%;z-index: 0;}#sk-container-id-1 div.sk-serial {display: flex;flex-direction: column;align-items: center;background-color: white;padding-right: 0.2em;padding-left: 0.2em;position: relative;}#sk-container-id-1 div.sk-item {position: relative;z-index: 1;}#sk-container-id-1 div.sk-parallel {display: flex;align-items: stretch;justify-content: center;background-color: white;position: relative;}#sk-container-id-1 div.sk-item::before, #sk-container-id-1 div.sk-parallel-item::before {content: \"\";position: absolute;border-left: 1px solid gray;box-sizing: border-box;top: 0;bottom: 0;left: 50%;z-index: -1;}#sk-container-id-1 div.sk-parallel-item {display: flex;flex-direction: column;z-index: 1;position: relative;background-color: white;}#sk-container-id-1 div.sk-parallel-item:first-child::after {align-self: flex-end;width: 50%;}#sk-container-id-1 div.sk-parallel-item:last-child::after {align-self: flex-start;width: 50%;}#sk-container-id-1 div.sk-parallel-item:only-child::after {width: 0;}#sk-container-id-1 div.sk-dashed-wrapped {border: 1px dashed gray;margin: 0 0.4em 0.5em 0.4em;box-sizing: border-box;padding-bottom: 0.4em;background-color: white;}#sk-container-id-1 div.sk-label label {font-family: monospace;font-weight: bold;display: inline-block;line-height: 1.2em;}#sk-container-id-1 div.sk-label-container {text-align: center;}#sk-container-id-1 div.sk-container {/* jupyter's `normalize.less` sets `[hidden] { display: none; }` but bootstrap.min.css set `[hidden] { display: none !important; }` so we also need the `!important` here to be able to override the default hidden behavior on the sphinx rendered scikit-learn.org. See: https://github.com/scikit-learn/scikit-learn/issues/21755 */display: inline-block !important;position: relative;}#sk-container-id-1 div.sk-text-repr-fallback {display: none;}</style><div id=\"sk-container-id-1\" class=\"sk-top-container\"><div class=\"sk-text-repr-fallback\"><pre>LogisticRegression(max_iter=500)</pre><b>In a Jupyter environment, please rerun this cell to show the HTML representation or trust the notebook. <br />On GitHub, the HTML representation is unable to render, please try loading this page with nbviewer.org.</b></div><div class=\"sk-container\" hidden><div class=\"sk-item\"><div class=\"sk-estimator sk-toggleable\"><input class=\"sk-toggleable__control sk-hidden--visually\" id=\"sk-estimator-id-1\" type=\"checkbox\" checked><label for=\"sk-estimator-id-1\" class=\"sk-toggleable__label sk-toggleable__label-arrow\">LogisticRegression</label><div class=\"sk-toggleable__content\"><pre>LogisticRegression(max_iter=500)</pre></div></div></div></div></div>"
      ],
      "text/plain": [
       "LogisticRegression(max_iter=500)"
      ]
     },
     "execution_count": 6,
     "metadata": {},
     "output_type": "execute_result"
    }
   ],
   "source": [
    "model = LogisticRegression(max_iter=500)\n",
    "model.fit(X_train, y_train)"
   ]
  },
  {
   "cell_type": "code",
   "execution_count": 7,
   "metadata": {},
   "outputs": [
    {
     "name": "stdout",
     "output_type": "stream",
     "text": [
      "Accuracy = 0.6880960368045239\n",
      "Recall = 0.08047346087992258\n",
      "Precision = 0.6191294387170676\n"
     ]
    }
   ],
   "source": [
    "y_pred = model.predict(X_test)\n",
    "\n",
    "print(\"Accuracy =\", accuracy_score(y_test, y_pred))\n",
    "print(\"Recall =\", recall_score(y_test, y_pred))\n",
    "print(\"Precision =\", precision_score(y_test, y_pred))"
   ]
  },
  {
   "cell_type": "markdown",
   "metadata": {},
   "source": [
    "## Logistic regretion with balanced dataset"
   ]
  },
  {
   "cell_type": "code",
   "execution_count": 8,
   "metadata": {},
   "outputs": [
    {
     "data": {
      "text/html": [
       "<style>#sk-container-id-2 {color: black;}#sk-container-id-2 pre{padding: 0;}#sk-container-id-2 div.sk-toggleable {background-color: white;}#sk-container-id-2 label.sk-toggleable__label {cursor: pointer;display: block;width: 100%;margin-bottom: 0;padding: 0.3em;box-sizing: border-box;text-align: center;}#sk-container-id-2 label.sk-toggleable__label-arrow:before {content: \"▸\";float: left;margin-right: 0.25em;color: #696969;}#sk-container-id-2 label.sk-toggleable__label-arrow:hover:before {color: black;}#sk-container-id-2 div.sk-estimator:hover label.sk-toggleable__label-arrow:before {color: black;}#sk-container-id-2 div.sk-toggleable__content {max-height: 0;max-width: 0;overflow: hidden;text-align: left;background-color: #f0f8ff;}#sk-container-id-2 div.sk-toggleable__content pre {margin: 0.2em;color: black;border-radius: 0.25em;background-color: #f0f8ff;}#sk-container-id-2 input.sk-toggleable__control:checked~div.sk-toggleable__content {max-height: 200px;max-width: 100%;overflow: auto;}#sk-container-id-2 input.sk-toggleable__control:checked~label.sk-toggleable__label-arrow:before {content: \"▾\";}#sk-container-id-2 div.sk-estimator input.sk-toggleable__control:checked~label.sk-toggleable__label {background-color: #d4ebff;}#sk-container-id-2 div.sk-label input.sk-toggleable__control:checked~label.sk-toggleable__label {background-color: #d4ebff;}#sk-container-id-2 input.sk-hidden--visually {border: 0;clip: rect(1px 1px 1px 1px);clip: rect(1px, 1px, 1px, 1px);height: 1px;margin: -1px;overflow: hidden;padding: 0;position: absolute;width: 1px;}#sk-container-id-2 div.sk-estimator {font-family: monospace;background-color: #f0f8ff;border: 1px dotted black;border-radius: 0.25em;box-sizing: border-box;margin-bottom: 0.5em;}#sk-container-id-2 div.sk-estimator:hover {background-color: #d4ebff;}#sk-container-id-2 div.sk-parallel-item::after {content: \"\";width: 100%;border-bottom: 1px solid gray;flex-grow: 1;}#sk-container-id-2 div.sk-label:hover label.sk-toggleable__label {background-color: #d4ebff;}#sk-container-id-2 div.sk-serial::before {content: \"\";position: absolute;border-left: 1px solid gray;box-sizing: border-box;top: 0;bottom: 0;left: 50%;z-index: 0;}#sk-container-id-2 div.sk-serial {display: flex;flex-direction: column;align-items: center;background-color: white;padding-right: 0.2em;padding-left: 0.2em;position: relative;}#sk-container-id-2 div.sk-item {position: relative;z-index: 1;}#sk-container-id-2 div.sk-parallel {display: flex;align-items: stretch;justify-content: center;background-color: white;position: relative;}#sk-container-id-2 div.sk-item::before, #sk-container-id-2 div.sk-parallel-item::before {content: \"\";position: absolute;border-left: 1px solid gray;box-sizing: border-box;top: 0;bottom: 0;left: 50%;z-index: -1;}#sk-container-id-2 div.sk-parallel-item {display: flex;flex-direction: column;z-index: 1;position: relative;background-color: white;}#sk-container-id-2 div.sk-parallel-item:first-child::after {align-self: flex-end;width: 50%;}#sk-container-id-2 div.sk-parallel-item:last-child::after {align-self: flex-start;width: 50%;}#sk-container-id-2 div.sk-parallel-item:only-child::after {width: 0;}#sk-container-id-2 div.sk-dashed-wrapped {border: 1px dashed gray;margin: 0 0.4em 0.5em 0.4em;box-sizing: border-box;padding-bottom: 0.4em;background-color: white;}#sk-container-id-2 div.sk-label label {font-family: monospace;font-weight: bold;display: inline-block;line-height: 1.2em;}#sk-container-id-2 div.sk-label-container {text-align: center;}#sk-container-id-2 div.sk-container {/* jupyter's `normalize.less` sets `[hidden] { display: none; }` but bootstrap.min.css set `[hidden] { display: none !important; }` so we also need the `!important` here to be able to override the default hidden behavior on the sphinx rendered scikit-learn.org. See: https://github.com/scikit-learn/scikit-learn/issues/21755 */display: inline-block !important;position: relative;}#sk-container-id-2 div.sk-text-repr-fallback {display: none;}</style><div id=\"sk-container-id-2\" class=\"sk-top-container\"><div class=\"sk-text-repr-fallback\"><pre>LogisticRegression(max_iter=500)</pre><b>In a Jupyter environment, please rerun this cell to show the HTML representation or trust the notebook. <br />On GitHub, the HTML representation is unable to render, please try loading this page with nbviewer.org.</b></div><div class=\"sk-container\" hidden><div class=\"sk-item\"><div class=\"sk-estimator sk-toggleable\"><input class=\"sk-toggleable__control sk-hidden--visually\" id=\"sk-estimator-id-2\" type=\"checkbox\" checked><label for=\"sk-estimator-id-2\" class=\"sk-toggleable__label sk-toggleable__label-arrow\">LogisticRegression</label><div class=\"sk-toggleable__content\"><pre>LogisticRegression(max_iter=500)</pre></div></div></div></div></div>"
      ],
      "text/plain": [
       "LogisticRegression(max_iter=500)"
      ]
     },
     "execution_count": 8,
     "metadata": {},
     "output_type": "execute_result"
    }
   ],
   "source": [
    "model = LogisticRegression(max_iter=500)\n",
    "model.fit(X_train_resampled, y_train_resampled)"
   ]
  },
  {
   "cell_type": "code",
   "execution_count": 9,
   "metadata": {},
   "outputs": [
    {
     "name": "stdout",
     "output_type": "stream",
     "text": [
      "Accuracy = 0.6879283078545071\n",
      "Recall = 0.0982654656443088\n",
      "Precision = 0.5916629314208874\n"
     ]
    }
   ],
   "source": [
    "y_pred = model.predict(X_test)\n",
    "\n",
    "print(\"Accuracy =\", accuracy_score(y_test, y_pred))\n",
    "print(\"Recall =\", recall_score(y_test, y_pred))\n",
    "print(\"Precision =\", precision_score(y_test, y_pred))"
   ]
  },
  {
   "cell_type": "markdown",
   "metadata": {},
   "source": [
    "## Gradient Boosting Classifier"
   ]
  },
  {
   "cell_type": "code",
   "execution_count": 310,
   "metadata": {},
   "outputs": [
    {
     "data": {
      "text/html": [
       "<style>#sk-container-id-71 {color: black;}#sk-container-id-71 pre{padding: 0;}#sk-container-id-71 div.sk-toggleable {background-color: white;}#sk-container-id-71 label.sk-toggleable__label {cursor: pointer;display: block;width: 100%;margin-bottom: 0;padding: 0.3em;box-sizing: border-box;text-align: center;}#sk-container-id-71 label.sk-toggleable__label-arrow:before {content: \"▸\";float: left;margin-right: 0.25em;color: #696969;}#sk-container-id-71 label.sk-toggleable__label-arrow:hover:before {color: black;}#sk-container-id-71 div.sk-estimator:hover label.sk-toggleable__label-arrow:before {color: black;}#sk-container-id-71 div.sk-toggleable__content {max-height: 0;max-width: 0;overflow: hidden;text-align: left;background-color: #f0f8ff;}#sk-container-id-71 div.sk-toggleable__content pre {margin: 0.2em;color: black;border-radius: 0.25em;background-color: #f0f8ff;}#sk-container-id-71 input.sk-toggleable__control:checked~div.sk-toggleable__content {max-height: 200px;max-width: 100%;overflow: auto;}#sk-container-id-71 input.sk-toggleable__control:checked~label.sk-toggleable__label-arrow:before {content: \"▾\";}#sk-container-id-71 div.sk-estimator input.sk-toggleable__control:checked~label.sk-toggleable__label {background-color: #d4ebff;}#sk-container-id-71 div.sk-label input.sk-toggleable__control:checked~label.sk-toggleable__label {background-color: #d4ebff;}#sk-container-id-71 input.sk-hidden--visually {border: 0;clip: rect(1px 1px 1px 1px);clip: rect(1px, 1px, 1px, 1px);height: 1px;margin: -1px;overflow: hidden;padding: 0;position: absolute;width: 1px;}#sk-container-id-71 div.sk-estimator {font-family: monospace;background-color: #f0f8ff;border: 1px dotted black;border-radius: 0.25em;box-sizing: border-box;margin-bottom: 0.5em;}#sk-container-id-71 div.sk-estimator:hover {background-color: #d4ebff;}#sk-container-id-71 div.sk-parallel-item::after {content: \"\";width: 100%;border-bottom: 1px solid gray;flex-grow: 1;}#sk-container-id-71 div.sk-label:hover label.sk-toggleable__label {background-color: #d4ebff;}#sk-container-id-71 div.sk-serial::before {content: \"\";position: absolute;border-left: 1px solid gray;box-sizing: border-box;top: 0;bottom: 0;left: 50%;z-index: 0;}#sk-container-id-71 div.sk-serial {display: flex;flex-direction: column;align-items: center;background-color: white;padding-right: 0.2em;padding-left: 0.2em;position: relative;}#sk-container-id-71 div.sk-item {position: relative;z-index: 1;}#sk-container-id-71 div.sk-parallel {display: flex;align-items: stretch;justify-content: center;background-color: white;position: relative;}#sk-container-id-71 div.sk-item::before, #sk-container-id-71 div.sk-parallel-item::before {content: \"\";position: absolute;border-left: 1px solid gray;box-sizing: border-box;top: 0;bottom: 0;left: 50%;z-index: -1;}#sk-container-id-71 div.sk-parallel-item {display: flex;flex-direction: column;z-index: 1;position: relative;background-color: white;}#sk-container-id-71 div.sk-parallel-item:first-child::after {align-self: flex-end;width: 50%;}#sk-container-id-71 div.sk-parallel-item:last-child::after {align-self: flex-start;width: 50%;}#sk-container-id-71 div.sk-parallel-item:only-child::after {width: 0;}#sk-container-id-71 div.sk-dashed-wrapped {border: 1px dashed gray;margin: 0 0.4em 0.5em 0.4em;box-sizing: border-box;padding-bottom: 0.4em;background-color: white;}#sk-container-id-71 div.sk-label label {font-family: monospace;font-weight: bold;display: inline-block;line-height: 1.2em;}#sk-container-id-71 div.sk-label-container {text-align: center;}#sk-container-id-71 div.sk-container {/* jupyter's `normalize.less` sets `[hidden] { display: none; }` but bootstrap.min.css set `[hidden] { display: none !important; }` so we also need the `!important` here to be able to override the default hidden behavior on the sphinx rendered scikit-learn.org. See: https://github.com/scikit-learn/scikit-learn/issues/21755 */display: inline-block !important;position: relative;}#sk-container-id-71 div.sk-text-repr-fallback {display: none;}</style><div id=\"sk-container-id-71\" class=\"sk-top-container\"><div class=\"sk-text-repr-fallback\"><pre>GradientBoostingClassifier(n_estimators=30)</pre><b>In a Jupyter environment, please rerun this cell to show the HTML representation or trust the notebook. <br />On GitHub, the HTML representation is unable to render, please try loading this page with nbviewer.org.</b></div><div class=\"sk-container\" hidden><div class=\"sk-item\"><div class=\"sk-estimator sk-toggleable\"><input class=\"sk-toggleable__control sk-hidden--visually\" id=\"sk-estimator-id-75\" type=\"checkbox\" checked><label for=\"sk-estimator-id-75\" class=\"sk-toggleable__label sk-toggleable__label-arrow\">GradientBoostingClassifier</label><div class=\"sk-toggleable__content\"><pre>GradientBoostingClassifier(n_estimators=30)</pre></div></div></div></div></div>"
      ],
      "text/plain": [
       "GradientBoostingClassifier(n_estimators=30)"
      ]
     },
     "execution_count": 310,
     "metadata": {},
     "output_type": "execute_result"
    }
   ],
   "source": [
    "clf = GradientBoostingClassifier(loss=\"log_loss\", n_estimators=30, learning_rate=0.1)\n",
    "clf.fit(X_train, y_train)"
   ]
  },
  {
   "cell_type": "code",
   "execution_count": 311,
   "metadata": {},
   "outputs": [
    {
     "name": "stdout",
     "output_type": "stream",
     "text": [
      "Accuracy = 0.6941822015622754\n",
      "Recall = 0.05911883710475049\n",
      "Precision = 0.792964824120603\n"
     ]
    }
   ],
   "source": [
    "y_pred = clf.predict(X_test)\n",
    "\n",
    "print(\"Accuracy =\", accuracy_score(y_test, y_pred))\n",
    "print(\"Recall =\", recall_score(y_test, y_pred))\n",
    "print(\"Precision =\", precision_score(y_test, y_pred))"
   ]
  },
  {
   "cell_type": "code",
   "execution_count": 272,
   "metadata": {},
   "outputs": [
    {
     "data": {
      "text/plain": [
       "0    39796\n",
       "1     1938\n",
       "Name: count, dtype: int64"
      ]
     },
     "execution_count": 272,
     "metadata": {},
     "output_type": "execute_result"
    }
   ],
   "source": [
    "pd.DataFrame(y_pred).value_counts()"
   ]
  },
  {
   "cell_type": "code",
   "execution_count": 367,
   "metadata": {},
   "outputs": [
    {
     "data": {
      "text/html": [
       "<style>#sk-container-id-83 {color: black;}#sk-container-id-83 pre{padding: 0;}#sk-container-id-83 div.sk-toggleable {background-color: white;}#sk-container-id-83 label.sk-toggleable__label {cursor: pointer;display: block;width: 100%;margin-bottom: 0;padding: 0.3em;box-sizing: border-box;text-align: center;}#sk-container-id-83 label.sk-toggleable__label-arrow:before {content: \"▸\";float: left;margin-right: 0.25em;color: #696969;}#sk-container-id-83 label.sk-toggleable__label-arrow:hover:before {color: black;}#sk-container-id-83 div.sk-estimator:hover label.sk-toggleable__label-arrow:before {color: black;}#sk-container-id-83 div.sk-toggleable__content {max-height: 0;max-width: 0;overflow: hidden;text-align: left;background-color: #f0f8ff;}#sk-container-id-83 div.sk-toggleable__content pre {margin: 0.2em;color: black;border-radius: 0.25em;background-color: #f0f8ff;}#sk-container-id-83 input.sk-toggleable__control:checked~div.sk-toggleable__content {max-height: 200px;max-width: 100%;overflow: auto;}#sk-container-id-83 input.sk-toggleable__control:checked~label.sk-toggleable__label-arrow:before {content: \"▾\";}#sk-container-id-83 div.sk-estimator input.sk-toggleable__control:checked~label.sk-toggleable__label {background-color: #d4ebff;}#sk-container-id-83 div.sk-label input.sk-toggleable__control:checked~label.sk-toggleable__label {background-color: #d4ebff;}#sk-container-id-83 input.sk-hidden--visually {border: 0;clip: rect(1px 1px 1px 1px);clip: rect(1px, 1px, 1px, 1px);height: 1px;margin: -1px;overflow: hidden;padding: 0;position: absolute;width: 1px;}#sk-container-id-83 div.sk-estimator {font-family: monospace;background-color: #f0f8ff;border: 1px dotted black;border-radius: 0.25em;box-sizing: border-box;margin-bottom: 0.5em;}#sk-container-id-83 div.sk-estimator:hover {background-color: #d4ebff;}#sk-container-id-83 div.sk-parallel-item::after {content: \"\";width: 100%;border-bottom: 1px solid gray;flex-grow: 1;}#sk-container-id-83 div.sk-label:hover label.sk-toggleable__label {background-color: #d4ebff;}#sk-container-id-83 div.sk-serial::before {content: \"\";position: absolute;border-left: 1px solid gray;box-sizing: border-box;top: 0;bottom: 0;left: 50%;z-index: 0;}#sk-container-id-83 div.sk-serial {display: flex;flex-direction: column;align-items: center;background-color: white;padding-right: 0.2em;padding-left: 0.2em;position: relative;}#sk-container-id-83 div.sk-item {position: relative;z-index: 1;}#sk-container-id-83 div.sk-parallel {display: flex;align-items: stretch;justify-content: center;background-color: white;position: relative;}#sk-container-id-83 div.sk-item::before, #sk-container-id-83 div.sk-parallel-item::before {content: \"\";position: absolute;border-left: 1px solid gray;box-sizing: border-box;top: 0;bottom: 0;left: 50%;z-index: -1;}#sk-container-id-83 div.sk-parallel-item {display: flex;flex-direction: column;z-index: 1;position: relative;background-color: white;}#sk-container-id-83 div.sk-parallel-item:first-child::after {align-self: flex-end;width: 50%;}#sk-container-id-83 div.sk-parallel-item:last-child::after {align-self: flex-start;width: 50%;}#sk-container-id-83 div.sk-parallel-item:only-child::after {width: 0;}#sk-container-id-83 div.sk-dashed-wrapped {border: 1px dashed gray;margin: 0 0.4em 0.5em 0.4em;box-sizing: border-box;padding-bottom: 0.4em;background-color: white;}#sk-container-id-83 div.sk-label label {font-family: monospace;font-weight: bold;display: inline-block;line-height: 1.2em;}#sk-container-id-83 div.sk-label-container {text-align: center;}#sk-container-id-83 div.sk-container {/* jupyter's `normalize.less` sets `[hidden] { display: none; }` but bootstrap.min.css set `[hidden] { display: none !important; }` so we also need the `!important` here to be able to override the default hidden behavior on the sphinx rendered scikit-learn.org. See: https://github.com/scikit-learn/scikit-learn/issues/21755 */display: inline-block !important;position: relative;}#sk-container-id-83 div.sk-text-repr-fallback {display: none;}</style><div id=\"sk-container-id-83\" class=\"sk-top-container\"><div class=\"sk-text-repr-fallback\"><pre>HistGradientBoostingClassifier(early_stopping=False, max_iter=20, verbose=False)</pre><b>In a Jupyter environment, please rerun this cell to show the HTML representation or trust the notebook. <br />On GitHub, the HTML representation is unable to render, please try loading this page with nbviewer.org.</b></div><div class=\"sk-container\" hidden><div class=\"sk-item\"><div class=\"sk-estimator sk-toggleable\"><input class=\"sk-toggleable__control sk-hidden--visually\" id=\"sk-estimator-id-87\" type=\"checkbox\" checked><label for=\"sk-estimator-id-87\" class=\"sk-toggleable__label sk-toggleable__label-arrow\">HistGradientBoostingClassifier</label><div class=\"sk-toggleable__content\"><pre>HistGradientBoostingClassifier(early_stopping=False, max_iter=20, verbose=False)</pre></div></div></div></div></div>"
      ],
      "text/plain": [
       "HistGradientBoostingClassifier(early_stopping=False, max_iter=20, verbose=False)"
      ]
     },
     "execution_count": 367,
     "metadata": {},
     "output_type": "execute_result"
    }
   ],
   "source": [
    "hclf = HistGradientBoostingClassifier(loss=\"log_loss\",\n",
    "                                      learning_rate=0.1,\n",
    "                                      max_iter=20,\n",
    "                                      scoring=\"loss\",\n",
    "                                      validation_fraction=0.1,\n",
    "                                      verbose=False,\n",
    "                                      early_stopping=False,\n",
    "                                      )\n",
    "hclf.fit(X_train, y_train)"
   ]
  },
  {
   "cell_type": "code",
   "execution_count": 368,
   "metadata": {},
   "outputs": [
    {
     "name": "stdout",
     "output_type": "stream",
     "text": [
      "Accuracy = 0.6990223798341879\n",
      "Recall = 0.07994904840401619\n",
      "Precision = 0.7909562638991846\n"
     ]
    }
   ],
   "source": [
    "y_pred = hclf.predict(X_test)\n",
    "\n",
    "print(\"Accuracy =\", accuracy_score(y_test, y_pred))\n",
    "print(\"Recall =\", recall_score(y_test, y_pred))\n",
    "print(\"Precision =\", precision_score(y_test, y_pred))"
   ]
  },
  {
   "cell_type": "code",
   "execution_count": 365,
   "metadata": {},
   "outputs": [],
   "source": [
    "hclf_model = HistGradientBoostingClassifier(loss=\"log_loss\",\n",
    "                                      learning_rate=0.1,\n",
    "                                      max_iter=20,\n",
    "                                      scoring=\"precision\",\n",
    "                                      validation_fraction=0.1,\n",
    "                                      verbose=False,\n",
    "                                      early_stopping=False,\n",
    "                                      )\n",
    "\n",
    "cv_results = cross_validate(hclf_model, X_train, y_train, cv=5, n_jobs=-1, scoring=[\"accuracy\", \"recall\", \"precision\"])"
   ]
  },
  {
   "cell_type": "code",
   "execution_count": 366,
   "metadata": {},
   "outputs": [
    {
     "name": "stdout",
     "output_type": "stream",
     "text": [
      "Accuracy = 0.700986887518452\n",
      "Recall = 0.07938309077189712\n",
      "Precision = 0.7920859326432785\n"
     ]
    }
   ],
   "source": [
    "print(\"Accuracy =\", cv_results[\"test_accuracy\"].mean())\n",
    "print(\"Recall =\", cv_results[\"test_recall\"].mean())\n",
    "print(\"Precision =\", cv_results[\"test_precision\"].mean())"
   ]
  },
  {
   "cell_type": "code",
   "execution_count": 273,
   "metadata": {},
   "outputs": [],
   "source": [
    "test = pd.DataFrame(hclf.predict_proba(X_test))"
   ]
  },
  {
   "cell_type": "code",
   "execution_count": 277,
   "metadata": {},
   "outputs": [
    {
     "data": {
      "text/html": [
       "<div>\n",
       "<style scoped>\n",
       "    .dataframe tbody tr th:only-of-type {\n",
       "        vertical-align: middle;\n",
       "    }\n",
       "\n",
       "    .dataframe tbody tr th {\n",
       "        vertical-align: top;\n",
       "    }\n",
       "\n",
       "    .dataframe thead th {\n",
       "        text-align: right;\n",
       "    }\n",
       "</style>\n",
       "<table border=\"1\" class=\"dataframe\">\n",
       "  <thead>\n",
       "    <tr style=\"text-align: right;\">\n",
       "      <th></th>\n",
       "      <th>0</th>\n",
       "      <th>1</th>\n",
       "      <th>pred</th>\n",
       "    </tr>\n",
       "  </thead>\n",
       "  <tbody>\n",
       "    <tr>\n",
       "      <th>0</th>\n",
       "      <td>0.778709</td>\n",
       "      <td>0.221291</td>\n",
       "      <td>0</td>\n",
       "    </tr>\n",
       "    <tr>\n",
       "      <th>1</th>\n",
       "      <td>0.766050</td>\n",
       "      <td>0.233950</td>\n",
       "      <td>0</td>\n",
       "    </tr>\n",
       "    <tr>\n",
       "      <th>2</th>\n",
       "      <td>0.635511</td>\n",
       "      <td>0.364489</td>\n",
       "      <td>0</td>\n",
       "    </tr>\n",
       "    <tr>\n",
       "      <th>3</th>\n",
       "      <td>0.637649</td>\n",
       "      <td>0.362351</td>\n",
       "      <td>0</td>\n",
       "    </tr>\n",
       "    <tr>\n",
       "      <th>4</th>\n",
       "      <td>0.763646</td>\n",
       "      <td>0.236354</td>\n",
       "      <td>0</td>\n",
       "    </tr>\n",
       "    <tr>\n",
       "      <th>...</th>\n",
       "      <td>...</td>\n",
       "      <td>...</td>\n",
       "      <td>...</td>\n",
       "    </tr>\n",
       "    <tr>\n",
       "      <th>41729</th>\n",
       "      <td>0.637632</td>\n",
       "      <td>0.362368</td>\n",
       "      <td>0</td>\n",
       "    </tr>\n",
       "    <tr>\n",
       "      <th>41730</th>\n",
       "      <td>0.711252</td>\n",
       "      <td>0.288748</td>\n",
       "      <td>0</td>\n",
       "    </tr>\n",
       "    <tr>\n",
       "      <th>41731</th>\n",
       "      <td>0.720596</td>\n",
       "      <td>0.279404</td>\n",
       "      <td>0</td>\n",
       "    </tr>\n",
       "    <tr>\n",
       "      <th>41732</th>\n",
       "      <td>0.661786</td>\n",
       "      <td>0.338214</td>\n",
       "      <td>0</td>\n",
       "    </tr>\n",
       "    <tr>\n",
       "      <th>41733</th>\n",
       "      <td>0.690434</td>\n",
       "      <td>0.309566</td>\n",
       "      <td>0</td>\n",
       "    </tr>\n",
       "  </tbody>\n",
       "</table>\n",
       "<p>41734 rows × 3 columns</p>\n",
       "</div>"
      ],
      "text/plain": [
       "              0         1  pred\n",
       "0      0.778709  0.221291     0\n",
       "1      0.766050  0.233950     0\n",
       "2      0.635511  0.364489     0\n",
       "3      0.637649  0.362351     0\n",
       "4      0.763646  0.236354     0\n",
       "...         ...       ...   ...\n",
       "41729  0.637632  0.362368     0\n",
       "41730  0.711252  0.288748     0\n",
       "41731  0.720596  0.279404     0\n",
       "41732  0.661786  0.338214     0\n",
       "41733  0.690434  0.309566     0\n",
       "\n",
       "[41734 rows x 3 columns]"
      ]
     },
     "execution_count": 277,
     "metadata": {},
     "output_type": "execute_result"
    }
   ],
   "source": [
    "test[\"pred\"] = test[1].apply((lambda x: 1 if x > 0.49 else 0))\n",
    "test"
   ]
  },
  {
   "cell_type": "code",
   "execution_count": 278,
   "metadata": {},
   "outputs": [
    {
     "data": {
      "text/plain": [
       "pred\n",
       "0    39621\n",
       "1     2113\n",
       "Name: count, dtype: int64"
      ]
     },
     "execution_count": 278,
     "metadata": {},
     "output_type": "execute_result"
    }
   ],
   "source": [
    "test[\"pred\"].value_counts()"
   ]
  },
  {
   "cell_type": "code",
   "execution_count": 279,
   "metadata": {},
   "outputs": [
    {
     "name": "stdout",
     "output_type": "stream",
     "text": [
      "Accuracy = 0.7029520295202952\n",
      "Recall = 0.11471601978120785\n",
      "Precision = 0.7245622337908187\n"
     ]
    }
   ],
   "source": [
    "print(\"Accuracy =\", accuracy_score(y_test, test[\"pred\"]))\n",
    "print(\"Recall =\", recall_score(y_test, test[\"pred\"]))\n",
    "print(\"Precision =\", precision_score(y_test, test[\"pred\"]))"
   ]
  },
  {
   "cell_type": "markdown",
   "metadata": {},
   "source": [
    "### Tunning Gradient Boosting Classifier"
   ]
  },
  {
   "cell_type": "code",
   "execution_count": 269,
   "metadata": {},
   "outputs": [
    {
     "data": {
      "text/html": [
       "<style>#sk-container-id-77 {color: black;}#sk-container-id-77 pre{padding: 0;}#sk-container-id-77 div.sk-toggleable {background-color: white;}#sk-container-id-77 label.sk-toggleable__label {cursor: pointer;display: block;width: 100%;margin-bottom: 0;padding: 0.3em;box-sizing: border-box;text-align: center;}#sk-container-id-77 label.sk-toggleable__label-arrow:before {content: \"▸\";float: left;margin-right: 0.25em;color: #696969;}#sk-container-id-77 label.sk-toggleable__label-arrow:hover:before {color: black;}#sk-container-id-77 div.sk-estimator:hover label.sk-toggleable__label-arrow:before {color: black;}#sk-container-id-77 div.sk-toggleable__content {max-height: 0;max-width: 0;overflow: hidden;text-align: left;background-color: #f0f8ff;}#sk-container-id-77 div.sk-toggleable__content pre {margin: 0.2em;color: black;border-radius: 0.25em;background-color: #f0f8ff;}#sk-container-id-77 input.sk-toggleable__control:checked~div.sk-toggleable__content {max-height: 200px;max-width: 100%;overflow: auto;}#sk-container-id-77 input.sk-toggleable__control:checked~label.sk-toggleable__label-arrow:before {content: \"▾\";}#sk-container-id-77 div.sk-estimator input.sk-toggleable__control:checked~label.sk-toggleable__label {background-color: #d4ebff;}#sk-container-id-77 div.sk-label input.sk-toggleable__control:checked~label.sk-toggleable__label {background-color: #d4ebff;}#sk-container-id-77 input.sk-hidden--visually {border: 0;clip: rect(1px 1px 1px 1px);clip: rect(1px, 1px, 1px, 1px);height: 1px;margin: -1px;overflow: hidden;padding: 0;position: absolute;width: 1px;}#sk-container-id-77 div.sk-estimator {font-family: monospace;background-color: #f0f8ff;border: 1px dotted black;border-radius: 0.25em;box-sizing: border-box;margin-bottom: 0.5em;}#sk-container-id-77 div.sk-estimator:hover {background-color: #d4ebff;}#sk-container-id-77 div.sk-parallel-item::after {content: \"\";width: 100%;border-bottom: 1px solid gray;flex-grow: 1;}#sk-container-id-77 div.sk-label:hover label.sk-toggleable__label {background-color: #d4ebff;}#sk-container-id-77 div.sk-serial::before {content: \"\";position: absolute;border-left: 1px solid gray;box-sizing: border-box;top: 0;bottom: 0;left: 50%;z-index: 0;}#sk-container-id-77 div.sk-serial {display: flex;flex-direction: column;align-items: center;background-color: white;padding-right: 0.2em;padding-left: 0.2em;position: relative;}#sk-container-id-77 div.sk-item {position: relative;z-index: 1;}#sk-container-id-77 div.sk-parallel {display: flex;align-items: stretch;justify-content: center;background-color: white;position: relative;}#sk-container-id-77 div.sk-item::before, #sk-container-id-77 div.sk-parallel-item::before {content: \"\";position: absolute;border-left: 1px solid gray;box-sizing: border-box;top: 0;bottom: 0;left: 50%;z-index: -1;}#sk-container-id-77 div.sk-parallel-item {display: flex;flex-direction: column;z-index: 1;position: relative;background-color: white;}#sk-container-id-77 div.sk-parallel-item:first-child::after {align-self: flex-end;width: 50%;}#sk-container-id-77 div.sk-parallel-item:last-child::after {align-self: flex-start;width: 50%;}#sk-container-id-77 div.sk-parallel-item:only-child::after {width: 0;}#sk-container-id-77 div.sk-dashed-wrapped {border: 1px dashed gray;margin: 0 0.4em 0.5em 0.4em;box-sizing: border-box;padding-bottom: 0.4em;background-color: white;}#sk-container-id-77 div.sk-label label {font-family: monospace;font-weight: bold;display: inline-block;line-height: 1.2em;}#sk-container-id-77 div.sk-label-container {text-align: center;}#sk-container-id-77 div.sk-container {/* jupyter's `normalize.less` sets `[hidden] { display: none; }` but bootstrap.min.css set `[hidden] { display: none !important; }` so we also need the `!important` here to be able to override the default hidden behavior on the sphinx rendered scikit-learn.org. See: https://github.com/scikit-learn/scikit-learn/issues/21755 */display: inline-block !important;position: relative;}#sk-container-id-77 div.sk-text-repr-fallback {display: none;}</style><div id=\"sk-container-id-77\" class=\"sk-top-container\"><div class=\"sk-text-repr-fallback\"><pre>GridSearchCV(cv=5, estimator=GradientBoostingClassifier(), n_jobs=-1,\n",
       "             param_grid={&#x27;learning_rate&#x27;: [0.1],\n",
       "                         &#x27;n_estimators&#x27;: [100, 120, 150]},\n",
       "             scoring=&#x27;accuracy&#x27;)</pre><b>In a Jupyter environment, please rerun this cell to show the HTML representation or trust the notebook. <br />On GitHub, the HTML representation is unable to render, please try loading this page with nbviewer.org.</b></div><div class=\"sk-container\" hidden><div class=\"sk-item sk-dashed-wrapped\"><div class=\"sk-label-container\"><div class=\"sk-label sk-toggleable\"><input class=\"sk-toggleable__control sk-hidden--visually\" id=\"sk-estimator-id-106\" type=\"checkbox\" ><label for=\"sk-estimator-id-106\" class=\"sk-toggleable__label sk-toggleable__label-arrow\">GridSearchCV</label><div class=\"sk-toggleable__content\"><pre>GridSearchCV(cv=5, estimator=GradientBoostingClassifier(), n_jobs=-1,\n",
       "             param_grid={&#x27;learning_rate&#x27;: [0.1],\n",
       "                         &#x27;n_estimators&#x27;: [100, 120, 150]},\n",
       "             scoring=&#x27;accuracy&#x27;)</pre></div></div></div><div class=\"sk-parallel\"><div class=\"sk-parallel-item\"><div class=\"sk-item\"><div class=\"sk-label-container\"><div class=\"sk-label sk-toggleable\"><input class=\"sk-toggleable__control sk-hidden--visually\" id=\"sk-estimator-id-107\" type=\"checkbox\" ><label for=\"sk-estimator-id-107\" class=\"sk-toggleable__label sk-toggleable__label-arrow\">estimator: GradientBoostingClassifier</label><div class=\"sk-toggleable__content\"><pre>GradientBoostingClassifier()</pre></div></div></div><div class=\"sk-serial\"><div class=\"sk-item\"><div class=\"sk-estimator sk-toggleable\"><input class=\"sk-toggleable__control sk-hidden--visually\" id=\"sk-estimator-id-108\" type=\"checkbox\" ><label for=\"sk-estimator-id-108\" class=\"sk-toggleable__label sk-toggleable__label-arrow\">GradientBoostingClassifier</label><div class=\"sk-toggleable__content\"><pre>GradientBoostingClassifier()</pre></div></div></div></div></div></div></div></div></div></div>"
      ],
      "text/plain": [
       "GridSearchCV(cv=5, estimator=GradientBoostingClassifier(), n_jobs=-1,\n",
       "             param_grid={'learning_rate': [0.1],\n",
       "                         'n_estimators': [100, 120, 150]},\n",
       "             scoring='accuracy')"
      ]
     },
     "execution_count": 269,
     "metadata": {},
     "output_type": "execute_result"
    }
   ],
   "source": [
    "params = {\"n_estimators\": [100, 120, 150], \"learning_rate\": [0.1]}\n",
    "\n",
    "search = GridSearchCV(estimator=GradientBoostingClassifier(),\n",
    "                      param_grid=params,\n",
    "                      scoring=\"accuracy\",\n",
    "                      cv=5,\n",
    "                      n_jobs=-1)\n",
    "\n",
    "search.fit(X_train_resampled, y_train_resampled)"
   ]
  },
  {
   "cell_type": "code",
   "execution_count": 271,
   "metadata": {},
   "outputs": [
    {
     "data": {
      "text/plain": [
       "{'learning_rate': 0.1, 'n_estimators': 150}"
      ]
     },
     "execution_count": 271,
     "metadata": {},
     "output_type": "execute_result"
    }
   ],
   "source": [
    "search.best_params_"
   ]
  },
  {
   "cell_type": "code",
   "execution_count": 359,
   "metadata": {},
   "outputs": [],
   "source": [
    "# Get train scores (Accuracy), train sizes, and validation scores using `learning_curve`\n",
    "train_sizes, train_scores, test_scores = learning_curve(\n",
    "    estimator=HistGradientBoostingClassifier(learning_rate=0.1, max_iter=1000,), X=X_train_resampled, y=y_train_resampled, cv=5, scoring=\"accuracy\", n_jobs=-1)"
   ]
  },
  {
   "cell_type": "code",
   "execution_count": 360,
   "metadata": {},
   "outputs": [
    {
     "data": {
      "text/plain": [
       "<matplotlib.legend.Legend at 0x17b12a4d0>"
      ]
     },
     "execution_count": 360,
     "metadata": {},
     "output_type": "execute_result"
    },
    {
     "data": {
      "image/png": "[encoded data removed]",
      "text/plain": [
       "<Figure size 640x480 with 1 Axes>"
      ]
     },
     "metadata": {},
     "output_type": "display_data"
    }
   ],
   "source": [
    "# Take the mean of cross-validated train scores and validation scores\n",
    "train_scores_mean = np.mean(train_scores, axis=1)\n",
    "test_scores_mean = np.mean(test_scores, axis=1)\n",
    "plt.plot(train_sizes, train_scores_mean, label = 'Training score')\n",
    "plt.plot(train_sizes, test_scores_mean, label = 'Test score')\n",
    "plt.ylabel('Accuracy', fontsize = 14)\n",
    "plt.xlabel('Training set size', fontsize = 14)\n",
    "plt.title('Learning curves', fontsize = 18, y = 1.03)\n",
    "plt.legend()"
   ]
  },
  {
   "cell_type": "markdown",
   "metadata": {},
   "source": [
    "## CatBoost"
   ]
  },
  {
   "cell_type": "code",
   "execution_count": 284,
   "metadata": {},
   "outputs": [],
   "source": [
    "from catboost import CatBoostClassifier, Pool"
   ]
  },
  {
   "cell_type": "code",
   "execution_count": 285,
   "metadata": {},
   "outputs": [],
   "source": [
    "X_train_cb, X_val_cb, y_train_cb, y_val_cb = train_test_split(X_train, y_train, test_size=0.2)\n",
    "\n",
    "train_pool = Pool(data=X_train_cb, label=y_train_cb)\n",
    "val_pool = Pool(data=X_val_cb, label=y_val_cb)"
   ]
  },
  {
   "cell_type": "code",
   "execution_count": 288,
   "metadata": {},
   "outputs": [
    {
     "name": "stdout",
     "output_type": "stream",
     "text": [
      "0:\tlearn: 0.0186413\ttest: 0.0214655\tbest: 0.0214655 (0)\ttotal: 22.8ms\tremaining: 11.4s\n",
      "1:\tlearn: 0.0181561\ttest: 0.0217883\tbest: 0.0217883 (1)\ttotal: 30.8ms\tremaining: 7.67s\n",
      "2:\tlearn: 0.0277800\ttest: 0.0311491\tbest: 0.0311491 (2)\ttotal: 42.5ms\tremaining: 7.04s\n",
      "3:\tlearn: 0.0262030\ttest: 0.0293738\tbest: 0.0311491 (2)\ttotal: 52.1ms\tremaining: 6.46s\n",
      "4:\tlearn: 0.0240598\ttest: 0.0274371\tbest: 0.0311491 (2)\ttotal: 58.8ms\tremaining: 5.82s\n",
      "5:\tlearn: 0.0333603\ttest: 0.0338928\tbest: 0.0338928 (5)\ttotal: 67.4ms\tremaining: 5.55s\n",
      "6:\tlearn: 0.0302467\ttest: 0.0313105\tbest: 0.0338928 (5)\ttotal: 76.3ms\tremaining: 5.37s\n",
      "7:\tlearn: 0.0308937\ttest: 0.0303422\tbest: 0.0338928 (5)\ttotal: 85.7ms\tremaining: 5.27s\n",
      "8:\tlearn: 0.0306510\ttest: 0.0309877\tbest: 0.0338928 (5)\ttotal: 95.5ms\tremaining: 5.21s\n",
      "9:\tlearn: 0.0360291\ttest: 0.0334087\tbest: 0.0338928 (5)\ttotal: 104ms\tremaining: 5.08s\n",
      "10:\tlearn: 0.0375253\ttest: 0.0355068\tbest: 0.0355068 (10)\ttotal: 111ms\tremaining: 4.91s\n",
      "11:\tlearn: 0.0424586\ttest: 0.0411556\tbest: 0.0411556 (11)\ttotal: 120ms\tremaining: 4.89s\n",
      "12:\tlearn: 0.0431055\ttest: 0.0419626\tbest: 0.0419626 (12)\ttotal: 130ms\tremaining: 4.86s\n",
      "13:\tlearn: 0.0460574\ttest: 0.0451904\tbest: 0.0451904 (13)\ttotal: 138ms\tremaining: 4.79s\n",
      "14:\tlearn: 0.0473918\ttest: 0.0472886\tbest: 0.0472886 (14)\ttotal: 147ms\tremaining: 4.76s\n",
      "15:\tlearn: 0.0493328\ttest: 0.0484183\tbest: 0.0484183 (15)\ttotal: 157ms\tremaining: 4.75s\n",
      "16:\tlearn: 0.0512333\ttest: 0.0498709\tbest: 0.0498709 (16)\ttotal: 164ms\tremaining: 4.66s\n",
      "17:\tlearn: 0.0522442\ttest: 0.0513234\tbest: 0.0513234 (17)\ttotal: 174ms\tremaining: 4.65s\n",
      "18:\tlearn: 0.0543874\ttest: 0.0524532\tbest: 0.0524532 (18)\ttotal: 183ms\tremaining: 4.62s\n",
      "19:\tlearn: 0.0549939\ttest: 0.0527760\tbest: 0.0527760 (19)\ttotal: 191ms\tremaining: 4.57s\n",
      "20:\tlearn: 0.0566114\ttest: 0.0539057\tbest: 0.0539057 (20)\ttotal: 200ms\tremaining: 4.56s\n",
      "21:\tlearn: 0.0573797\ttest: 0.0545513\tbest: 0.0545513 (21)\ttotal: 209ms\tremaining: 4.54s\n",
      "22:\tlearn: 0.0584715\ttest: 0.0560039\tbest: 0.0560039 (22)\ttotal: 219ms\tremaining: 4.53s\n",
      "23:\tlearn: 0.0604933\ttest: 0.0589090\tbest: 0.0589090 (23)\ttotal: 228ms\tremaining: 4.53s\n",
      "24:\tlearn: 0.0613829\ttest: 0.0600387\tbest: 0.0600387 (24)\ttotal: 239ms\tremaining: 4.54s\n",
      "25:\tlearn: 0.0625556\ttest: 0.0611685\tbest: 0.0611685 (25)\ttotal: 250ms\tremaining: 4.56s\n",
      "26:\tlearn: 0.0627173\ttest: 0.0618141\tbest: 0.0618141 (26)\ttotal: 258ms\tremaining: 4.52s\n",
      "27:\tlearn: 0.0637283\ttest: 0.0634280\tbest: 0.0634280 (27)\ttotal: 267ms\tremaining: 4.51s\n",
      "28:\tlearn: 0.0657097\ttest: 0.0648806\tbest: 0.0648806 (28)\ttotal: 277ms\tremaining: 4.49s\n",
      "29:\tlearn: 0.0661949\ttest: 0.0660103\tbest: 0.0660103 (29)\ttotal: 286ms\tremaining: 4.48s\n",
      "30:\tlearn: 0.0667206\ttest: 0.0666559\tbest: 0.0666559 (30)\ttotal: 295ms\tremaining: 4.47s\n",
      "31:\tlearn: 0.0667610\ttest: 0.0677857\tbest: 0.0677857 (31)\ttotal: 305ms\tremaining: 4.46s\n",
      "32:\tlearn: 0.0673676\ttest: 0.0682699\tbest: 0.0682699 (32)\ttotal: 314ms\tremaining: 4.45s\n",
      "33:\tlearn: 0.0681359\ttest: 0.0684312\tbest: 0.0684312 (33)\ttotal: 324ms\tremaining: 4.43s\n",
      "34:\tlearn: 0.0693490\ttest: 0.0692382\tbest: 0.0692382 (34)\ttotal: 333ms\tremaining: 4.42s\n",
      "35:\tlearn: 0.0718156\ttest: 0.0713363\tbest: 0.0713363 (35)\ttotal: 342ms\tremaining: 4.4s\n",
      "36:\tlearn: 0.0718560\ttest: 0.0719819\tbest: 0.0719819 (36)\ttotal: 351ms\tremaining: 4.39s\n",
      "37:\tlearn: 0.0731096\ttest: 0.0724661\tbest: 0.0724661 (37)\ttotal: 360ms\tremaining: 4.38s\n",
      "38:\tlearn: 0.0741609\ttest: 0.0718205\tbest: 0.0724661 (37)\ttotal: 369ms\tremaining: 4.36s\n",
      "39:\tlearn: 0.0752123\ttest: 0.0726275\tbest: 0.0726275 (39)\ttotal: 378ms\tremaining: 4.35s\n",
      "40:\tlearn: 0.0759402\ttest: 0.0748870\tbest: 0.0748870 (40)\ttotal: 387ms\tremaining: 4.34s\n",
      "41:\tlearn: 0.0761019\ttest: 0.0752098\tbest: 0.0752098 (41)\ttotal: 397ms\tremaining: 4.33s\n",
      "42:\tlearn: 0.0769915\ttest: 0.0753712\tbest: 0.0753712 (42)\ttotal: 405ms\tremaining: 4.31s\n",
      "43:\tlearn: 0.0782450\ttest: 0.0758554\tbest: 0.0758554 (43)\ttotal: 415ms\tremaining: 4.3s\n",
      "44:\tlearn: 0.0789729\ttest: 0.0760168\tbest: 0.0760168 (44)\ttotal: 424ms\tremaining: 4.28s\n",
      "45:\tlearn: 0.0793368\ttest: 0.0763396\tbest: 0.0763396 (45)\ttotal: 433ms\tremaining: 4.27s\n",
      "46:\tlearn: 0.0807926\ttest: 0.0784377\tbest: 0.0784377 (46)\ttotal: 442ms\tremaining: 4.26s\n",
      "47:\tlearn: 0.0806712\ttest: 0.0785991\tbest: 0.0785991 (47)\ttotal: 451ms\tremaining: 4.24s\n",
      "48:\tlearn: 0.0813587\ttest: 0.0795675\tbest: 0.0795675 (48)\ttotal: 457ms\tremaining: 4.21s\n",
      "49:\tlearn: 0.0828548\ttest: 0.0808586\tbest: 0.0808586 (49)\ttotal: 468ms\tremaining: 4.21s\n",
      "50:\tlearn: 0.0841488\ttest: 0.0823112\tbest: 0.0823112 (50)\ttotal: 477ms\tremaining: 4.2s\n",
      "51:\tlearn: 0.0845127\ttest: 0.0831181\tbest: 0.0831181 (51)\ttotal: 486ms\tremaining: 4.19s\n",
      "52:\tlearn: 0.0857258\ttest: 0.0837637\tbest: 0.0837637 (52)\ttotal: 495ms\tremaining: 4.17s\n",
      "53:\tlearn: 0.0860493\ttest: 0.0839251\tbest: 0.0839251 (53)\ttotal: 504ms\tremaining: 4.16s\n",
      "54:\tlearn: 0.0872220\ttest: 0.0844093\tbest: 0.0844093 (54)\ttotal: 514ms\tremaining: 4.16s\n",
      "55:\tlearn: 0.0879903\ttest: 0.0857005\tbest: 0.0857005 (55)\ttotal: 522ms\tremaining: 4.14s\n",
      "56:\tlearn: 0.0885160\ttest: 0.0865074\tbest: 0.0865074 (56)\ttotal: 531ms\tremaining: 4.13s\n",
      "57:\tlearn: 0.0899313\ttest: 0.0877986\tbest: 0.0877986 (57)\ttotal: 541ms\tremaining: 4.12s\n",
      "58:\tlearn: 0.0905378\ttest: 0.0873144\tbest: 0.0877986 (57)\ttotal: 549ms\tremaining: 4.11s\n",
      "59:\tlearn: 0.0907400\ttest: 0.0876372\tbest: 0.0877986 (57)\ttotal: 559ms\tremaining: 4.1s\n",
      "60:\tlearn: 0.0911444\ttest: 0.0877986\tbest: 0.0877986 (57)\ttotal: 568ms\tremaining: 4.09s\n",
      "61:\tlearn: 0.0917105\ttest: 0.0882828\tbest: 0.0882828 (61)\ttotal: 577ms\tremaining: 4.08s\n",
      "62:\tlearn: 0.0923575\ttest: 0.0881214\tbest: 0.0882828 (61)\ttotal: 586ms\tremaining: 4.06s\n",
      "63:\tlearn: 0.0926405\ttest: 0.0886056\tbest: 0.0886056 (63)\ttotal: 595ms\tremaining: 4.05s\n",
      "64:\tlearn: 0.0927618\ttest: 0.0890897\tbest: 0.0890897 (64)\ttotal: 605ms\tremaining: 4.05s\n",
      "65:\tlearn: 0.0929640\ttest: 0.0895739\tbest: 0.0895739 (65)\ttotal: 614ms\tremaining: 4.04s\n",
      "66:\tlearn: 0.0931662\ttest: 0.0898967\tbest: 0.0898967 (66)\ttotal: 624ms\tremaining: 4.03s\n",
      "67:\tlearn: 0.0933279\ttest: 0.0898967\tbest: 0.0898967 (66)\ttotal: 633ms\tremaining: 4.02s\n",
      "68:\tlearn: 0.0937727\ttest: 0.0915107\tbest: 0.0915107 (68)\ttotal: 642ms\tremaining: 4.01s\n",
      "69:\tlearn: 0.0942175\ttest: 0.0916720\tbest: 0.0916720 (69)\ttotal: 653ms\tremaining: 4.01s\n",
      "70:\tlearn: 0.0941367\ttest: 0.0911879\tbest: 0.0916720 (69)\ttotal: 663ms\tremaining: 4.01s\n",
      "71:\tlearn: 0.0940154\ttest: 0.0915107\tbest: 0.0916720 (69)\ttotal: 673ms\tremaining: 4s\n",
      "72:\tlearn: 0.0942580\ttest: 0.0913493\tbest: 0.0916720 (69)\ttotal: 682ms\tremaining: 3.99s\n",
      "73:\tlearn: 0.0945006\ttest: 0.0913493\tbest: 0.0916720 (69)\ttotal: 691ms\tremaining: 3.98s\n",
      "74:\tlearn: 0.0945815\ttest: 0.0916720\tbest: 0.0916720 (69)\ttotal: 700ms\tremaining: 3.96s\n",
      "75:\tlearn: 0.0949858\ttest: 0.0921562\tbest: 0.0921562 (75)\ttotal: 709ms\tremaining: 3.95s\n",
      "76:\tlearn: 0.0955115\ttest: 0.0921562\tbest: 0.0921562 (75)\ttotal: 718ms\tremaining: 3.94s\n",
      "77:\tlearn: 0.0957946\ttest: 0.0924790\tbest: 0.0924790 (77)\ttotal: 727ms\tremaining: 3.93s\n",
      "78:\tlearn: 0.0965224\ttest: 0.0934474\tbest: 0.0934474 (78)\ttotal: 736ms\tremaining: 3.92s\n",
      "79:\tlearn: 0.0974525\ttest: 0.0947385\tbest: 0.0947385 (79)\ttotal: 746ms\tremaining: 3.91s\n",
      "80:\tlearn: 0.0978164\ttest: 0.0947385\tbest: 0.0947385 (79)\ttotal: 755ms\tremaining: 3.9s\n",
      "81:\tlearn: 0.0985443\ttest: 0.0955455\tbest: 0.0955455 (81)\ttotal: 764ms\tremaining: 3.9s\n",
      "82:\tlearn: 0.0989082\ttest: 0.0960297\tbest: 0.0960297 (82)\ttotal: 773ms\tremaining: 3.88s\n",
      "83:\tlearn: 0.0989891\ttest: 0.0961911\tbest: 0.0961911 (83)\ttotal: 782ms\tremaining: 3.87s\n",
      "84:\tlearn: 0.0991104\ttest: 0.0963525\tbest: 0.0963525 (84)\ttotal: 792ms\tremaining: 3.87s\n",
      "85:\tlearn: 0.0991913\ttest: 0.0969981\tbest: 0.0969981 (85)\ttotal: 801ms\tremaining: 3.85s\n",
      "86:\tlearn: 0.0994339\ttest: 0.0973209\tbest: 0.0973209 (86)\ttotal: 810ms\tremaining: 3.85s\n",
      "87:\tlearn: 0.0995148\ttest: 0.0969981\tbest: 0.0973209 (86)\ttotal: 819ms\tremaining: 3.83s\n",
      "88:\tlearn: 0.0995956\ttest: 0.0969981\tbest: 0.0973209 (86)\ttotal: 828ms\tremaining: 3.82s\n",
      "89:\tlearn: 0.0996765\ttest: 0.0961911\tbest: 0.0973209 (86)\ttotal: 838ms\tremaining: 3.82s\n",
      "90:\tlearn: 0.0998787\ttest: 0.0965139\tbest: 0.0973209 (86)\ttotal: 848ms\tremaining: 3.81s\n",
      "91:\tlearn: 0.1004044\ttest: 0.0963525\tbest: 0.0973209 (86)\ttotal: 858ms\tremaining: 3.81s\n",
      "92:\tlearn: 0.1003639\ttest: 0.0969981\tbest: 0.0973209 (86)\ttotal: 868ms\tremaining: 3.8s\n",
      "93:\tlearn: 0.1008492\ttest: 0.0973209\tbest: 0.0973209 (86)\ttotal: 877ms\tremaining: 3.79s\n",
      "94:\tlearn: 0.1014153\ttest: 0.0981278\tbest: 0.0981278 (94)\ttotal: 886ms\tremaining: 3.78s\n",
      "95:\tlearn: 0.1012940\ttest: 0.0987734\tbest: 0.0987734 (95)\ttotal: 896ms\tremaining: 3.77s\n",
      "96:\tlearn: 0.1013748\ttest: 0.0986120\tbest: 0.0987734 (95)\ttotal: 904ms\tremaining: 3.76s\n",
      "97:\tlearn: 0.1014962\ttest: 0.0987734\tbest: 0.0987734 (95)\ttotal: 914ms\tremaining: 3.75s\n",
      "98:\tlearn: 0.1018601\ttest: 0.0987734\tbest: 0.0987734 (95)\ttotal: 923ms\tremaining: 3.74s\n",
      "99:\tlearn: 0.1021431\ttest: 0.0989348\tbest: 0.0989348 (99)\ttotal: 932ms\tremaining: 3.73s\n",
      "100:\tlearn: 0.1023858\ttest: 0.0989348\tbest: 0.0989348 (99)\ttotal: 941ms\tremaining: 3.72s\n",
      "101:\tlearn: 0.1026284\ttest: 0.0995804\tbest: 0.0995804 (101)\ttotal: 951ms\tremaining: 3.71s\n",
      "102:\tlearn: 0.1031945\ttest: 0.0997418\tbest: 0.0997418 (102)\ttotal: 961ms\tremaining: 3.7s\n",
      "103:\tlearn: 0.1030732\ttest: 0.1002260\tbest: 0.1002260 (103)\ttotal: 969ms\tremaining: 3.69s\n",
      "104:\tlearn: 0.1041650\ttest: 0.1008715\tbest: 0.1008715 (104)\ttotal: 978ms\tremaining: 3.68s\n",
      "105:\tlearn: 0.1043267\ttest: 0.1007101\tbest: 0.1008715 (104)\ttotal: 987ms\tremaining: 3.67s\n",
      "106:\tlearn: 0.1051355\ttest: 0.1020013\tbest: 0.1020013 (106)\ttotal: 996ms\tremaining: 3.66s\n",
      "107:\tlearn: 0.1053376\ttest: 0.1021627\tbest: 0.1021627 (107)\ttotal: 1s\tremaining: 3.65s\n",
      "108:\tlearn: 0.1056207\ttest: 0.1018399\tbest: 0.1021627 (107)\ttotal: 1.01s\tremaining: 3.64s\n",
      "109:\tlearn: 0.1056207\ttest: 0.1018399\tbest: 0.1021627 (107)\ttotal: 1.02s\tremaining: 3.63s\n",
      "110:\tlearn: 0.1056611\ttest: 0.1018399\tbest: 0.1021627 (107)\ttotal: 1.03s\tremaining: 3.62s\n",
      "111:\tlearn: 0.1065912\ttest: 0.1020013\tbest: 0.1021627 (107)\ttotal: 1.04s\tremaining: 3.61s\n",
      "112:\tlearn: 0.1065507\ttest: 0.1018399\tbest: 0.1021627 (107)\ttotal: 1.05s\tremaining: 3.6s\n",
      "113:\tlearn: 0.1070360\ttest: 0.1016785\tbest: 0.1021627 (107)\ttotal: 1.06s\tremaining: 3.59s\n",
      "114:\tlearn: 0.1079256\ttest: 0.1024855\tbest: 0.1024855 (114)\ttotal: 1.07s\tremaining: 3.58s\n",
      "115:\tlearn: 0.1080469\ttest: 0.1023241\tbest: 0.1024855 (114)\ttotal: 1.08s\tremaining: 3.57s\n",
      "116:\tlearn: 0.1082491\ttest: 0.1029697\tbest: 0.1029697 (116)\ttotal: 1.09s\tremaining: 3.56s\n",
      "117:\tlearn: 0.1084513\ttest: 0.1031311\tbest: 0.1031311 (117)\ttotal: 1.1s\tremaining: 3.56s\n",
      "118:\tlearn: 0.1088152\ttest: 0.1031311\tbest: 0.1031311 (117)\ttotal: 1.11s\tremaining: 3.54s\n",
      "119:\tlearn: 0.1098666\ttest: 0.1044222\tbest: 0.1044222 (119)\ttotal: 1.12s\tremaining: 3.53s\n",
      "120:\tlearn: 0.1101092\ttest: 0.1039380\tbest: 0.1044222 (119)\ttotal: 1.12s\tremaining: 3.52s\n",
      "121:\tlearn: 0.1101092\ttest: 0.1040994\tbest: 0.1044222 (119)\ttotal: 1.13s\tremaining: 3.51s\n",
      "122:\tlearn: 0.1106349\ttest: 0.1045836\tbest: 0.1045836 (122)\ttotal: 1.14s\tremaining: 3.5s\n",
      "123:\tlearn: 0.1108370\ttest: 0.1047450\tbest: 0.1047450 (123)\ttotal: 1.15s\tremaining: 3.49s\n",
      "124:\tlearn: 0.1110392\ttest: 0.1045836\tbest: 0.1047450 (123)\ttotal: 1.16s\tremaining: 3.48s\n",
      "125:\tlearn: 0.1112010\ttest: 0.1047450\tbest: 0.1047450 (123)\ttotal: 1.17s\tremaining: 3.47s\n",
      "126:\tlearn: 0.1112818\ttest: 0.1045836\tbest: 0.1047450 (123)\ttotal: 1.18s\tremaining: 3.46s\n",
      "127:\tlearn: 0.1116458\ttest: 0.1050678\tbest: 0.1050678 (127)\ttotal: 1.19s\tremaining: 3.46s\n",
      "128:\tlearn: 0.1119693\ttest: 0.1050678\tbest: 0.1050678 (127)\ttotal: 1.2s\tremaining: 3.45s\n",
      "129:\tlearn: 0.1119288\ttest: 0.1049064\tbest: 0.1050678 (127)\ttotal: 1.21s\tremaining: 3.44s\n",
      "130:\tlearn: 0.1119288\ttest: 0.1049064\tbest: 0.1050678 (127)\ttotal: 1.22s\tremaining: 3.43s\n",
      "131:\tlearn: 0.1126163\ttest: 0.1053906\tbest: 0.1053906 (131)\ttotal: 1.23s\tremaining: 3.42s\n",
      "132:\tlearn: 0.1127376\ttest: 0.1052292\tbest: 0.1053906 (131)\ttotal: 1.24s\tremaining: 3.41s\n",
      "133:\tlearn: 0.1132632\ttest: 0.1057134\tbest: 0.1057134 (133)\ttotal: 1.25s\tremaining: 3.4s\n",
      "134:\tlearn: 0.1133441\ttest: 0.1058748\tbest: 0.1058748 (134)\ttotal: 1.25s\tremaining: 3.39s\n",
      "135:\tlearn: 0.1141933\ttest: 0.1060362\tbest: 0.1060362 (135)\ttotal: 1.26s\tremaining: 3.38s\n",
      "136:\tlearn: 0.1144359\ttest: 0.1061975\tbest: 0.1061975 (136)\ttotal: 1.27s\tremaining: 3.37s\n",
      "137:\tlearn: 0.1146381\ttest: 0.1063589\tbest: 0.1063589 (137)\ttotal: 1.28s\tremaining: 3.36s\n",
      "138:\tlearn: 0.1147998\ttest: 0.1066817\tbest: 0.1066817 (138)\ttotal: 1.29s\tremaining: 3.35s\n",
      "139:\tlearn: 0.1147998\ttest: 0.1065203\tbest: 0.1066817 (138)\ttotal: 1.3s\tremaining: 3.34s\n",
      "140:\tlearn: 0.1149616\ttest: 0.1061975\tbest: 0.1066817 (138)\ttotal: 1.31s\tremaining: 3.33s\n",
      "141:\tlearn: 0.1148807\ttest: 0.1061975\tbest: 0.1066817 (138)\ttotal: 1.32s\tremaining: 3.33s\n",
      "142:\tlearn: 0.1156490\ttest: 0.1066817\tbest: 0.1066817 (138)\ttotal: 1.33s\tremaining: 3.32s\n",
      "143:\tlearn: 0.1158108\ttest: 0.1070045\tbest: 0.1070045 (143)\ttotal: 1.34s\tremaining: 3.31s\n",
      "144:\tlearn: 0.1160129\ttest: 0.1073273\tbest: 0.1073273 (144)\ttotal: 1.35s\tremaining: 3.3s\n",
      "145:\tlearn: 0.1160534\ttest: 0.1074887\tbest: 0.1074887 (145)\ttotal: 1.36s\tremaining: 3.29s\n",
      "146:\tlearn: 0.1160938\ttest: 0.1073273\tbest: 0.1074887 (145)\ttotal: 1.36s\tremaining: 3.28s\n",
      "147:\tlearn: 0.1162151\ttest: 0.1076501\tbest: 0.1076501 (147)\ttotal: 1.38s\tremaining: 3.27s\n",
      "148:\tlearn: 0.1171047\ttest: 0.1073273\tbest: 0.1076501 (147)\ttotal: 1.38s\tremaining: 3.26s\n",
      "149:\tlearn: 0.1172665\ttest: 0.1070045\tbest: 0.1076501 (147)\ttotal: 1.39s\tremaining: 3.25s\n",
      "150:\tlearn: 0.1175495\ttest: 0.1071659\tbest: 0.1076501 (147)\ttotal: 1.4s\tremaining: 3.24s\n",
      "151:\tlearn: 0.1177922\ttest: 0.1082957\tbest: 0.1082957 (151)\ttotal: 1.41s\tremaining: 3.23s\n",
      "152:\tlearn: 0.1186009\ttest: 0.1089413\tbest: 0.1089413 (152)\ttotal: 1.42s\tremaining: 3.22s\n",
      "153:\tlearn: 0.1186413\ttest: 0.1086185\tbest: 0.1089413 (152)\ttotal: 1.43s\tremaining: 3.21s\n",
      "154:\tlearn: 0.1194501\ttest: 0.1094254\tbest: 0.1094254 (154)\ttotal: 1.44s\tremaining: 3.2s\n",
      "155:\tlearn: 0.1199757\ttest: 0.1091026\tbest: 0.1094254 (154)\ttotal: 1.45s\tremaining: 3.19s\n",
      "156:\tlearn: 0.1200162\ttest: 0.1087799\tbest: 0.1094254 (154)\ttotal: 1.46s\tremaining: 3.19s\n",
      "157:\tlearn: 0.1201779\ttest: 0.1092640\tbest: 0.1094254 (154)\ttotal: 1.47s\tremaining: 3.17s\n",
      "158:\tlearn: 0.1205419\ttest: 0.1095868\tbest: 0.1095868 (158)\ttotal: 1.48s\tremaining: 3.17s\n",
      "159:\tlearn: 0.1204205\ttest: 0.1094254\tbest: 0.1095868 (158)\ttotal: 1.49s\tremaining: 3.17s\n",
      "160:\tlearn: 0.1205419\ttest: 0.1094254\tbest: 0.1095868 (158)\ttotal: 1.53s\tremaining: 3.22s\n",
      "161:\tlearn: 0.1205014\ttest: 0.1094254\tbest: 0.1095868 (158)\ttotal: 1.54s\tremaining: 3.21s\n",
      "162:\tlearn: 0.1213506\ttest: 0.1102324\tbest: 0.1102324 (162)\ttotal: 1.57s\tremaining: 3.24s\n",
      "163:\tlearn: 0.1215528\ttest: 0.1107166\tbest: 0.1107166 (163)\ttotal: 1.58s\tremaining: 3.23s\n",
      "164:\tlearn: 0.1218358\ttest: 0.1108780\tbest: 0.1108780 (164)\ttotal: 1.59s\tremaining: 3.22s\n",
      "165:\tlearn: 0.1218763\ttest: 0.1113622\tbest: 0.1113622 (165)\ttotal: 1.6s\tremaining: 3.21s\n",
      "166:\tlearn: 0.1223211\ttest: 0.1110394\tbest: 0.1113622 (165)\ttotal: 1.61s\tremaining: 3.21s\n",
      "167:\tlearn: 0.1224424\ttest: 0.1107166\tbest: 0.1113622 (165)\ttotal: 1.62s\tremaining: 3.2s\n",
      "168:\tlearn: 0.1226041\ttest: 0.1110394\tbest: 0.1113622 (165)\ttotal: 1.63s\tremaining: 3.19s\n",
      "169:\tlearn: 0.1225637\ttest: 0.1112008\tbest: 0.1113622 (165)\ttotal: 1.64s\tremaining: 3.18s\n",
      "170:\tlearn: 0.1228467\ttest: 0.1108780\tbest: 0.1113622 (165)\ttotal: 1.65s\tremaining: 3.17s\n",
      "171:\tlearn: 0.1228872\ttest: 0.1113622\tbest: 0.1113622 (165)\ttotal: 1.66s\tremaining: 3.16s\n",
      "172:\tlearn: 0.1235746\ttest: 0.1108780\tbest: 0.1113622 (165)\ttotal: 1.67s\tremaining: 3.16s\n",
      "173:\tlearn: 0.1236959\ttest: 0.1110394\tbest: 0.1113622 (165)\ttotal: 1.68s\tremaining: 3.15s\n",
      "174:\tlearn: 0.1238981\ttest: 0.1113622\tbest: 0.1113622 (165)\ttotal: 1.69s\tremaining: 3.14s\n",
      "175:\tlearn: 0.1242620\ttest: 0.1123305\tbest: 0.1123305 (175)\ttotal: 1.7s\tremaining: 3.14s\n",
      "176:\tlearn: 0.1243429\ttest: 0.1123305\tbest: 0.1123305 (175)\ttotal: 1.72s\tremaining: 3.13s\n",
      "177:\tlearn: 0.1245047\ttest: 0.1131375\tbest: 0.1131375 (177)\ttotal: 1.73s\tremaining: 3.12s\n",
      "178:\tlearn: 0.1246260\ttest: 0.1129761\tbest: 0.1131375 (177)\ttotal: 1.74s\tremaining: 3.11s\n",
      "179:\tlearn: 0.1249090\ttest: 0.1132989\tbest: 0.1132989 (179)\ttotal: 1.75s\tremaining: 3.1s\n",
      "180:\tlearn: 0.1252325\ttest: 0.1128147\tbest: 0.1132989 (179)\ttotal: 1.76s\tremaining: 3.09s\n",
      "181:\tlearn: 0.1253134\ttest: 0.1124919\tbest: 0.1132989 (179)\ttotal: 1.77s\tremaining: 3.08s\n",
      "182:\tlearn: 0.1257178\ttest: 0.1124919\tbest: 0.1132989 (179)\ttotal: 1.78s\tremaining: 3.08s\n",
      "183:\tlearn: 0.1259199\ttest: 0.1124919\tbest: 0.1132989 (179)\ttotal: 1.79s\tremaining: 3.07s\n",
      "184:\tlearn: 0.1261221\ttest: 0.1131375\tbest: 0.1132989 (179)\ttotal: 1.8s\tremaining: 3.07s\n",
      "185:\tlearn: 0.1259604\ttest: 0.1132989\tbest: 0.1132989 (179)\ttotal: 1.81s\tremaining: 3.06s\n",
      "186:\tlearn: 0.1264052\ttest: 0.1131375\tbest: 0.1132989 (179)\ttotal: 1.82s\tremaining: 3.05s\n",
      "187:\tlearn: 0.1264052\ttest: 0.1129761\tbest: 0.1132989 (179)\ttotal: 1.83s\tremaining: 3.05s\n",
      "188:\tlearn: 0.1261626\ttest: 0.1129761\tbest: 0.1132989 (179)\ttotal: 1.85s\tremaining: 3.04s\n",
      "189:\tlearn: 0.1265265\ttest: 0.1126533\tbest: 0.1132989 (179)\ttotal: 1.85s\tremaining: 3.03s\n",
      "190:\tlearn: 0.1270522\ttest: 0.1129761\tbest: 0.1132989 (179)\ttotal: 1.87s\tremaining: 3.02s\n",
      "191:\tlearn: 0.1270522\ttest: 0.1131375\tbest: 0.1132989 (179)\ttotal: 1.88s\tremaining: 3.01s\n",
      "192:\tlearn: 0.1274161\ttest: 0.1134603\tbest: 0.1134603 (192)\ttotal: 1.89s\tremaining: 3s\n",
      "193:\tlearn: 0.1274161\ttest: 0.1132989\tbest: 0.1134603 (192)\ttotal: 1.9s\tremaining: 2.99s\n",
      "194:\tlearn: 0.1276183\ttest: 0.1128147\tbest: 0.1134603 (192)\ttotal: 1.9s\tremaining: 2.98s\n",
      "195:\tlearn: 0.1280226\ttest: 0.1129761\tbest: 0.1134603 (192)\ttotal: 1.91s\tremaining: 2.97s\n",
      "196:\tlearn: 0.1282653\ttest: 0.1131375\tbest: 0.1134603 (192)\ttotal: 1.92s\tremaining: 2.96s\n",
      "197:\tlearn: 0.1284270\ttest: 0.1137831\tbest: 0.1137831 (197)\ttotal: 1.93s\tremaining: 2.95s\n",
      "198:\tlearn: 0.1287101\ttest: 0.1139445\tbest: 0.1139445 (198)\ttotal: 1.94s\tremaining: 2.94s\n",
      "199:\tlearn: 0.1289123\ttest: 0.1141059\tbest: 0.1141059 (199)\ttotal: 1.95s\tremaining: 2.93s\n",
      "200:\tlearn: 0.1296401\ttest: 0.1144287\tbest: 0.1144287 (200)\ttotal: 1.96s\tremaining: 2.92s\n",
      "201:\tlearn: 0.1299636\ttest: 0.1147515\tbest: 0.1147515 (201)\ttotal: 1.97s\tremaining: 2.91s\n",
      "202:\tlearn: 0.1302062\ttest: 0.1144287\tbest: 0.1147515 (201)\ttotal: 1.98s\tremaining: 2.9s\n",
      "203:\tlearn: 0.1301658\ttest: 0.1144287\tbest: 0.1147515 (201)\ttotal: 1.99s\tremaining: 2.88s\n",
      "204:\tlearn: 0.1302467\ttest: 0.1147515\tbest: 0.1147515 (201)\ttotal: 2s\tremaining: 2.87s\n",
      "205:\tlearn: 0.1300445\ttest: 0.1149128\tbest: 0.1149128 (205)\ttotal: 2.01s\tremaining: 2.87s\n",
      "206:\tlearn: 0.1300849\ttest: 0.1150742\tbest: 0.1150742 (206)\ttotal: 2.02s\tremaining: 2.85s\n",
      "207:\tlearn: 0.1300040\ttest: 0.1152356\tbest: 0.1152356 (207)\ttotal: 2.02s\tremaining: 2.84s\n",
      "208:\tlearn: 0.1301658\ttest: 0.1153970\tbest: 0.1153970 (208)\ttotal: 2.03s\tremaining: 2.83s\n",
      "209:\tlearn: 0.1305297\ttest: 0.1155584\tbest: 0.1155584 (209)\ttotal: 2.04s\tremaining: 2.82s\n",
      "210:\tlearn: 0.1304488\ttest: 0.1155584\tbest: 0.1155584 (209)\ttotal: 2.05s\tremaining: 2.81s\n",
      "211:\tlearn: 0.1306106\ttest: 0.1158812\tbest: 0.1158812 (211)\ttotal: 2.06s\tremaining: 2.8s\n",
      "212:\tlearn: 0.1302871\ttest: 0.1158812\tbest: 0.1158812 (211)\ttotal: 2.07s\tremaining: 2.79s\n",
      "213:\tlearn: 0.1306915\ttest: 0.1155584\tbest: 0.1158812 (211)\ttotal: 2.08s\tremaining: 2.78s\n",
      "214:\tlearn: 0.1310958\ttest: 0.1158812\tbest: 0.1158812 (211)\ttotal: 2.09s\tremaining: 2.77s\n",
      "215:\tlearn: 0.1313789\ttest: 0.1158812\tbest: 0.1158812 (211)\ttotal: 2.1s\tremaining: 2.76s\n",
      "216:\tlearn: 0.1312171\ttest: 0.1157198\tbest: 0.1158812 (211)\ttotal: 2.11s\tremaining: 2.75s\n",
      "217:\tlearn: 0.1312171\ttest: 0.1153970\tbest: 0.1158812 (211)\ttotal: 2.12s\tremaining: 2.74s\n",
      "218:\tlearn: 0.1313385\ttest: 0.1157198\tbest: 0.1158812 (211)\ttotal: 2.13s\tremaining: 2.73s\n",
      "219:\tlearn: 0.1315002\ttest: 0.1157198\tbest: 0.1158812 (211)\ttotal: 2.14s\tremaining: 2.72s\n",
      "220:\tlearn: 0.1318237\ttest: 0.1158812\tbest: 0.1158812 (211)\ttotal: 2.15s\tremaining: 2.71s\n",
      "221:\tlearn: 0.1318237\ttest: 0.1160426\tbest: 0.1160426 (221)\ttotal: 2.15s\tremaining: 2.7s\n",
      "222:\tlearn: 0.1320663\ttest: 0.1165268\tbest: 0.1165268 (222)\ttotal: 2.16s\tremaining: 2.69s\n",
      "223:\tlearn: 0.1319046\ttest: 0.1165268\tbest: 0.1165268 (222)\ttotal: 2.17s\tremaining: 2.68s\n",
      "224:\tlearn: 0.1318641\ttest: 0.1162040\tbest: 0.1165268 (222)\ttotal: 2.18s\tremaining: 2.67s\n",
      "225:\tlearn: 0.1319854\ttest: 0.1162040\tbest: 0.1165268 (222)\ttotal: 2.19s\tremaining: 2.66s\n",
      "226:\tlearn: 0.1323089\ttest: 0.1162040\tbest: 0.1165268 (222)\ttotal: 2.2s\tremaining: 2.65s\n",
      "227:\tlearn: 0.1323898\ttest: 0.1160426\tbest: 0.1165268 (222)\ttotal: 2.21s\tremaining: 2.64s\n",
      "228:\tlearn: 0.1323089\ttest: 0.1155584\tbest: 0.1165268 (222)\ttotal: 2.22s\tremaining: 2.63s\n",
      "229:\tlearn: 0.1323898\ttest: 0.1158812\tbest: 0.1165268 (222)\ttotal: 2.23s\tremaining: 2.62s\n",
      "230:\tlearn: 0.1325111\ttest: 0.1158812\tbest: 0.1165268 (222)\ttotal: 2.24s\tremaining: 2.61s\n",
      "231:\tlearn: 0.1327537\ttest: 0.1160426\tbest: 0.1165268 (222)\ttotal: 2.25s\tremaining: 2.6s\n",
      "232:\tlearn: 0.1334816\ttest: 0.1162040\tbest: 0.1165268 (222)\ttotal: 2.26s\tremaining: 2.59s\n",
      "233:\tlearn: 0.1335220\ttest: 0.1160426\tbest: 0.1165268 (222)\ttotal: 2.27s\tremaining: 2.58s\n",
      "234:\tlearn: 0.1338051\ttest: 0.1166882\tbest: 0.1166882 (234)\ttotal: 2.28s\tremaining: 2.57s\n",
      "235:\tlearn: 0.1340477\ttest: 0.1165268\tbest: 0.1166882 (234)\ttotal: 2.29s\tremaining: 2.56s\n",
      "236:\tlearn: 0.1341286\ttest: 0.1170110\tbest: 0.1170110 (236)\ttotal: 2.29s\tremaining: 2.55s\n",
      "237:\tlearn: 0.1343308\ttest: 0.1170110\tbest: 0.1170110 (236)\ttotal: 2.31s\tremaining: 2.54s\n",
      "238:\tlearn: 0.1344925\ttest: 0.1168496\tbest: 0.1170110 (236)\ttotal: 2.31s\tremaining: 2.53s\n",
      "239:\tlearn: 0.1345330\ttest: 0.1168496\tbest: 0.1170110 (236)\ttotal: 2.32s\tremaining: 2.52s\n",
      "240:\tlearn: 0.1344521\ttest: 0.1165268\tbest: 0.1170110 (236)\ttotal: 2.33s\tremaining: 2.51s\n",
      "241:\tlearn: 0.1345330\ttest: 0.1163654\tbest: 0.1170110 (236)\ttotal: 2.34s\tremaining: 2.5s\n",
      "242:\tlearn: 0.1348969\ttest: 0.1163654\tbest: 0.1170110 (236)\ttotal: 2.35s\tremaining: 2.49s\n",
      "243:\tlearn: 0.1352608\ttest: 0.1165268\tbest: 0.1170110 (236)\ttotal: 2.36s\tremaining: 2.48s\n",
      "244:\tlearn: 0.1357865\ttest: 0.1166882\tbest: 0.1170110 (236)\ttotal: 2.37s\tremaining: 2.47s\n",
      "245:\tlearn: 0.1361100\ttest: 0.1171724\tbest: 0.1171724 (245)\ttotal: 2.38s\tremaining: 2.46s\n",
      "246:\tlearn: 0.1362313\ttest: 0.1166882\tbest: 0.1171724 (245)\ttotal: 2.39s\tremaining: 2.45s\n",
      "247:\tlearn: 0.1360696\ttest: 0.1168496\tbest: 0.1171724 (245)\ttotal: 2.4s\tremaining: 2.44s\n",
      "248:\tlearn: 0.1359482\ttest: 0.1166882\tbest: 0.1171724 (245)\ttotal: 2.41s\tremaining: 2.43s\n",
      "249:\tlearn: 0.1358674\ttest: 0.1166882\tbest: 0.1171724 (245)\ttotal: 2.42s\tremaining: 2.42s\n",
      "250:\tlearn: 0.1360291\ttest: 0.1166882\tbest: 0.1171724 (245)\ttotal: 2.43s\tremaining: 2.41s\n",
      "251:\tlearn: 0.1361504\ttest: 0.1168496\tbest: 0.1171724 (245)\ttotal: 2.44s\tremaining: 2.4s\n",
      "252:\tlearn: 0.1364335\ttest: 0.1170110\tbest: 0.1171724 (245)\ttotal: 2.44s\tremaining: 2.39s\n",
      "253:\tlearn: 0.1365144\ttest: 0.1178179\tbest: 0.1178179 (253)\ttotal: 2.45s\tremaining: 2.38s\n",
      "254:\tlearn: 0.1364739\ttest: 0.1176566\tbest: 0.1178179 (253)\ttotal: 2.46s\tremaining: 2.37s\n",
      "255:\tlearn: 0.1366357\ttest: 0.1181407\tbest: 0.1181407 (255)\ttotal: 2.47s\tremaining: 2.36s\n",
      "256:\tlearn: 0.1367974\ttest: 0.1181407\tbest: 0.1181407 (255)\ttotal: 2.48s\tremaining: 2.35s\n",
      "257:\tlearn: 0.1369187\ttest: 0.1184635\tbest: 0.1184635 (257)\ttotal: 2.49s\tremaining: 2.34s\n",
      "258:\tlearn: 0.1372827\ttest: 0.1184635\tbest: 0.1184635 (257)\ttotal: 2.5s\tremaining: 2.33s\n",
      "259:\tlearn: 0.1373635\ttest: 0.1191091\tbest: 0.1191091 (259)\ttotal: 2.51s\tremaining: 2.32s\n",
      "260:\tlearn: 0.1375253\ttest: 0.1187863\tbest: 0.1191091 (259)\ttotal: 2.52s\tremaining: 2.31s\n",
      "261:\tlearn: 0.1375253\ttest: 0.1187863\tbest: 0.1191091 (259)\ttotal: 2.53s\tremaining: 2.3s\n",
      "262:\tlearn: 0.1376061\ttest: 0.1184635\tbest: 0.1191091 (259)\ttotal: 2.54s\tremaining: 2.29s\n",
      "263:\tlearn: 0.1376870\ttest: 0.1181407\tbest: 0.1191091 (259)\ttotal: 2.54s\tremaining: 2.27s\n",
      "264:\tlearn: 0.1379296\ttest: 0.1184635\tbest: 0.1191091 (259)\ttotal: 2.56s\tremaining: 2.27s\n",
      "265:\tlearn: 0.1381318\ttest: 0.1184635\tbest: 0.1191091 (259)\ttotal: 2.56s\tremaining: 2.25s\n",
      "266:\tlearn: 0.1382531\ttest: 0.1181407\tbest: 0.1191091 (259)\ttotal: 2.57s\tremaining: 2.25s\n",
      "267:\tlearn: 0.1384553\ttest: 0.1183021\tbest: 0.1191091 (259)\ttotal: 2.58s\tremaining: 2.23s\n",
      "268:\tlearn: 0.1384149\ttest: 0.1181407\tbest: 0.1191091 (259)\ttotal: 2.59s\tremaining: 2.23s\n",
      "269:\tlearn: 0.1382936\ttest: 0.1179793\tbest: 0.1191091 (259)\ttotal: 2.6s\tremaining: 2.21s\n",
      "270:\tlearn: 0.1389406\ttest: 0.1184635\tbest: 0.1191091 (259)\ttotal: 2.61s\tremaining: 2.21s\n",
      "271:\tlearn: 0.1391427\ttest: 0.1179793\tbest: 0.1191091 (259)\ttotal: 2.62s\tremaining: 2.2s\n",
      "272:\tlearn: 0.1391023\ttest: 0.1181407\tbest: 0.1191091 (259)\ttotal: 2.63s\tremaining: 2.19s\n",
      "273:\tlearn: 0.1390619\ttest: 0.1189477\tbest: 0.1191091 (259)\ttotal: 2.64s\tremaining: 2.18s\n",
      "274:\tlearn: 0.1392641\ttest: 0.1189477\tbest: 0.1191091 (259)\ttotal: 2.65s\tremaining: 2.17s\n",
      "275:\tlearn: 0.1393854\ttest: 0.1189477\tbest: 0.1191091 (259)\ttotal: 2.66s\tremaining: 2.16s\n",
      "276:\tlearn: 0.1394662\ttest: 0.1192705\tbest: 0.1192705 (276)\ttotal: 2.67s\tremaining: 2.15s\n",
      "277:\tlearn: 0.1395067\ttest: 0.1194319\tbest: 0.1194319 (277)\ttotal: 2.67s\tremaining: 2.13s\n",
      "278:\tlearn: 0.1395875\ttest: 0.1194319\tbest: 0.1194319 (277)\ttotal: 2.68s\tremaining: 2.13s\n",
      "279:\tlearn: 0.1395067\ttest: 0.1195933\tbest: 0.1195933 (279)\ttotal: 2.69s\tremaining: 2.12s\n",
      "280:\tlearn: 0.1395875\ttest: 0.1199161\tbest: 0.1199161 (280)\ttotal: 2.7s\tremaining: 2.11s\n",
      "281:\tlearn: 0.1401537\ttest: 0.1199161\tbest: 0.1199161 (280)\ttotal: 2.71s\tremaining: 2.1s\n",
      "282:\tlearn: 0.1407602\ttest: 0.1200775\tbest: 0.1200775 (282)\ttotal: 2.72s\tremaining: 2.09s\n",
      "283:\tlearn: 0.1408411\ttest: 0.1200775\tbest: 0.1200775 (282)\ttotal: 2.73s\tremaining: 2.08s\n",
      "284:\tlearn: 0.1410433\ttest: 0.1200775\tbest: 0.1200775 (282)\ttotal: 2.74s\tremaining: 2.07s\n",
      "285:\tlearn: 0.1412455\ttest: 0.1197547\tbest: 0.1200775 (282)\ttotal: 2.75s\tremaining: 2.06s\n",
      "286:\tlearn: 0.1414072\ttest: 0.1200775\tbest: 0.1200775 (282)\ttotal: 2.76s\tremaining: 2.05s\n",
      "287:\tlearn: 0.1419329\ttest: 0.1205617\tbest: 0.1205617 (287)\ttotal: 2.77s\tremaining: 2.04s\n",
      "288:\tlearn: 0.1419329\ttest: 0.1205617\tbest: 0.1205617 (287)\ttotal: 2.78s\tremaining: 2.03s\n",
      "289:\tlearn: 0.1420137\ttest: 0.1205617\tbest: 0.1205617 (287)\ttotal: 2.79s\tremaining: 2.02s\n",
      "290:\tlearn: 0.1420137\ttest: 0.1202389\tbest: 0.1205617 (287)\ttotal: 2.79s\tremaining: 2.01s\n",
      "291:\tlearn: 0.1422968\ttest: 0.1195933\tbest: 0.1205617 (287)\ttotal: 2.8s\tremaining: 2s\n",
      "292:\tlearn: 0.1424990\ttest: 0.1199161\tbest: 0.1205617 (287)\ttotal: 2.81s\tremaining: 1.99s\n",
      "293:\tlearn: 0.1426607\ttest: 0.1200775\tbest: 0.1205617 (287)\ttotal: 2.82s\tremaining: 1.98s\n",
      "294:\tlearn: 0.1426607\ttest: 0.1199161\tbest: 0.1205617 (287)\ttotal: 2.83s\tremaining: 1.97s\n",
      "295:\tlearn: 0.1434290\ttest: 0.1200775\tbest: 0.1205617 (287)\ttotal: 2.84s\tremaining: 1.96s\n",
      "296:\tlearn: 0.1434290\ttest: 0.1204003\tbest: 0.1205617 (287)\ttotal: 2.85s\tremaining: 1.95s\n",
      "297:\tlearn: 0.1434695\ttest: 0.1200775\tbest: 0.1205617 (287)\ttotal: 2.86s\tremaining: 1.94s\n",
      "298:\tlearn: 0.1436312\ttest: 0.1204003\tbest: 0.1205617 (287)\ttotal: 2.87s\tremaining: 1.93s\n",
      "299:\tlearn: 0.1444400\ttest: 0.1202389\tbest: 0.1205617 (287)\ttotal: 2.88s\tremaining: 1.92s\n",
      "300:\tlearn: 0.1448039\ttest: 0.1213686\tbest: 0.1213686 (300)\ttotal: 2.89s\tremaining: 1.91s\n",
      "301:\tlearn: 0.1449252\ttest: 0.1218528\tbest: 0.1218528 (301)\ttotal: 2.9s\tremaining: 1.9s\n",
      "302:\tlearn: 0.1450869\ttest: 0.1220142\tbest: 0.1220142 (302)\ttotal: 2.91s\tremaining: 1.89s\n",
      "303:\tlearn: 0.1451678\ttest: 0.1220142\tbest: 0.1220142 (302)\ttotal: 2.92s\tremaining: 1.88s\n",
      "304:\tlearn: 0.1455317\ttest: 0.1215300\tbest: 0.1220142 (302)\ttotal: 2.93s\tremaining: 1.87s\n",
      "305:\tlearn: 0.1456531\ttest: 0.1216914\tbest: 0.1220142 (302)\ttotal: 2.94s\tremaining: 1.86s\n",
      "306:\tlearn: 0.1457339\ttest: 0.1218528\tbest: 0.1220142 (302)\ttotal: 2.95s\tremaining: 1.85s\n",
      "307:\tlearn: 0.1460170\ttest: 0.1216914\tbest: 0.1220142 (302)\ttotal: 2.96s\tremaining: 1.84s\n",
      "308:\tlearn: 0.1460979\ttest: 0.1216914\tbest: 0.1220142 (302)\ttotal: 2.96s\tremaining: 1.83s\n",
      "309:\tlearn: 0.1463000\ttest: 0.1216914\tbest: 0.1220142 (302)\ttotal: 2.97s\tremaining: 1.82s\n",
      "310:\tlearn: 0.1466235\ttest: 0.1221756\tbest: 0.1221756 (310)\ttotal: 2.98s\tremaining: 1.81s\n",
      "311:\tlearn: 0.1467044\ttest: 0.1218528\tbest: 0.1221756 (310)\ttotal: 2.99s\tremaining: 1.8s\n",
      "312:\tlearn: 0.1464214\ttest: 0.1220142\tbest: 0.1221756 (310)\ttotal: 3s\tremaining: 1.79s\n",
      "313:\tlearn: 0.1471088\ttest: 0.1224984\tbest: 0.1224984 (313)\ttotal: 3.01s\tremaining: 1.78s\n",
      "314:\tlearn: 0.1473514\ttest: 0.1228212\tbest: 0.1228212 (314)\ttotal: 3.02s\tremaining: 1.77s\n",
      "315:\tlearn: 0.1473110\ttest: 0.1229826\tbest: 0.1229826 (315)\ttotal: 3.03s\tremaining: 1.76s\n",
      "316:\tlearn: 0.1476749\ttest: 0.1234668\tbest: 0.1234668 (316)\ttotal: 3.04s\tremaining: 1.75s\n",
      "317:\tlearn: 0.1481197\ttest: 0.1239509\tbest: 0.1239509 (317)\ttotal: 3.05s\tremaining: 1.75s\n",
      "318:\tlearn: 0.1482410\ttest: 0.1237895\tbest: 0.1239509 (317)\ttotal: 3.06s\tremaining: 1.74s\n",
      "319:\tlearn: 0.1482006\ttest: 0.1241123\tbest: 0.1241123 (319)\ttotal: 3.07s\tremaining: 1.73s\n",
      "320:\tlearn: 0.1483623\ttest: 0.1241123\tbest: 0.1241123 (319)\ttotal: 3.08s\tremaining: 1.72s\n",
      "321:\tlearn: 0.1486454\ttest: 0.1237895\tbest: 0.1241123 (319)\ttotal: 3.09s\tremaining: 1.71s\n",
      "322:\tlearn: 0.1487667\ttest: 0.1242737\tbest: 0.1242737 (322)\ttotal: 3.1s\tremaining: 1.7s\n",
      "323:\tlearn: 0.1486049\ttest: 0.1242737\tbest: 0.1242737 (322)\ttotal: 3.12s\tremaining: 1.69s\n",
      "324:\tlearn: 0.1489284\ttest: 0.1239509\tbest: 0.1242737 (322)\ttotal: 3.13s\tremaining: 1.68s\n",
      "325:\tlearn: 0.1488476\ttest: 0.1239509\tbest: 0.1242737 (322)\ttotal: 3.14s\tremaining: 1.67s\n",
      "326:\tlearn: 0.1490902\ttest: 0.1241123\tbest: 0.1242737 (322)\ttotal: 3.15s\tremaining: 1.66s\n",
      "327:\tlearn: 0.1491710\ttest: 0.1237895\tbest: 0.1242737 (322)\ttotal: 3.15s\tremaining: 1.65s\n",
      "328:\tlearn: 0.1495350\ttest: 0.1237895\tbest: 0.1242737 (322)\ttotal: 3.16s\tremaining: 1.64s\n",
      "329:\tlearn: 0.1496159\ttest: 0.1233054\tbest: 0.1242737 (322)\ttotal: 3.17s\tremaining: 1.63s\n",
      "330:\tlearn: 0.1496967\ttest: 0.1229826\tbest: 0.1242737 (322)\ttotal: 3.18s\tremaining: 1.62s\n",
      "331:\tlearn: 0.1498585\ttest: 0.1233054\tbest: 0.1242737 (322)\ttotal: 3.19s\tremaining: 1.61s\n",
      "332:\tlearn: 0.1498585\ttest: 0.1231440\tbest: 0.1242737 (322)\ttotal: 3.2s\tremaining: 1.6s\n",
      "333:\tlearn: 0.1498585\ttest: 0.1234668\tbest: 0.1242737 (322)\ttotal: 3.21s\tremaining: 1.59s\n",
      "334:\tlearn: 0.1500607\ttest: 0.1236281\tbest: 0.1242737 (322)\ttotal: 3.22s\tremaining: 1.58s\n",
      "335:\tlearn: 0.1502628\ttest: 0.1237895\tbest: 0.1242737 (322)\ttotal: 3.23s\tremaining: 1.57s\n",
      "336:\tlearn: 0.1505459\ttest: 0.1241123\tbest: 0.1242737 (322)\ttotal: 3.24s\tremaining: 1.57s\n",
      "337:\tlearn: 0.1505863\ttest: 0.1241123\tbest: 0.1242737 (322)\ttotal: 3.25s\tremaining: 1.56s\n",
      "338:\tlearn: 0.1507885\ttest: 0.1239509\tbest: 0.1242737 (322)\ttotal: 3.26s\tremaining: 1.55s\n",
      "339:\tlearn: 0.1507481\ttest: 0.1244351\tbest: 0.1244351 (339)\ttotal: 3.27s\tremaining: 1.54s\n",
      "340:\tlearn: 0.1508694\ttest: 0.1242737\tbest: 0.1244351 (339)\ttotal: 3.27s\tremaining: 1.53s\n",
      "341:\tlearn: 0.1511929\ttest: 0.1241123\tbest: 0.1244351 (339)\ttotal: 3.28s\tremaining: 1.52s\n",
      "342:\tlearn: 0.1513951\ttest: 0.1241123\tbest: 0.1244351 (339)\ttotal: 3.29s\tremaining: 1.51s\n",
      "343:\tlearn: 0.1513951\ttest: 0.1245965\tbest: 0.1245965 (343)\ttotal: 3.3s\tremaining: 1.5s\n",
      "344:\tlearn: 0.1511929\ttest: 0.1241123\tbest: 0.1245965 (343)\ttotal: 3.31s\tremaining: 1.49s\n",
      "345:\tlearn: 0.1511929\ttest: 0.1242737\tbest: 0.1245965 (343)\ttotal: 3.32s\tremaining: 1.48s\n",
      "346:\tlearn: 0.1513142\ttest: 0.1244351\tbest: 0.1245965 (343)\ttotal: 3.33s\tremaining: 1.47s\n",
      "347:\tlearn: 0.1513546\ttest: 0.1245965\tbest: 0.1245965 (343)\ttotal: 3.34s\tremaining: 1.46s\n",
      "348:\tlearn: 0.1514355\ttest: 0.1244351\tbest: 0.1245965 (343)\ttotal: 3.35s\tremaining: 1.45s\n",
      "349:\tlearn: 0.1518803\ttest: 0.1239509\tbest: 0.1245965 (343)\ttotal: 3.36s\tremaining: 1.44s\n",
      "350:\tlearn: 0.1516781\ttest: 0.1242737\tbest: 0.1245965 (343)\ttotal: 3.37s\tremaining: 1.43s\n",
      "351:\tlearn: 0.1517590\ttest: 0.1245965\tbest: 0.1245965 (343)\ttotal: 3.38s\tremaining: 1.42s\n",
      "352:\tlearn: 0.1522442\ttest: 0.1250807\tbest: 0.1250807 (352)\ttotal: 3.38s\tremaining: 1.41s\n",
      "353:\tlearn: 0.1523251\ttest: 0.1244351\tbest: 0.1250807 (352)\ttotal: 3.39s\tremaining: 1.4s\n",
      "354:\tlearn: 0.1523251\ttest: 0.1241123\tbest: 0.1250807 (352)\ttotal: 3.4s\tremaining: 1.39s\n",
      "355:\tlearn: 0.1523251\ttest: 0.1245965\tbest: 0.1250807 (352)\ttotal: 3.41s\tremaining: 1.38s\n",
      "356:\tlearn: 0.1526486\ttest: 0.1247579\tbest: 0.1250807 (352)\ttotal: 3.42s\tremaining: 1.37s\n",
      "357:\tlearn: 0.1527699\ttest: 0.1247579\tbest: 0.1250807 (352)\ttotal: 3.43s\tremaining: 1.36s\n",
      "358:\tlearn: 0.1526486\ttest: 0.1245965\tbest: 0.1250807 (352)\ttotal: 3.44s\tremaining: 1.35s\n",
      "359:\tlearn: 0.1530530\ttest: 0.1242737\tbest: 0.1250807 (352)\ttotal: 3.45s\tremaining: 1.34s\n",
      "360:\tlearn: 0.1529317\ttest: 0.1245965\tbest: 0.1250807 (352)\ttotal: 3.46s\tremaining: 1.33s\n",
      "361:\tlearn: 0.1532147\ttest: 0.1244351\tbest: 0.1250807 (352)\ttotal: 3.47s\tremaining: 1.32s\n",
      "362:\tlearn: 0.1535382\ttest: 0.1252421\tbest: 0.1252421 (362)\ttotal: 3.48s\tremaining: 1.31s\n",
      "363:\tlearn: 0.1537404\ttest: 0.1254035\tbest: 0.1254035 (363)\ttotal: 3.49s\tremaining: 1.3s\n",
      "364:\tlearn: 0.1534573\ttest: 0.1252421\tbest: 0.1254035 (363)\ttotal: 3.5s\tremaining: 1.29s\n",
      "365:\tlearn: 0.1534978\ttest: 0.1247579\tbest: 0.1254035 (363)\ttotal: 3.5s\tremaining: 1.28s\n",
      "366:\tlearn: 0.1537000\ttest: 0.1249193\tbest: 0.1254035 (363)\ttotal: 3.51s\tremaining: 1.27s\n",
      "367:\tlearn: 0.1537808\ttest: 0.1247579\tbest: 0.1254035 (363)\ttotal: 3.52s\tremaining: 1.26s\n",
      "368:\tlearn: 0.1538617\ttest: 0.1247579\tbest: 0.1254035 (363)\ttotal: 3.53s\tremaining: 1.25s\n",
      "369:\tlearn: 0.1538213\ttest: 0.1252421\tbest: 0.1254035 (363)\ttotal: 3.54s\tremaining: 1.24s\n",
      "370:\tlearn: 0.1540235\ttest: 0.1252421\tbest: 0.1254035 (363)\ttotal: 3.55s\tremaining: 1.23s\n",
      "371:\tlearn: 0.1540639\ttest: 0.1252421\tbest: 0.1254035 (363)\ttotal: 3.56s\tremaining: 1.22s\n",
      "372:\tlearn: 0.1543469\ttest: 0.1250807\tbest: 0.1254035 (363)\ttotal: 3.57s\tremaining: 1.22s\n",
      "373:\tlearn: 0.1543874\ttest: 0.1250807\tbest: 0.1254035 (363)\ttotal: 3.58s\tremaining: 1.21s\n",
      "374:\tlearn: 0.1545896\ttest: 0.1255649\tbest: 0.1255649 (374)\ttotal: 3.59s\tremaining: 1.2s\n",
      "375:\tlearn: 0.1547513\ttest: 0.1254035\tbest: 0.1255649 (374)\ttotal: 3.6s\tremaining: 1.19s\n",
      "376:\tlearn: 0.1549131\ttest: 0.1247579\tbest: 0.1255649 (374)\ttotal: 3.6s\tremaining: 1.18s\n",
      "377:\tlearn: 0.1551961\ttest: 0.1247579\tbest: 0.1255649 (374)\ttotal: 3.61s\tremaining: 1.17s\n",
      "378:\tlearn: 0.1554792\ttest: 0.1252421\tbest: 0.1255649 (374)\ttotal: 3.62s\tremaining: 1.16s\n",
      "379:\tlearn: 0.1556409\ttest: 0.1254035\tbest: 0.1255649 (374)\ttotal: 3.63s\tremaining: 1.15s\n",
      "380:\tlearn: 0.1558431\ttest: 0.1254035\tbest: 0.1255649 (374)\ttotal: 3.64s\tremaining: 1.14s\n",
      "381:\tlearn: 0.1562475\ttest: 0.1257263\tbest: 0.1257263 (381)\ttotal: 3.65s\tremaining: 1.13s\n",
      "382:\tlearn: 0.1562070\ttest: 0.1257263\tbest: 0.1257263 (381)\ttotal: 3.66s\tremaining: 1.12s\n",
      "383:\tlearn: 0.1563688\ttest: 0.1255649\tbest: 0.1257263 (381)\ttotal: 3.67s\tremaining: 1.11s\n",
      "384:\tlearn: 0.1563688\ttest: 0.1255649\tbest: 0.1257263 (381)\ttotal: 3.68s\tremaining: 1.1s\n",
      "385:\tlearn: 0.1565305\ttest: 0.1260491\tbest: 0.1260491 (385)\ttotal: 3.69s\tremaining: 1.09s\n",
      "386:\tlearn: 0.1568136\ttest: 0.1257263\tbest: 0.1260491 (385)\ttotal: 3.7s\tremaining: 1.08s\n",
      "387:\tlearn: 0.1573393\ttest: 0.1254035\tbest: 0.1260491 (385)\ttotal: 3.71s\tremaining: 1.07s\n",
      "388:\tlearn: 0.1571775\ttest: 0.1250807\tbest: 0.1260491 (385)\ttotal: 3.72s\tremaining: 1.06s\n",
      "389:\tlearn: 0.1572180\ttest: 0.1245965\tbest: 0.1260491 (385)\ttotal: 3.73s\tremaining: 1.05s\n",
      "390:\tlearn: 0.1569753\ttest: 0.1247579\tbest: 0.1260491 (385)\ttotal: 3.73s\tremaining: 1.04s\n",
      "391:\tlearn: 0.1570966\ttest: 0.1245965\tbest: 0.1260491 (385)\ttotal: 3.74s\tremaining: 1.03s\n",
      "392:\tlearn: 0.1571371\ttest: 0.1254035\tbest: 0.1260491 (385)\ttotal: 3.75s\tremaining: 1.02s\n",
      "393:\tlearn: 0.1571775\ttest: 0.1260491\tbest: 0.1260491 (385)\ttotal: 3.76s\tremaining: 1.01s\n",
      "394:\tlearn: 0.1571371\ttest: 0.1258877\tbest: 0.1260491 (385)\ttotal: 3.77s\tremaining: 1s\n",
      "395:\tlearn: 0.1569753\ttest: 0.1265332\tbest: 0.1265332 (395)\ttotal: 3.78s\tremaining: 993ms\n",
      "396:\tlearn: 0.1570966\ttest: 0.1263719\tbest: 0.1265332 (395)\ttotal: 3.79s\tremaining: 983ms\n",
      "397:\tlearn: 0.1575010\ttest: 0.1260491\tbest: 0.1265332 (395)\ttotal: 3.8s\tremaining: 974ms\n",
      "398:\tlearn: 0.1577032\ttest: 0.1262105\tbest: 0.1265332 (395)\ttotal: 3.81s\tremaining: 964ms\n",
      "399:\tlearn: 0.1574606\ttest: 0.1263719\tbest: 0.1265332 (395)\ttotal: 3.82s\tremaining: 955ms\n",
      "400:\tlearn: 0.1577841\ttest: 0.1257263\tbest: 0.1265332 (395)\ttotal: 3.83s\tremaining: 945ms\n",
      "401:\tlearn: 0.1579458\ttest: 0.1258877\tbest: 0.1265332 (395)\ttotal: 3.84s\tremaining: 935ms\n",
      "402:\tlearn: 0.1580267\ttest: 0.1255649\tbest: 0.1265332 (395)\ttotal: 3.85s\tremaining: 926ms\n",
      "403:\tlearn: 0.1580267\ttest: 0.1255649\tbest: 0.1265332 (395)\ttotal: 3.85s\tremaining: 916ms\n",
      "404:\tlearn: 0.1582289\ttest: 0.1257263\tbest: 0.1265332 (395)\ttotal: 3.86s\tremaining: 906ms\n",
      "405:\tlearn: 0.1586332\ttest: 0.1257263\tbest: 0.1265332 (395)\ttotal: 3.87s\tremaining: 897ms\n",
      "406:\tlearn: 0.1588354\ttest: 0.1263719\tbest: 0.1265332 (395)\ttotal: 3.88s\tremaining: 887ms\n",
      "407:\tlearn: 0.1592398\ttest: 0.1260491\tbest: 0.1265332 (395)\ttotal: 3.89s\tremaining: 878ms\n",
      "408:\tlearn: 0.1590780\ttest: 0.1262105\tbest: 0.1265332 (395)\ttotal: 3.9s\tremaining: 868ms\n",
      "409:\tlearn: 0.1588354\ttest: 0.1257263\tbest: 0.1265332 (395)\ttotal: 3.91s\tremaining: 859ms\n",
      "410:\tlearn: 0.1590780\ttest: 0.1257263\tbest: 0.1265332 (395)\ttotal: 3.92s\tremaining: 849ms\n",
      "411:\tlearn: 0.1589567\ttest: 0.1254035\tbest: 0.1265332 (395)\ttotal: 3.93s\tremaining: 840ms\n",
      "412:\tlearn: 0.1590780\ttest: 0.1254035\tbest: 0.1265332 (395)\ttotal: 3.94s\tremaining: 830ms\n",
      "413:\tlearn: 0.1591589\ttest: 0.1255649\tbest: 0.1265332 (395)\ttotal: 3.95s\tremaining: 820ms\n",
      "414:\tlearn: 0.1595228\ttest: 0.1254035\tbest: 0.1265332 (395)\ttotal: 3.96s\tremaining: 811ms\n",
      "415:\tlearn: 0.1597250\ttest: 0.1254035\tbest: 0.1265332 (395)\ttotal: 3.97s\tremaining: 801ms\n",
      "416:\tlearn: 0.1596037\ttest: 0.1255649\tbest: 0.1265332 (395)\ttotal: 3.98s\tremaining: 791ms\n",
      "417:\tlearn: 0.1597250\ttest: 0.1255649\tbest: 0.1265332 (395)\ttotal: 3.98s\tremaining: 782ms\n",
      "418:\tlearn: 0.1597655\ttest: 0.1258877\tbest: 0.1265332 (395)\ttotal: 3.99s\tremaining: 772ms\n",
      "419:\tlearn: 0.1601294\ttest: 0.1263719\tbest: 0.1265332 (395)\ttotal: 4s\tremaining: 763ms\n",
      "420:\tlearn: 0.1602507\ttest: 0.1263719\tbest: 0.1265332 (395)\ttotal: 4.01s\tremaining: 753ms\n",
      "421:\tlearn: 0.1608168\ttest: 0.1265332\tbest: 0.1265332 (395)\ttotal: 4.02s\tremaining: 743ms\n",
      "422:\tlearn: 0.1609786\ttest: 0.1268560\tbest: 0.1268560 (422)\ttotal: 4.03s\tremaining: 734ms\n",
      "423:\tlearn: 0.1608573\ttest: 0.1266946\tbest: 0.1268560 (422)\ttotal: 4.04s\tremaining: 724ms\n",
      "424:\tlearn: 0.1609786\ttest: 0.1266946\tbest: 0.1268560 (422)\ttotal: 4.05s\tremaining: 715ms\n",
      "425:\tlearn: 0.1613425\ttest: 0.1270174\tbest: 0.1270174 (425)\ttotal: 4.06s\tremaining: 705ms\n",
      "426:\tlearn: 0.1614234\ttest: 0.1262105\tbest: 0.1270174 (425)\ttotal: 4.07s\tremaining: 696ms\n",
      "427:\tlearn: 0.1617064\ttest: 0.1260491\tbest: 0.1270174 (425)\ttotal: 4.08s\tremaining: 686ms\n",
      "428:\tlearn: 0.1618277\ttest: 0.1260491\tbest: 0.1270174 (425)\ttotal: 4.09s\tremaining: 676ms\n",
      "429:\tlearn: 0.1621512\ttest: 0.1262105\tbest: 0.1270174 (425)\ttotal: 4.1s\tremaining: 667ms\n",
      "430:\tlearn: 0.1620704\ttest: 0.1263719\tbest: 0.1270174 (425)\ttotal: 4.11s\tremaining: 658ms\n",
      "431:\tlearn: 0.1620704\ttest: 0.1268560\tbest: 0.1270174 (425)\ttotal: 4.12s\tremaining: 648ms\n",
      "432:\tlearn: 0.1618682\ttest: 0.1268560\tbest: 0.1270174 (425)\ttotal: 4.13s\tremaining: 639ms\n",
      "433:\tlearn: 0.1624343\ttest: 0.1265332\tbest: 0.1270174 (425)\ttotal: 4.14s\tremaining: 629ms\n",
      "434:\tlearn: 0.1625556\ttest: 0.1266946\tbest: 0.1270174 (425)\ttotal: 4.15s\tremaining: 620ms\n",
      "435:\tlearn: 0.1623939\ttest: 0.1268560\tbest: 0.1270174 (425)\ttotal: 4.16s\tremaining: 610ms\n",
      "436:\tlearn: 0.1626769\ttest: 0.1266946\tbest: 0.1270174 (425)\ttotal: 4.17s\tremaining: 600ms\n",
      "437:\tlearn: 0.1627982\ttest: 0.1263719\tbest: 0.1270174 (425)\ttotal: 4.17s\tremaining: 591ms\n",
      "438:\tlearn: 0.1628387\ttest: 0.1262105\tbest: 0.1270174 (425)\ttotal: 4.18s\tremaining: 581ms\n",
      "439:\tlearn: 0.1626769\ttest: 0.1263719\tbest: 0.1270174 (425)\ttotal: 4.19s\tremaining: 572ms\n",
      "440:\tlearn: 0.1627982\ttest: 0.1262105\tbest: 0.1270174 (425)\ttotal: 4.2s\tremaining: 562ms\n",
      "441:\tlearn: 0.1629600\ttest: 0.1260491\tbest: 0.1270174 (425)\ttotal: 4.21s\tremaining: 553ms\n",
      "442:\tlearn: 0.1632835\ttest: 0.1262105\tbest: 0.1270174 (425)\ttotal: 4.22s\tremaining: 543ms\n",
      "443:\tlearn: 0.1633643\ttest: 0.1263719\tbest: 0.1270174 (425)\ttotal: 4.23s\tremaining: 534ms\n",
      "444:\tlearn: 0.1636070\ttest: 0.1268560\tbest: 0.1270174 (425)\ttotal: 4.24s\tremaining: 524ms\n",
      "445:\tlearn: 0.1639304\ttest: 0.1273402\tbest: 0.1273402 (445)\ttotal: 4.25s\tremaining: 514ms\n",
      "446:\tlearn: 0.1647392\ttest: 0.1270174\tbest: 0.1273402 (445)\ttotal: 4.26s\tremaining: 505ms\n",
      "447:\tlearn: 0.1648605\ttest: 0.1270174\tbest: 0.1273402 (445)\ttotal: 4.27s\tremaining: 495ms\n",
      "448:\tlearn: 0.1647796\ttest: 0.1270174\tbest: 0.1273402 (445)\ttotal: 4.28s\tremaining: 486ms\n",
      "449:\tlearn: 0.1646179\ttest: 0.1273402\tbest: 0.1273402 (445)\ttotal: 4.29s\tremaining: 476ms\n",
      "450:\tlearn: 0.1649414\ttest: 0.1271788\tbest: 0.1273402 (445)\ttotal: 4.29s\tremaining: 467ms\n",
      "451:\tlearn: 0.1651840\ttest: 0.1270174\tbest: 0.1273402 (445)\ttotal: 4.3s\tremaining: 457ms\n",
      "452:\tlearn: 0.1653457\ttest: 0.1273402\tbest: 0.1273402 (445)\ttotal: 4.31s\tremaining: 447ms\n",
      "453:\tlearn: 0.1655075\ttest: 0.1276630\tbest: 0.1276630 (453)\ttotal: 4.32s\tremaining: 438ms\n",
      "454:\tlearn: 0.1655884\ttest: 0.1276630\tbest: 0.1276630 (453)\ttotal: 4.33s\tremaining: 429ms\n",
      "455:\tlearn: 0.1657097\ttest: 0.1271788\tbest: 0.1276630 (453)\ttotal: 4.34s\tremaining: 419ms\n",
      "456:\tlearn: 0.1658714\ttest: 0.1271788\tbest: 0.1276630 (453)\ttotal: 4.35s\tremaining: 409ms\n",
      "457:\tlearn: 0.1660332\ttest: 0.1268560\tbest: 0.1276630 (453)\ttotal: 4.36s\tremaining: 400ms\n",
      "458:\tlearn: 0.1663162\ttest: 0.1273402\tbest: 0.1276630 (453)\ttotal: 4.37s\tremaining: 390ms\n",
      "459:\tlearn: 0.1663567\ttest: 0.1268560\tbest: 0.1276630 (453)\ttotal: 4.38s\tremaining: 381ms\n",
      "460:\tlearn: 0.1667206\ttest: 0.1278244\tbest: 0.1278244 (460)\ttotal: 4.39s\tremaining: 371ms\n",
      "461:\tlearn: 0.1668419\ttest: 0.1273402\tbest: 0.1278244 (460)\ttotal: 4.4s\tremaining: 362ms\n",
      "462:\tlearn: 0.1669632\ttest: 0.1275016\tbest: 0.1278244 (460)\ttotal: 4.41s\tremaining: 352ms\n",
      "463:\tlearn: 0.1671654\ttest: 0.1279858\tbest: 0.1279858 (463)\ttotal: 4.42s\tremaining: 343ms\n",
      "464:\tlearn: 0.1672463\ttest: 0.1278244\tbest: 0.1279858 (463)\ttotal: 4.43s\tremaining: 333ms\n",
      "465:\tlearn: 0.1674080\ttest: 0.1283086\tbest: 0.1283086 (465)\ttotal: 4.44s\tremaining: 324ms\n",
      "466:\tlearn: 0.1676911\ttest: 0.1284700\tbest: 0.1284700 (466)\ttotal: 4.45s\tremaining: 314ms\n",
      "467:\tlearn: 0.1679337\ttest: 0.1284700\tbest: 0.1284700 (466)\ttotal: 4.45s\tremaining: 305ms\n",
      "468:\tlearn: 0.1679337\ttest: 0.1283086\tbest: 0.1284700 (466)\ttotal: 4.46s\tremaining: 295ms\n",
      "469:\tlearn: 0.1678528\ttest: 0.1286314\tbest: 0.1286314 (469)\ttotal: 4.47s\tremaining: 285ms\n",
      "470:\tlearn: 0.1680146\ttest: 0.1283086\tbest: 0.1286314 (469)\ttotal: 4.48s\tremaining: 276ms\n",
      "471:\tlearn: 0.1683381\ttest: 0.1281472\tbest: 0.1286314 (469)\ttotal: 4.49s\tremaining: 266ms\n",
      "472:\tlearn: 0.1684594\ttest: 0.1279858\tbest: 0.1286314 (469)\ttotal: 4.5s\tremaining: 257ms\n",
      "473:\tlearn: 0.1687020\ttest: 0.1283086\tbest: 0.1286314 (469)\ttotal: 4.51s\tremaining: 247ms\n",
      "474:\tlearn: 0.1687829\ttest: 0.1283086\tbest: 0.1286314 (469)\ttotal: 4.52s\tremaining: 238ms\n",
      "475:\tlearn: 0.1686211\ttest: 0.1286314\tbest: 0.1286314 (469)\ttotal: 4.53s\tremaining: 228ms\n",
      "476:\tlearn: 0.1689446\ttest: 0.1284700\tbest: 0.1286314 (469)\ttotal: 4.54s\tremaining: 219ms\n",
      "477:\tlearn: 0.1692277\ttest: 0.1281472\tbest: 0.1286314 (469)\ttotal: 4.55s\tremaining: 209ms\n",
      "478:\tlearn: 0.1697533\ttest: 0.1283086\tbest: 0.1286314 (469)\ttotal: 4.56s\tremaining: 200ms\n",
      "479:\tlearn: 0.1698746\ttest: 0.1278244\tbest: 0.1286314 (469)\ttotal: 4.57s\tremaining: 190ms\n",
      "480:\tlearn: 0.1703599\ttest: 0.1278244\tbest: 0.1286314 (469)\ttotal: 4.58s\tremaining: 181ms\n",
      "481:\tlearn: 0.1710069\ttest: 0.1278244\tbest: 0.1286314 (469)\ttotal: 4.59s\tremaining: 171ms\n",
      "482:\tlearn: 0.1712899\ttest: 0.1276630\tbest: 0.1286314 (469)\ttotal: 4.6s\tremaining: 162ms\n",
      "483:\tlearn: 0.1713304\ttest: 0.1275016\tbest: 0.1286314 (469)\ttotal: 4.61s\tremaining: 152ms\n",
      "484:\tlearn: 0.1713304\ttest: 0.1278244\tbest: 0.1286314 (469)\ttotal: 4.62s\tremaining: 143ms\n",
      "485:\tlearn: 0.1712495\ttest: 0.1278244\tbest: 0.1286314 (469)\ttotal: 4.63s\tremaining: 133ms\n",
      "486:\tlearn: 0.1714517\ttest: 0.1279858\tbest: 0.1286314 (469)\ttotal: 4.63s\tremaining: 124ms\n",
      "487:\tlearn: 0.1717752\ttest: 0.1279858\tbest: 0.1286314 (469)\ttotal: 4.64s\tremaining: 114ms\n",
      "488:\tlearn: 0.1715326\ttest: 0.1281472\tbest: 0.1286314 (469)\ttotal: 4.65s\tremaining: 105ms\n",
      "489:\tlearn: 0.1716134\ttest: 0.1273402\tbest: 0.1286314 (469)\ttotal: 4.66s\tremaining: 95.1ms\n",
      "490:\tlearn: 0.1716539\ttest: 0.1275016\tbest: 0.1286314 (469)\ttotal: 4.67s\tremaining: 85.6ms\n",
      "491:\tlearn: 0.1718156\ttest: 0.1279858\tbest: 0.1286314 (469)\ttotal: 4.68s\tremaining: 76.1ms\n",
      "492:\tlearn: 0.1725435\ttest: 0.1273402\tbest: 0.1286314 (469)\ttotal: 4.69s\tremaining: 66.6ms\n",
      "493:\tlearn: 0.1727052\ttest: 0.1275016\tbest: 0.1286314 (469)\ttotal: 4.7s\tremaining: 57.1ms\n",
      "494:\tlearn: 0.1724222\ttest: 0.1275016\tbest: 0.1286314 (469)\ttotal: 4.71s\tremaining: 47.6ms\n",
      "495:\tlearn: 0.1725839\ttest: 0.1276630\tbest: 0.1286314 (469)\ttotal: 4.72s\tremaining: 38.1ms\n",
      "496:\tlearn: 0.1726648\ttest: 0.1275016\tbest: 0.1286314 (469)\ttotal: 4.73s\tremaining: 28.5ms\n",
      "497:\tlearn: 0.1728670\ttest: 0.1273402\tbest: 0.1286314 (469)\ttotal: 4.74s\tremaining: 19ms\n",
      "498:\tlearn: 0.1734735\ttest: 0.1276630\tbest: 0.1286314 (469)\ttotal: 4.75s\tremaining: 9.52ms\n",
      "499:\tlearn: 0.1739183\ttest: 0.1268560\tbest: 0.1286314 (469)\ttotal: 4.76s\tremaining: 0us\n",
      "\n",
      "bestTest = 0.1286313751\n",
      "bestIteration = 469\n",
      "\n",
      "Shrink model to first 470 iterations.\n"
     ]
    },
    {
     "data": {
      "text/plain": [
       "<catboost.core.CatBoostClassifier at 0x2bffd1660>"
      ]
     },
     "execution_count": 288,
     "metadata": {},
     "output_type": "execute_result"
    }
   ],
   "source": [
    "cboost = CatBoostClassifier(iterations=500,\n",
    "                            learning_rate=0.1,\n",
    "                            loss_function='Logloss',\n",
    "                            eval_metric='Recall')\n",
    "\n",
    "cboost.fit(train_pool, eval_set=val_pool)"
   ]
  },
  {
   "cell_type": "code",
   "execution_count": 289,
   "metadata": {},
   "outputs": [
    {
     "name": "stdout",
     "output_type": "stream",
     "text": [
      "Accuracy = 0.7039584032203958\n",
      "Recall = 0.1283530645886408\n",
      "Precision = 0.7034907597535934\n"
     ]
    }
   ],
   "source": [
    "y_pred = cboost.predict(X_test)\n",
    "\n",
    "print(\"Accuracy =\", accuracy_score(y_test, y_pred))\n",
    "print(\"Recall =\", recall_score(y_test, y_pred))\n",
    "print(\"Precision =\", precision_score(y_test, y_pred))"
   ]
  },
  {
   "cell_type": "markdown",
   "metadata": {},
   "source": [
    "## Random Forest Classifier"
   ]
  },
  {
   "cell_type": "code",
   "execution_count": 208,
   "metadata": {},
   "outputs": [
    {
     "data": {
      "text/html": [
       "<style>#sk-container-id-55 {color: black;}#sk-container-id-55 pre{padding: 0;}#sk-container-id-55 div.sk-toggleable {background-color: white;}#sk-container-id-55 label.sk-toggleable__label {cursor: pointer;display: block;width: 100%;margin-bottom: 0;padding: 0.3em;box-sizing: border-box;text-align: center;}#sk-container-id-55 label.sk-toggleable__label-arrow:before {content: \"▸\";float: left;margin-right: 0.25em;color: #696969;}#sk-container-id-55 label.sk-toggleable__label-arrow:hover:before {color: black;}#sk-container-id-55 div.sk-estimator:hover label.sk-toggleable__label-arrow:before {color: black;}#sk-container-id-55 div.sk-toggleable__content {max-height: 0;max-width: 0;overflow: hidden;text-align: left;background-color: #f0f8ff;}#sk-container-id-55 div.sk-toggleable__content pre {margin: 0.2em;color: black;border-radius: 0.25em;background-color: #f0f8ff;}#sk-container-id-55 input.sk-toggleable__control:checked~div.sk-toggleable__content {max-height: 200px;max-width: 100%;overflow: auto;}#sk-container-id-55 input.sk-toggleable__control:checked~label.sk-toggleable__label-arrow:before {content: \"▾\";}#sk-container-id-55 div.sk-estimator input.sk-toggleable__control:checked~label.sk-toggleable__label {background-color: #d4ebff;}#sk-container-id-55 div.sk-label input.sk-toggleable__control:checked~label.sk-toggleable__label {background-color: #d4ebff;}#sk-container-id-55 input.sk-hidden--visually {border: 0;clip: rect(1px 1px 1px 1px);clip: rect(1px, 1px, 1px, 1px);height: 1px;margin: -1px;overflow: hidden;padding: 0;position: absolute;width: 1px;}#sk-container-id-55 div.sk-estimator {font-family: monospace;background-color: #f0f8ff;border: 1px dotted black;border-radius: 0.25em;box-sizing: border-box;margin-bottom: 0.5em;}#sk-container-id-55 div.sk-estimator:hover {background-color: #d4ebff;}#sk-container-id-55 div.sk-parallel-item::after {content: \"\";width: 100%;border-bottom: 1px solid gray;flex-grow: 1;}#sk-container-id-55 div.sk-label:hover label.sk-toggleable__label {background-color: #d4ebff;}#sk-container-id-55 div.sk-serial::before {content: \"\";position: absolute;border-left: 1px solid gray;box-sizing: border-box;top: 0;bottom: 0;left: 50%;z-index: 0;}#sk-container-id-55 div.sk-serial {display: flex;flex-direction: column;align-items: center;background-color: white;padding-right: 0.2em;padding-left: 0.2em;position: relative;}#sk-container-id-55 div.sk-item {position: relative;z-index: 1;}#sk-container-id-55 div.sk-parallel {display: flex;align-items: stretch;justify-content: center;background-color: white;position: relative;}#sk-container-id-55 div.sk-item::before, #sk-container-id-55 div.sk-parallel-item::before {content: \"\";position: absolute;border-left: 1px solid gray;box-sizing: border-box;top: 0;bottom: 0;left: 50%;z-index: -1;}#sk-container-id-55 div.sk-parallel-item {display: flex;flex-direction: column;z-index: 1;position: relative;background-color: white;}#sk-container-id-55 div.sk-parallel-item:first-child::after {align-self: flex-end;width: 50%;}#sk-container-id-55 div.sk-parallel-item:last-child::after {align-self: flex-start;width: 50%;}#sk-container-id-55 div.sk-parallel-item:only-child::after {width: 0;}#sk-container-id-55 div.sk-dashed-wrapped {border: 1px dashed gray;margin: 0 0.4em 0.5em 0.4em;box-sizing: border-box;padding-bottom: 0.4em;background-color: white;}#sk-container-id-55 div.sk-label label {font-family: monospace;font-weight: bold;display: inline-block;line-height: 1.2em;}#sk-container-id-55 div.sk-label-container {text-align: center;}#sk-container-id-55 div.sk-container {/* jupyter's `normalize.less` sets `[hidden] { display: none; }` but bootstrap.min.css set `[hidden] { display: none !important; }` so we also need the `!important` here to be able to override the default hidden behavior on the sphinx rendered scikit-learn.org. See: https://github.com/scikit-learn/scikit-learn/issues/21755 */display: inline-block !important;position: relative;}#sk-container-id-55 div.sk-text-repr-fallback {display: none;}</style><div id=\"sk-container-id-55\" class=\"sk-top-container\"><div class=\"sk-text-repr-fallback\"><pre>RandomForestClassifier(criterion=&#x27;log_loss&#x27;)</pre><b>In a Jupyter environment, please rerun this cell to show the HTML representation or trust the notebook. <br />On GitHub, the HTML representation is unable to render, please try loading this page with nbviewer.org.</b></div><div class=\"sk-container\" hidden><div class=\"sk-item\"><div class=\"sk-estimator sk-toggleable\"><input class=\"sk-toggleable__control sk-hidden--visually\" id=\"sk-estimator-id-55\" type=\"checkbox\" checked><label for=\"sk-estimator-id-55\" class=\"sk-toggleable__label sk-toggleable__label-arrow\">RandomForestClassifier</label><div class=\"sk-toggleable__content\"><pre>RandomForestClassifier(criterion=&#x27;log_loss&#x27;)</pre></div></div></div></div></div>"
      ],
      "text/plain": [
       "RandomForestClassifier(criterion='log_loss')"
      ]
     },
     "execution_count": 208,
     "metadata": {},
     "output_type": "execute_result"
    }
   ],
   "source": [
    "rdc = RandomForestClassifier(n_estimators=100, criterion=\"log_loss\")\n",
    "rdc.fit(X_train, y_train)"
   ]
  },
  {
   "cell_type": "code",
   "execution_count": 209,
   "metadata": {},
   "outputs": [
    {
     "name": "stdout",
     "output_type": "stream",
     "text": [
      "Accuracy = 0.6933195955336177\n",
      "Recall = 0.10272740896148659\n",
      "Precision = 0.6246013667425968\n"
     ]
    }
   ],
   "source": [
    "y_pred = rdc.predict(X_test)\n",
    "\n",
    "print(\"Accuracy =\", accuracy_score(y_test, y_pred))\n",
    "print(\"Recall =\", recall_score(y_test, y_pred))\n",
    "print(\"Precision =\", precision_score(y_test, y_pred))"
   ]
  },
  {
   "cell_type": "markdown",
   "metadata": {},
   "source": [
    "## SGDC Classifier"
   ]
  },
  {
   "cell_type": "code",
   "execution_count": 212,
   "metadata": {},
   "outputs": [
    {
     "data": {
      "text/html": [
       "<style>#sk-container-id-57 {color: black;}#sk-container-id-57 pre{padding: 0;}#sk-container-id-57 div.sk-toggleable {background-color: white;}#sk-container-id-57 label.sk-toggleable__label {cursor: pointer;display: block;width: 100%;margin-bottom: 0;padding: 0.3em;box-sizing: border-box;text-align: center;}#sk-container-id-57 label.sk-toggleable__label-arrow:before {content: \"▸\";float: left;margin-right: 0.25em;color: #696969;}#sk-container-id-57 label.sk-toggleable__label-arrow:hover:before {color: black;}#sk-container-id-57 div.sk-estimator:hover label.sk-toggleable__label-arrow:before {color: black;}#sk-container-id-57 div.sk-toggleable__content {max-height: 0;max-width: 0;overflow: hidden;text-align: left;background-color: #f0f8ff;}#sk-container-id-57 div.sk-toggleable__content pre {margin: 0.2em;color: black;border-radius: 0.25em;background-color: #f0f8ff;}#sk-container-id-57 input.sk-toggleable__control:checked~div.sk-toggleable__content {max-height: 200px;max-width: 100%;overflow: auto;}#sk-container-id-57 input.sk-toggleable__control:checked~label.sk-toggleable__label-arrow:before {content: \"▾\";}#sk-container-id-57 div.sk-estimator input.sk-toggleable__control:checked~label.sk-toggleable__label {background-color: #d4ebff;}#sk-container-id-57 div.sk-label input.sk-toggleable__control:checked~label.sk-toggleable__label {background-color: #d4ebff;}#sk-container-id-57 input.sk-hidden--visually {border: 0;clip: rect(1px 1px 1px 1px);clip: rect(1px, 1px, 1px, 1px);height: 1px;margin: -1px;overflow: hidden;padding: 0;position: absolute;width: 1px;}#sk-container-id-57 div.sk-estimator {font-family: monospace;background-color: #f0f8ff;border: 1px dotted black;border-radius: 0.25em;box-sizing: border-box;margin-bottom: 0.5em;}#sk-container-id-57 div.sk-estimator:hover {background-color: #d4ebff;}#sk-container-id-57 div.sk-parallel-item::after {content: \"\";width: 100%;border-bottom: 1px solid gray;flex-grow: 1;}#sk-container-id-57 div.sk-label:hover label.sk-toggleable__label {background-color: #d4ebff;}#sk-container-id-57 div.sk-serial::before {content: \"\";position: absolute;border-left: 1px solid gray;box-sizing: border-box;top: 0;bottom: 0;left: 50%;z-index: 0;}#sk-container-id-57 div.sk-serial {display: flex;flex-direction: column;align-items: center;background-color: white;padding-right: 0.2em;padding-left: 0.2em;position: relative;}#sk-container-id-57 div.sk-item {position: relative;z-index: 1;}#sk-container-id-57 div.sk-parallel {display: flex;align-items: stretch;justify-content: center;background-color: white;position: relative;}#sk-container-id-57 div.sk-item::before, #sk-container-id-57 div.sk-parallel-item::before {content: \"\";position: absolute;border-left: 1px solid gray;box-sizing: border-box;top: 0;bottom: 0;left: 50%;z-index: -1;}#sk-container-id-57 div.sk-parallel-item {display: flex;flex-direction: column;z-index: 1;position: relative;background-color: white;}#sk-container-id-57 div.sk-parallel-item:first-child::after {align-self: flex-end;width: 50%;}#sk-container-id-57 div.sk-parallel-item:last-child::after {align-self: flex-start;width: 50%;}#sk-container-id-57 div.sk-parallel-item:only-child::after {width: 0;}#sk-container-id-57 div.sk-dashed-wrapped {border: 1px dashed gray;margin: 0 0.4em 0.5em 0.4em;box-sizing: border-box;padding-bottom: 0.4em;background-color: white;}#sk-container-id-57 div.sk-label label {font-family: monospace;font-weight: bold;display: inline-block;line-height: 1.2em;}#sk-container-id-57 div.sk-label-container {text-align: center;}#sk-container-id-57 div.sk-container {/* jupyter's `normalize.less` sets `[hidden] { display: none; }` but bootstrap.min.css set `[hidden] { display: none !important; }` so we also need the `!important` here to be able to override the default hidden behavior on the sphinx rendered scikit-learn.org. See: https://github.com/scikit-learn/scikit-learn/issues/21755 */display: inline-block !important;position: relative;}#sk-container-id-57 div.sk-text-repr-fallback {display: none;}</style><div id=\"sk-container-id-57\" class=\"sk-top-container\"><div class=\"sk-text-repr-fallback\"><pre>SGDClassifier()</pre><b>In a Jupyter environment, please rerun this cell to show the HTML representation or trust the notebook. <br />On GitHub, the HTML representation is unable to render, please try loading this page with nbviewer.org.</b></div><div class=\"sk-container\" hidden><div class=\"sk-item\"><div class=\"sk-estimator sk-toggleable\"><input class=\"sk-toggleable__control sk-hidden--visually\" id=\"sk-estimator-id-57\" type=\"checkbox\" checked><label for=\"sk-estimator-id-57\" class=\"sk-toggleable__label sk-toggleable__label-arrow\">SGDClassifier</label><div class=\"sk-toggleable__content\"><pre>SGDClassifier()</pre></div></div></div></div></div>"
      ],
      "text/plain": [
       "SGDClassifier()"
      ]
     },
     "execution_count": 212,
     "metadata": {},
     "output_type": "execute_result"
    }
   ],
   "source": [
    "sgdc = SGDClassifier()\n",
    "sgdc.fit(X_train, y_train)"
   ]
  },
  {
   "cell_type": "code",
   "execution_count": 213,
   "metadata": {},
   "outputs": [
    {
     "name": "stdout",
     "output_type": "stream",
     "text": [
      "Accuracy = 0.6802127761537355\n",
      "Recall = 0.0\n",
      "Precision = 0.0\n"
     ]
    },
    {
     "name": "stderr",
     "output_type": "stream",
     "text": [
      "/Users/jeremiesordoillet/.pyenv/versions/3.10.6/envs/mlb_classification/lib/python3.10/site-packages/sklearn/metrics/_classification.py:1469: UndefinedMetricWarning: Precision is ill-defined and being set to 0.0 due to no predicted samples. Use `zero_division` parameter to control this behavior.\n",
      "  _warn_prf(average, modifier, msg_start, len(result))\n"
     ]
    }
   ],
   "source": [
    "y_pred = sgdc.predict(X_test)\n",
    "\n",
    "print(\"Accuracy =\", accuracy_score(y_test, y_pred))\n",
    "print(\"Recall =\", recall_score(y_test, y_pred))\n",
    "print(\"Precision =\", precision_score(y_test, y_pred))"
   ]
  },
  {
   "cell_type": "markdown",
   "metadata": {},
   "source": [
    "## Deep learning"
   ]
  },
  {
   "cell_type": "code",
   "execution_count": 108,
   "metadata": {},
   "outputs": [],
   "source": [
    "from tensorflow.keras import layers, Sequential"
   ]
  },
  {
   "cell_type": "code",
   "execution_count": 109,
   "metadata": {},
   "outputs": [
    {
     "name": "stdout",
     "output_type": "stream",
     "text": [
      "Epoch 1/100\n",
      "4869/4869 [==============================] - 3s 499us/step - loss: 0.6198 - accuracy: 0.6840 - val_loss: 0.6101 - val_accuracy: 0.6873\n",
      "Epoch 2/100\n",
      "4869/4869 [==============================] - 2s 457us/step - loss: 0.6059 - accuracy: 0.6906 - val_loss: 0.6051 - val_accuracy: 0.6914\n",
      "Epoch 3/100\n",
      "4869/4869 [==============================] - 2s 465us/step - loss: 0.6027 - accuracy: 0.6920 - val_loss: 0.6048 - val_accuracy: 0.6925\n",
      "Epoch 4/100\n",
      "4869/4869 [==============================] - 2s 462us/step - loss: 0.6021 - accuracy: 0.6918 - val_loss: 0.6051 - val_accuracy: 0.6928\n",
      "Epoch 5/100\n",
      "4869/4869 [==============================] - 2s 468us/step - loss: 0.6018 - accuracy: 0.6928 - val_loss: 0.6030 - val_accuracy: 0.6932\n",
      "Epoch 6/100\n",
      "4869/4869 [==============================] - 2s 456us/step - loss: 0.6015 - accuracy: 0.6920 - val_loss: 0.6032 - val_accuracy: 0.6929\n",
      "Epoch 7/100\n",
      "4869/4869 [==============================] - 2s 462us/step - loss: 0.6013 - accuracy: 0.6917 - val_loss: 0.6024 - val_accuracy: 0.6935\n",
      "Epoch 8/100\n",
      "4869/4869 [==============================] - 2s 460us/step - loss: 0.6012 - accuracy: 0.6919 - val_loss: 0.6024 - val_accuracy: 0.6934\n",
      "Epoch 9/100\n",
      "4869/4869 [==============================] - 2s 452us/step - loss: 0.6010 - accuracy: 0.6926 - val_loss: 0.6027 - val_accuracy: 0.6934\n",
      "Epoch 10/100\n",
      "4869/4869 [==============================] - 2s 456us/step - loss: 0.6006 - accuracy: 0.6922 - val_loss: 0.6058 - val_accuracy: 0.6907\n",
      "Epoch 11/100\n",
      "4869/4869 [==============================] - 2s 455us/step - loss: 0.6007 - accuracy: 0.6923 - val_loss: 0.6049 - val_accuracy: 0.6914\n",
      "Epoch 12/100\n",
      "4869/4869 [==============================] - 2s 460us/step - loss: 0.6005 - accuracy: 0.6919 - val_loss: 0.6031 - val_accuracy: 0.6929\n",
      "Epoch 13/100\n",
      "4869/4869 [==============================] - 2s 458us/step - loss: 0.6006 - accuracy: 0.6923 - val_loss: 0.6027 - val_accuracy: 0.6932\n",
      "Epoch 14/100\n",
      "4869/4869 [==============================] - 2s 469us/step - loss: 0.6006 - accuracy: 0.6925 - val_loss: 0.6025 - val_accuracy: 0.6936\n",
      "Epoch 15/100\n",
      "4869/4869 [==============================] - 2s 460us/step - loss: 0.6002 - accuracy: 0.6933 - val_loss: 0.6053 - val_accuracy: 0.6924\n",
      "Epoch 16/100\n",
      "4869/4869 [==============================] - 2s 478us/step - loss: 0.6003 - accuracy: 0.6926 - val_loss: 0.6024 - val_accuracy: 0.6935\n",
      "Epoch 17/100\n",
      "4869/4869 [==============================] - 2s 469us/step - loss: 0.5999 - accuracy: 0.6928 - val_loss: 0.6035 - val_accuracy: 0.6918\n",
      "Epoch 18/100\n",
      "4869/4869 [==============================] - 2s 473us/step - loss: 0.5996 - accuracy: 0.6931 - val_loss: 0.6018 - val_accuracy: 0.6929\n",
      "Epoch 19/100\n",
      "4869/4869 [==============================] - 2s 489us/step - loss: 0.5990 - accuracy: 0.6935 - val_loss: 0.6015 - val_accuracy: 0.6934\n",
      "Epoch 20/100\n",
      "4869/4869 [==============================] - 2s 466us/step - loss: 0.5986 - accuracy: 0.6938 - val_loss: 0.6013 - val_accuracy: 0.6926\n",
      "Epoch 21/100\n",
      "4869/4869 [==============================] - 2s 450us/step - loss: 0.5982 - accuracy: 0.6935 - val_loss: 0.6063 - val_accuracy: 0.6929\n",
      "Epoch 22/100\n",
      "4869/4869 [==============================] - 2s 458us/step - loss: 0.5979 - accuracy: 0.6936 - val_loss: 0.6004 - val_accuracy: 0.6927\n",
      "Epoch 23/100\n",
      "4869/4869 [==============================] - 2s 463us/step - loss: 0.5978 - accuracy: 0.6939 - val_loss: 0.6025 - val_accuracy: 0.6924\n",
      "Epoch 24/100\n",
      "4869/4869 [==============================] - 2s 455us/step - loss: 0.5975 - accuracy: 0.6946 - val_loss: 0.6011 - val_accuracy: 0.6921\n",
      "Epoch 25/100\n",
      "4869/4869 [==============================] - 2s 457us/step - loss: 0.5976 - accuracy: 0.6937 - val_loss: 0.6021 - val_accuracy: 0.6918\n",
      "Epoch 26/100\n",
      "4869/4869 [==============================] - 2s 452us/step - loss: 0.5975 - accuracy: 0.6939 - val_loss: 0.6009 - val_accuracy: 0.6930\n",
      "Epoch 27/100\n",
      "4869/4869 [==============================] - 2s 457us/step - loss: 0.5973 - accuracy: 0.6939 - val_loss: 0.6015 - val_accuracy: 0.6939\n",
      "Epoch 28/100\n",
      "4869/4869 [==============================] - 2s 485us/step - loss: 0.5971 - accuracy: 0.6940 - val_loss: 0.6011 - val_accuracy: 0.6929\n",
      "Epoch 29/100\n",
      "4869/4869 [==============================] - 2s 450us/step - loss: 0.5970 - accuracy: 0.6943 - val_loss: 0.6043 - val_accuracy: 0.6929\n",
      "Epoch 30/100\n",
      "4869/4869 [==============================] - 2s 447us/step - loss: 0.5970 - accuracy: 0.6942 - val_loss: 0.6001 - val_accuracy: 0.6930\n",
      "Epoch 31/100\n",
      "4869/4869 [==============================] - 2s 442us/step - loss: 0.5968 - accuracy: 0.6941 - val_loss: 0.5995 - val_accuracy: 0.6926\n",
      "Epoch 32/100\n",
      "4869/4869 [==============================] - 2s 441us/step - loss: 0.5965 - accuracy: 0.6949 - val_loss: 0.6000 - val_accuracy: 0.6931\n",
      "Epoch 33/100\n",
      "4869/4869 [==============================] - 2s 442us/step - loss: 0.5969 - accuracy: 0.6941 - val_loss: 0.6003 - val_accuracy: 0.6936\n",
      "Epoch 34/100\n",
      "4869/4869 [==============================] - 2s 447us/step - loss: 0.5964 - accuracy: 0.6947 - val_loss: 0.6029 - val_accuracy: 0.6931\n",
      "Epoch 35/100\n",
      "4869/4869 [==============================] - 2s 476us/step - loss: 0.5964 - accuracy: 0.6945 - val_loss: 0.5995 - val_accuracy: 0.6937\n",
      "Epoch 36/100\n",
      "4869/4869 [==============================] - 2s 475us/step - loss: 0.5964 - accuracy: 0.6951 - val_loss: 0.5993 - val_accuracy: 0.6942\n",
      "Epoch 37/100\n",
      "4869/4869 [==============================] - 2s 448us/step - loss: 0.5962 - accuracy: 0.6942 - val_loss: 0.5994 - val_accuracy: 0.6936\n",
      "Epoch 38/100\n",
      "4869/4869 [==============================] - 2s 441us/step - loss: 0.5960 - accuracy: 0.6947 - val_loss: 0.5987 - val_accuracy: 0.6935\n",
      "Epoch 39/100\n",
      "4869/4869 [==============================] - 2s 441us/step - loss: 0.5960 - accuracy: 0.6950 - val_loss: 0.6026 - val_accuracy: 0.6930\n",
      "Epoch 40/100\n",
      "4869/4869 [==============================] - 2s 448us/step - loss: 0.5959 - accuracy: 0.6946 - val_loss: 0.5994 - val_accuracy: 0.6938\n",
      "Epoch 41/100\n",
      "4869/4869 [==============================] - 2s 441us/step - loss: 0.5957 - accuracy: 0.6948 - val_loss: 0.6001 - val_accuracy: 0.6941\n",
      "Epoch 42/100\n",
      "4869/4869 [==============================] - 2s 440us/step - loss: 0.5956 - accuracy: 0.6950 - val_loss: 0.5987 - val_accuracy: 0.6940\n",
      "Epoch 43/100\n",
      "4869/4869 [==============================] - 2s 441us/step - loss: 0.5957 - accuracy: 0.6947 - val_loss: 0.6006 - val_accuracy: 0.6923\n",
      "Epoch 44/100\n",
      "4869/4869 [==============================] - 2s 452us/step - loss: 0.5953 - accuracy: 0.6953 - val_loss: 0.5996 - val_accuracy: 0.6918\n",
      "Epoch 45/100\n",
      "4869/4869 [==============================] - 2s 436us/step - loss: 0.5954 - accuracy: 0.6947 - val_loss: 0.5996 - val_accuracy: 0.6942\n",
      "Epoch 46/100\n",
      "4869/4869 [==============================] - 2s 435us/step - loss: 0.5950 - accuracy: 0.6946 - val_loss: 0.5996 - val_accuracy: 0.6943\n",
      "Epoch 47/100\n",
      "4869/4869 [==============================] - 2s 439us/step - loss: 0.5952 - accuracy: 0.6953 - val_loss: 0.5998 - val_accuracy: 0.6945\n",
      "Epoch 48/100\n",
      "4869/4869 [==============================] - 2s 434us/step - loss: 0.5951 - accuracy: 0.6954 - val_loss: 0.6018 - val_accuracy: 0.6944\n",
      "Epoch 49/100\n",
      "4869/4869 [==============================] - 2s 434us/step - loss: 0.5949 - accuracy: 0.6952 - val_loss: 0.5977 - val_accuracy: 0.6946\n",
      "Epoch 50/100\n",
      "4869/4869 [==============================] - 2s 436us/step - loss: 0.5949 - accuracy: 0.6949 - val_loss: 0.5983 - val_accuracy: 0.6943\n",
      "Epoch 51/100\n",
      "4869/4869 [==============================] - 2s 431us/step - loss: 0.5949 - accuracy: 0.6950 - val_loss: 0.5978 - val_accuracy: 0.6944\n",
      "Epoch 52/100\n",
      "4869/4869 [==============================] - 2s 435us/step - loss: 0.5948 - accuracy: 0.6953 - val_loss: 0.5994 - val_accuracy: 0.6926\n",
      "Epoch 53/100\n",
      "4869/4869 [==============================] - 2s 437us/step - loss: 0.5946 - accuracy: 0.6953 - val_loss: 0.5978 - val_accuracy: 0.6941\n",
      "Epoch 54/100\n",
      "4869/4869 [==============================] - 2s 438us/step - loss: 0.5946 - accuracy: 0.6954 - val_loss: 0.5977 - val_accuracy: 0.6946\n",
      "Epoch 55/100\n",
      "4869/4869 [==============================] - 2s 426us/step - loss: 0.5947 - accuracy: 0.6953 - val_loss: 0.5986 - val_accuracy: 0.6945\n",
      "Epoch 56/100\n",
      "4869/4869 [==============================] - 2s 428us/step - loss: 0.5946 - accuracy: 0.6951 - val_loss: 0.5973 - val_accuracy: 0.6946\n",
      "Epoch 57/100\n",
      "4869/4869 [==============================] - 2s 422us/step - loss: 0.5945 - accuracy: 0.6951 - val_loss: 0.5975 - val_accuracy: 0.6952\n",
      "Epoch 58/100\n",
      "4869/4869 [==============================] - 2s 426us/step - loss: 0.5943 - accuracy: 0.6959 - val_loss: 0.5991 - val_accuracy: 0.6945\n",
      "Epoch 59/100\n",
      "4869/4869 [==============================] - 2s 449us/step - loss: 0.5942 - accuracy: 0.6960 - val_loss: 0.5975 - val_accuracy: 0.6948\n",
      "Epoch 60/100\n",
      "4869/4869 [==============================] - 2s 500us/step - loss: 0.5942 - accuracy: 0.6955 - val_loss: 0.5973 - val_accuracy: 0.6941\n",
      "Epoch 61/100\n",
      "4869/4869 [==============================] - 2s 430us/step - loss: 0.5942 - accuracy: 0.6954 - val_loss: 0.5973 - val_accuracy: 0.6947\n",
      "Epoch 62/100\n",
      "4869/4869 [==============================] - 2s 438us/step - loss: 0.5941 - accuracy: 0.6956 - val_loss: 0.5969 - val_accuracy: 0.6954\n",
      "Epoch 63/100\n",
      "4869/4869 [==============================] - 2s 431us/step - loss: 0.5938 - accuracy: 0.6957 - val_loss: 0.5966 - val_accuracy: 0.6945\n",
      "Epoch 64/100\n",
      "4869/4869 [==============================] - 2s 451us/step - loss: 0.5938 - accuracy: 0.6959 - val_loss: 0.5967 - val_accuracy: 0.6953\n",
      "Epoch 65/100\n",
      "4869/4869 [==============================] - 2s 498us/step - loss: 0.5937 - accuracy: 0.6960 - val_loss: 0.5967 - val_accuracy: 0.6957\n",
      "Epoch 66/100\n",
      "4869/4869 [==============================] - 3s 565us/step - loss: 0.5935 - accuracy: 0.6956 - val_loss: 0.5970 - val_accuracy: 0.6952\n",
      "Epoch 67/100\n",
      "4869/4869 [==============================] - 3s 639us/step - loss: 0.5935 - accuracy: 0.6958 - val_loss: 0.5961 - val_accuracy: 0.6957\n",
      "Epoch 68/100\n",
      "4869/4869 [==============================] - 2s 471us/step - loss: 0.5934 - accuracy: 0.6967 - val_loss: 0.5963 - val_accuracy: 0.6960\n",
      "Epoch 69/100\n",
      "4869/4869 [==============================] - 2s 504us/step - loss: 0.5931 - accuracy: 0.6958 - val_loss: 0.5961 - val_accuracy: 0.6955\n",
      "Epoch 70/100\n",
      "4869/4869 [==============================] - 3s 694us/step - loss: 0.5930 - accuracy: 0.6960 - val_loss: 0.5983 - val_accuracy: 0.6942\n",
      "Epoch 71/100\n",
      "4869/4869 [==============================] - 3s 519us/step - loss: 0.5928 - accuracy: 0.6966 - val_loss: 0.5965 - val_accuracy: 0.6942\n",
      "Epoch 72/100\n",
      "4869/4869 [==============================] - 2s 481us/step - loss: 0.5926 - accuracy: 0.6961 - val_loss: 0.5960 - val_accuracy: 0.6953\n",
      "Epoch 73/100\n",
      "4869/4869 [==============================] - 2s 496us/step - loss: 0.5927 - accuracy: 0.6969 - val_loss: 0.5965 - val_accuracy: 0.6966\n",
      "Epoch 74/100\n",
      "4869/4869 [==============================] - 4s 844us/step - loss: 0.5923 - accuracy: 0.6964 - val_loss: 0.5959 - val_accuracy: 0.6965\n",
      "Epoch 75/100\n",
      "4869/4869 [==============================] - 3s 527us/step - loss: 0.5921 - accuracy: 0.6975 - val_loss: 0.5948 - val_accuracy: 0.6968\n",
      "Epoch 76/100\n",
      "4869/4869 [==============================] - 2s 474us/step - loss: 0.5920 - accuracy: 0.6971 - val_loss: 0.5954 - val_accuracy: 0.6953\n",
      "Epoch 77/100\n",
      "4869/4869 [==============================] - 2s 489us/step - loss: 0.5920 - accuracy: 0.6975 - val_loss: 0.5961 - val_accuracy: 0.6960\n",
      "Epoch 78/100\n",
      "4869/4869 [==============================] - 2s 453us/step - loss: 0.5918 - accuracy: 0.6970 - val_loss: 0.5954 - val_accuracy: 0.6951\n",
      "Epoch 79/100\n",
      "4869/4869 [==============================] - 2s 453us/step - loss: 0.5913 - accuracy: 0.6971 - val_loss: 0.5962 - val_accuracy: 0.6964\n",
      "Epoch 80/100\n",
      "4869/4869 [==============================] - 2s 459us/step - loss: 0.5911 - accuracy: 0.6981 - val_loss: 0.5939 - val_accuracy: 0.6968\n",
      "Epoch 81/100\n",
      "4869/4869 [==============================] - 2s 451us/step - loss: 0.5911 - accuracy: 0.6977 - val_loss: 0.5951 - val_accuracy: 0.6967\n",
      "Epoch 82/100\n",
      "4869/4869 [==============================] - 2s 442us/step - loss: 0.5908 - accuracy: 0.6980 - val_loss: 0.5953 - val_accuracy: 0.6971\n",
      "Epoch 83/100\n",
      "4869/4869 [==============================] - 2s 446us/step - loss: 0.5907 - accuracy: 0.6979 - val_loss: 0.5940 - val_accuracy: 0.6976\n",
      "Epoch 84/100\n",
      "4869/4869 [==============================] - 2s 441us/step - loss: 0.5907 - accuracy: 0.6981 - val_loss: 0.5949 - val_accuracy: 0.6972\n",
      "Epoch 85/100\n",
      "4869/4869 [==============================] - 2s 443us/step - loss: 0.5903 - accuracy: 0.6978 - val_loss: 0.5941 - val_accuracy: 0.6973\n",
      "Epoch 86/100\n",
      "4869/4869 [==============================] - 2s 461us/step - loss: 0.5905 - accuracy: 0.6980 - val_loss: 0.5932 - val_accuracy: 0.6971\n",
      "Epoch 87/100\n",
      "4869/4869 [==============================] - 2s 442us/step - loss: 0.5899 - accuracy: 0.6977 - val_loss: 0.5946 - val_accuracy: 0.6973\n",
      "Epoch 88/100\n",
      "4869/4869 [==============================] - 2s 449us/step - loss: 0.5903 - accuracy: 0.6981 - val_loss: 0.5927 - val_accuracy: 0.6984\n",
      "Epoch 89/100\n",
      "4869/4869 [==============================] - 2s 443us/step - loss: 0.5900 - accuracy: 0.6981 - val_loss: 0.5955 - val_accuracy: 0.6966\n",
      "Epoch 90/100\n",
      "4869/4869 [==============================] - 2s 442us/step - loss: 0.5897 - accuracy: 0.6986 - val_loss: 0.5932 - val_accuracy: 0.6960\n",
      "Epoch 91/100\n",
      "4869/4869 [==============================] - 2s 448us/step - loss: 0.5898 - accuracy: 0.6983 - val_loss: 0.5936 - val_accuracy: 0.6972\n",
      "Epoch 92/100\n",
      "4869/4869 [==============================] - 2s 439us/step - loss: 0.5897 - accuracy: 0.6989 - val_loss: 0.5926 - val_accuracy: 0.6975\n",
      "Epoch 93/100\n",
      "4869/4869 [==============================] - 2s 447us/step - loss: 0.5896 - accuracy: 0.6989 - val_loss: 0.5926 - val_accuracy: 0.6981\n",
      "Epoch 94/100\n",
      "4869/4869 [==============================] - 2s 443us/step - loss: 0.5894 - accuracy: 0.6990 - val_loss: 0.5933 - val_accuracy: 0.6978\n",
      "Epoch 95/100\n",
      "4869/4869 [==============================] - 2s 442us/step - loss: 0.5891 - accuracy: 0.6988 - val_loss: 0.5945 - val_accuracy: 0.6960\n",
      "Epoch 96/100\n",
      "4869/4869 [==============================] - 3s 514us/step - loss: 0.5892 - accuracy: 0.6984 - val_loss: 0.5926 - val_accuracy: 0.6971\n",
      "Epoch 97/100\n",
      "4869/4869 [==============================] - 2s 509us/step - loss: 0.5889 - accuracy: 0.6986 - val_loss: 0.5939 - val_accuracy: 0.6988\n",
      "Epoch 98/100\n",
      "4869/4869 [==============================] - 2s 470us/step - loss: 0.5888 - accuracy: 0.6992 - val_loss: 0.5926 - val_accuracy: 0.6981\n",
      "Epoch 99/100\n",
      "4869/4869 [==============================] - 2s 460us/step - loss: 0.5889 - accuracy: 0.6987 - val_loss: 0.5915 - val_accuracy: 0.6984\n",
      "Epoch 100/100\n",
      "4869/4869 [==============================] - 2s 465us/step - loss: 0.5887 - accuracy: 0.6996 - val_loss: 0.5938 - val_accuracy: 0.6971\n"
     ]
    }
   ],
   "source": [
    "model_dl = Sequential([\n",
    "    layers.Dense(5, activation=\"relu\", input_dim=35),\n",
    "    layers.Dense(5, activation=\"relu\"),\n",
    "    layers.Dense(1, activation=\"sigmoid\")\n",
    "])\n",
    "\n",
    "model_dl.compile(optimizer=\"adam\",\n",
    "              loss='binary_crossentropy', \n",
    "              metrics = 'accuracy')\n",
    "\n",
    "history = model_dl.fit(X_train,\n",
    "                       y_train,\n",
    "                       batch_size=16,\n",
    "                       epochs=100,\n",
    "                       use_multiprocessing=True,\n",
    "                       validation_split=0.2,\n",
    "                       verbose=True)"
   ]
  },
  {
   "cell_type": "code",
   "execution_count": 110,
   "metadata": {},
   "outputs": [
    {
     "data": {
      "text/plain": [
       "<matplotlib.legend.Legend at 0x2afa8bf40>"
      ]
     },
     "execution_count": 110,
     "metadata": {},
     "output_type": "execute_result"
    },
    {
     "data": {
      "image/png": "[encoded data removed]",
      "text/plain": [
       "<Figure size 1300x400 with 2 Axes>"
      ]
     },
     "metadata": {},
     "output_type": "display_data"
    }
   ],
   "source": [
    "fig, (ax1, ax2) = plt.subplots(1,2, figsize=(13,4))\n",
    "\n",
    "ax1.plot(history.history['loss'], label=\"Train loss\")\n",
    "ax1.plot(history.history['val_loss'], label=\"Test loss\")\n",
    "ax1.set_xlabel('Epoch')\n",
    "ax1.legend()\n",
    "\n",
    "ax2.plot(history.history['accuracy'], label=\"Train accuracy\")\n",
    "ax2.plot(history.history['val_accuracy'], label=\"Test accuracy\")\n",
    "ax2.set_xlabel('Epoch')\n",
    "ax2.legend()"
   ]
  },
  {
   "cell_type": "code",
   "execution_count": 111,
   "metadata": {},
   "outputs": [
    {
     "name": "stdout",
     "output_type": "stream",
     "text": [
      "1305/1305 [==============================] - 0s 248us/step\n"
     ]
    },
    {
     "data": {
      "text/plain": [
       "array([[0.41992623],\n",
       "       [0.24921474],\n",
       "       [0.22991875],\n",
       "       ...,\n",
       "       [0.27609116],\n",
       "       [0.2743203 ],\n",
       "       [0.24061224]], dtype=float32)"
      ]
     },
     "execution_count": 111,
     "metadata": {},
     "output_type": "execute_result"
    }
   ],
   "source": [
    "y_pred = model_dl.predict(X_test)\n",
    "y_pred"
   ]
  },
  {
   "cell_type": "code",
   "execution_count": 112,
   "metadata": {},
   "outputs": [],
   "source": [
    "y_pred = np.round(y_pred)"
   ]
  },
  {
   "cell_type": "code",
   "execution_count": 113,
   "metadata": {},
   "outputs": [
    {
     "name": "stdout",
     "output_type": "stream",
     "text": [
      "Accuracy = 0.6914506158048593\n",
      "Recall = 0.061490359562272015\n",
      "Precision = 0.7536496350364964\n"
     ]
    }
   ],
   "source": [
    "print(\"Accuracy =\", accuracy_score(y_test, y_pred))\n",
    "print(\"Recall =\", recall_score(y_test, y_pred))\n",
    "print(\"Precision =\", precision_score(y_test, y_pred))"
   ]
  },
  {
   "cell_type": "markdown",
   "metadata": {},
   "source": [
    "## Try PCA before model"
   ]
  },
  {
   "cell_type": "code",
   "execution_count": 214,
   "metadata": {},
   "outputs": [
    {
     "data": {
      "text/html": [
       "<style>#sk-container-id-58 {color: black;}#sk-container-id-58 pre{padding: 0;}#sk-container-id-58 div.sk-toggleable {background-color: white;}#sk-container-id-58 label.sk-toggleable__label {cursor: pointer;display: block;width: 100%;margin-bottom: 0;padding: 0.3em;box-sizing: border-box;text-align: center;}#sk-container-id-58 label.sk-toggleable__label-arrow:before {content: \"▸\";float: left;margin-right: 0.25em;color: #696969;}#sk-container-id-58 label.sk-toggleable__label-arrow:hover:before {color: black;}#sk-container-id-58 div.sk-estimator:hover label.sk-toggleable__label-arrow:before {color: black;}#sk-container-id-58 div.sk-toggleable__content {max-height: 0;max-width: 0;overflow: hidden;text-align: left;background-color: #f0f8ff;}#sk-container-id-58 div.sk-toggleable__content pre {margin: 0.2em;color: black;border-radius: 0.25em;background-color: #f0f8ff;}#sk-container-id-58 input.sk-toggleable__control:checked~div.sk-toggleable__content {max-height: 200px;max-width: 100%;overflow: auto;}#sk-container-id-58 input.sk-toggleable__control:checked~label.sk-toggleable__label-arrow:before {content: \"▾\";}#sk-container-id-58 div.sk-estimator input.sk-toggleable__control:checked~label.sk-toggleable__label {background-color: #d4ebff;}#sk-container-id-58 div.sk-label input.sk-toggleable__control:checked~label.sk-toggleable__label {background-color: #d4ebff;}#sk-container-id-58 input.sk-hidden--visually {border: 0;clip: rect(1px 1px 1px 1px);clip: rect(1px, 1px, 1px, 1px);height: 1px;margin: -1px;overflow: hidden;padding: 0;position: absolute;width: 1px;}#sk-container-id-58 div.sk-estimator {font-family: monospace;background-color: #f0f8ff;border: 1px dotted black;border-radius: 0.25em;box-sizing: border-box;margin-bottom: 0.5em;}#sk-container-id-58 div.sk-estimator:hover {background-color: #d4ebff;}#sk-container-id-58 div.sk-parallel-item::after {content: \"\";width: 100%;border-bottom: 1px solid gray;flex-grow: 1;}#sk-container-id-58 div.sk-label:hover label.sk-toggleable__label {background-color: #d4ebff;}#sk-container-id-58 div.sk-serial::before {content: \"\";position: absolute;border-left: 1px solid gray;box-sizing: border-box;top: 0;bottom: 0;left: 50%;z-index: 0;}#sk-container-id-58 div.sk-serial {display: flex;flex-direction: column;align-items: center;background-color: white;padding-right: 0.2em;padding-left: 0.2em;position: relative;}#sk-container-id-58 div.sk-item {position: relative;z-index: 1;}#sk-container-id-58 div.sk-parallel {display: flex;align-items: stretch;justify-content: center;background-color: white;position: relative;}#sk-container-id-58 div.sk-item::before, #sk-container-id-58 div.sk-parallel-item::before {content: \"\";position: absolute;border-left: 1px solid gray;box-sizing: border-box;top: 0;bottom: 0;left: 50%;z-index: -1;}#sk-container-id-58 div.sk-parallel-item {display: flex;flex-direction: column;z-index: 1;position: relative;background-color: white;}#sk-container-id-58 div.sk-parallel-item:first-child::after {align-self: flex-end;width: 50%;}#sk-container-id-58 div.sk-parallel-item:last-child::after {align-self: flex-start;width: 50%;}#sk-container-id-58 div.sk-parallel-item:only-child::after {width: 0;}#sk-container-id-58 div.sk-dashed-wrapped {border: 1px dashed gray;margin: 0 0.4em 0.5em 0.4em;box-sizing: border-box;padding-bottom: 0.4em;background-color: white;}#sk-container-id-58 div.sk-label label {font-family: monospace;font-weight: bold;display: inline-block;line-height: 1.2em;}#sk-container-id-58 div.sk-label-container {text-align: center;}#sk-container-id-58 div.sk-container {/* jupyter's `normalize.less` sets `[hidden] { display: none; }` but bootstrap.min.css set `[hidden] { display: none !important; }` so we also need the `!important` here to be able to override the default hidden behavior on the sphinx rendered scikit-learn.org. See: https://github.com/scikit-learn/scikit-learn/issues/21755 */display: inline-block !important;position: relative;}#sk-container-id-58 div.sk-text-repr-fallback {display: none;}</style><div id=\"sk-container-id-58\" class=\"sk-top-container\"><div class=\"sk-text-repr-fallback\"><pre>Pipeline(steps=[(&#x27;pca&#x27;, PCA(n_components=3)),\n",
       "                (&#x27;gradientboostingclassifier&#x27;, GradientBoostingClassifier())])</pre><b>In a Jupyter environment, please rerun this cell to show the HTML representation or trust the notebook. <br />On GitHub, the HTML representation is unable to render, please try loading this page with nbviewer.org.</b></div><div class=\"sk-container\" hidden><div class=\"sk-item sk-dashed-wrapped\"><div class=\"sk-label-container\"><div class=\"sk-label sk-toggleable\"><input class=\"sk-toggleable__control sk-hidden--visually\" id=\"sk-estimator-id-58\" type=\"checkbox\" ><label for=\"sk-estimator-id-58\" class=\"sk-toggleable__label sk-toggleable__label-arrow\">Pipeline</label><div class=\"sk-toggleable__content\"><pre>Pipeline(steps=[(&#x27;pca&#x27;, PCA(n_components=3)),\n",
       "                (&#x27;gradientboostingclassifier&#x27;, GradientBoostingClassifier())])</pre></div></div></div><div class=\"sk-serial\"><div class=\"sk-item\"><div class=\"sk-estimator sk-toggleable\"><input class=\"sk-toggleable__control sk-hidden--visually\" id=\"sk-estimator-id-59\" type=\"checkbox\" ><label for=\"sk-estimator-id-59\" class=\"sk-toggleable__label sk-toggleable__label-arrow\">PCA</label><div class=\"sk-toggleable__content\"><pre>PCA(n_components=3)</pre></div></div></div><div class=\"sk-item\"><div class=\"sk-estimator sk-toggleable\"><input class=\"sk-toggleable__control sk-hidden--visually\" id=\"sk-estimator-id-60\" type=\"checkbox\" ><label for=\"sk-estimator-id-60\" class=\"sk-toggleable__label sk-toggleable__label-arrow\">GradientBoostingClassifier</label><div class=\"sk-toggleable__content\"><pre>GradientBoostingClassifier()</pre></div></div></div></div></div></div></div>"
      ],
      "text/plain": [
       "Pipeline(steps=[('pca', PCA(n_components=3)),\n",
       "                ('gradientboostingclassifier', GradientBoostingClassifier())])"
      ]
     },
     "execution_count": 214,
     "metadata": {},
     "output_type": "execute_result"
    }
   ],
   "source": [
    "from sklearn.decomposition import PCA\n",
    "from sklearn.pipeline import make_pipeline\n",
    "\n",
    "pca = PCA(n_components=3)\n",
    "\n",
    "pipe = make_pipeline(pca,\n",
    "               GradientBoostingClassifier())\n",
    "pipe"
   ]
  },
  {
   "cell_type": "code",
   "execution_count": 215,
   "metadata": {},
   "outputs": [
    {
     "data": {
      "text/html": [
       "<style>#sk-container-id-59 {color: black;}#sk-container-id-59 pre{padding: 0;}#sk-container-id-59 div.sk-toggleable {background-color: white;}#sk-container-id-59 label.sk-toggleable__label {cursor: pointer;display: block;width: 100%;margin-bottom: 0;padding: 0.3em;box-sizing: border-box;text-align: center;}#sk-container-id-59 label.sk-toggleable__label-arrow:before {content: \"▸\";float: left;margin-right: 0.25em;color: #696969;}#sk-container-id-59 label.sk-toggleable__label-arrow:hover:before {color: black;}#sk-container-id-59 div.sk-estimator:hover label.sk-toggleable__label-arrow:before {color: black;}#sk-container-id-59 div.sk-toggleable__content {max-height: 0;max-width: 0;overflow: hidden;text-align: left;background-color: #f0f8ff;}#sk-container-id-59 div.sk-toggleable__content pre {margin: 0.2em;color: black;border-radius: 0.25em;background-color: #f0f8ff;}#sk-container-id-59 input.sk-toggleable__control:checked~div.sk-toggleable__content {max-height: 200px;max-width: 100%;overflow: auto;}#sk-container-id-59 input.sk-toggleable__control:checked~label.sk-toggleable__label-arrow:before {content: \"▾\";}#sk-container-id-59 div.sk-estimator input.sk-toggleable__control:checked~label.sk-toggleable__label {background-color: #d4ebff;}#sk-container-id-59 div.sk-label input.sk-toggleable__control:checked~label.sk-toggleable__label {background-color: #d4ebff;}#sk-container-id-59 input.sk-hidden--visually {border: 0;clip: rect(1px 1px 1px 1px);clip: rect(1px, 1px, 1px, 1px);height: 1px;margin: -1px;overflow: hidden;padding: 0;position: absolute;width: 1px;}#sk-container-id-59 div.sk-estimator {font-family: monospace;background-color: #f0f8ff;border: 1px dotted black;border-radius: 0.25em;box-sizing: border-box;margin-bottom: 0.5em;}#sk-container-id-59 div.sk-estimator:hover {background-color: #d4ebff;}#sk-container-id-59 div.sk-parallel-item::after {content: \"\";width: 100%;border-bottom: 1px solid gray;flex-grow: 1;}#sk-container-id-59 div.sk-label:hover label.sk-toggleable__label {background-color: #d4ebff;}#sk-container-id-59 div.sk-serial::before {content: \"\";position: absolute;border-left: 1px solid gray;box-sizing: border-box;top: 0;bottom: 0;left: 50%;z-index: 0;}#sk-container-id-59 div.sk-serial {display: flex;flex-direction: column;align-items: center;background-color: white;padding-right: 0.2em;padding-left: 0.2em;position: relative;}#sk-container-id-59 div.sk-item {position: relative;z-index: 1;}#sk-container-id-59 div.sk-parallel {display: flex;align-items: stretch;justify-content: center;background-color: white;position: relative;}#sk-container-id-59 div.sk-item::before, #sk-container-id-59 div.sk-parallel-item::before {content: \"\";position: absolute;border-left: 1px solid gray;box-sizing: border-box;top: 0;bottom: 0;left: 50%;z-index: -1;}#sk-container-id-59 div.sk-parallel-item {display: flex;flex-direction: column;z-index: 1;position: relative;background-color: white;}#sk-container-id-59 div.sk-parallel-item:first-child::after {align-self: flex-end;width: 50%;}#sk-container-id-59 div.sk-parallel-item:last-child::after {align-self: flex-start;width: 50%;}#sk-container-id-59 div.sk-parallel-item:only-child::after {width: 0;}#sk-container-id-59 div.sk-dashed-wrapped {border: 1px dashed gray;margin: 0 0.4em 0.5em 0.4em;box-sizing: border-box;padding-bottom: 0.4em;background-color: white;}#sk-container-id-59 div.sk-label label {font-family: monospace;font-weight: bold;display: inline-block;line-height: 1.2em;}#sk-container-id-59 div.sk-label-container {text-align: center;}#sk-container-id-59 div.sk-container {/* jupyter's `normalize.less` sets `[hidden] { display: none; }` but bootstrap.min.css set `[hidden] { display: none !important; }` so we also need the `!important` here to be able to override the default hidden behavior on the sphinx rendered scikit-learn.org. See: https://github.com/scikit-learn/scikit-learn/issues/21755 */display: inline-block !important;position: relative;}#sk-container-id-59 div.sk-text-repr-fallback {display: none;}</style><div id=\"sk-container-id-59\" class=\"sk-top-container\"><div class=\"sk-text-repr-fallback\"><pre>Pipeline(steps=[(&#x27;pca&#x27;, PCA(n_components=3)),\n",
       "                (&#x27;gradientboostingclassifier&#x27;, GradientBoostingClassifier())])</pre><b>In a Jupyter environment, please rerun this cell to show the HTML representation or trust the notebook. <br />On GitHub, the HTML representation is unable to render, please try loading this page with nbviewer.org.</b></div><div class=\"sk-container\" hidden><div class=\"sk-item sk-dashed-wrapped\"><div class=\"sk-label-container\"><div class=\"sk-label sk-toggleable\"><input class=\"sk-toggleable__control sk-hidden--visually\" id=\"sk-estimator-id-61\" type=\"checkbox\" ><label for=\"sk-estimator-id-61\" class=\"sk-toggleable__label sk-toggleable__label-arrow\">Pipeline</label><div class=\"sk-toggleable__content\"><pre>Pipeline(steps=[(&#x27;pca&#x27;, PCA(n_components=3)),\n",
       "                (&#x27;gradientboostingclassifier&#x27;, GradientBoostingClassifier())])</pre></div></div></div><div class=\"sk-serial\"><div class=\"sk-item\"><div class=\"sk-estimator sk-toggleable\"><input class=\"sk-toggleable__control sk-hidden--visually\" id=\"sk-estimator-id-62\" type=\"checkbox\" ><label for=\"sk-estimator-id-62\" class=\"sk-toggleable__label sk-toggleable__label-arrow\">PCA</label><div class=\"sk-toggleable__content\"><pre>PCA(n_components=3)</pre></div></div></div><div class=\"sk-item\"><div class=\"sk-estimator sk-toggleable\"><input class=\"sk-toggleable__control sk-hidden--visually\" id=\"sk-estimator-id-63\" type=\"checkbox\" ><label for=\"sk-estimator-id-63\" class=\"sk-toggleable__label sk-toggleable__label-arrow\">GradientBoostingClassifier</label><div class=\"sk-toggleable__content\"><pre>GradientBoostingClassifier()</pre></div></div></div></div></div></div></div>"
      ],
      "text/plain": [
       "Pipeline(steps=[('pca', PCA(n_components=3)),\n",
       "                ('gradientboostingclassifier', GradientBoostingClassifier())])"
      ]
     },
     "execution_count": 215,
     "metadata": {},
     "output_type": "execute_result"
    }
   ],
   "source": [
    "pipe.fit(X_train, y_train)"
   ]
  },
  {
   "cell_type": "code",
   "execution_count": 216,
   "metadata": {},
   "outputs": [],
   "source": [
    "y_pred = pipe.predict(X_test)"
   ]
  },
  {
   "cell_type": "code",
   "execution_count": 217,
   "metadata": {},
   "outputs": [
    {
     "data": {
      "text/plain": [
       "0.6799492020894234"
      ]
     },
     "execution_count": 217,
     "metadata": {},
     "output_type": "execute_result"
    }
   ],
   "source": [
    "accuracy_score(y_test, y_pred)"
   ]
  },
  {
   "cell_type": "code",
   "execution_count": 218,
   "metadata": {},
   "outputs": [
    {
     "data": {
      "text/plain": [
       "0    41685\n",
       "1       49\n",
       "Name: count, dtype: int64"
      ]
     },
     "execution_count": 218,
     "metadata": {},
     "output_type": "execute_result"
    }
   ],
   "source": [
    "pd.DataFrame(y_pred).value_counts()"
   ]
  },
  {
   "cell_type": "markdown",
   "metadata": {},
   "source": [
    "## XGBoost"
   ]
  },
  {
   "cell_type": "code",
   "execution_count": 300,
   "metadata": {},
   "outputs": [
    {
     "data": {
      "text/html": [
       "<style>#sk-container-id-68 {color: black;}#sk-container-id-68 pre{padding: 0;}#sk-container-id-68 div.sk-toggleable {background-color: white;}#sk-container-id-68 label.sk-toggleable__label {cursor: pointer;display: block;width: 100%;margin-bottom: 0;padding: 0.3em;box-sizing: border-box;text-align: center;}#sk-container-id-68 label.sk-toggleable__label-arrow:before {content: \"▸\";float: left;margin-right: 0.25em;color: #696969;}#sk-container-id-68 label.sk-toggleable__label-arrow:hover:before {color: black;}#sk-container-id-68 div.sk-estimator:hover label.sk-toggleable__label-arrow:before {color: black;}#sk-container-id-68 div.sk-toggleable__content {max-height: 0;max-width: 0;overflow: hidden;text-align: left;background-color: #f0f8ff;}#sk-container-id-68 div.sk-toggleable__content pre {margin: 0.2em;color: black;border-radius: 0.25em;background-color: #f0f8ff;}#sk-container-id-68 input.sk-toggleable__control:checked~div.sk-toggleable__content {max-height: 200px;max-width: 100%;overflow: auto;}#sk-container-id-68 input.sk-toggleable__control:checked~label.sk-toggleable__label-arrow:before {content: \"▾\";}#sk-container-id-68 div.sk-estimator input.sk-toggleable__control:checked~label.sk-toggleable__label {background-color: #d4ebff;}#sk-container-id-68 div.sk-label input.sk-toggleable__control:checked~label.sk-toggleable__label {background-color: #d4ebff;}#sk-container-id-68 input.sk-hidden--visually {border: 0;clip: rect(1px 1px 1px 1px);clip: rect(1px, 1px, 1px, 1px);height: 1px;margin: -1px;overflow: hidden;padding: 0;position: absolute;width: 1px;}#sk-container-id-68 div.sk-estimator {font-family: monospace;background-color: #f0f8ff;border: 1px dotted black;border-radius: 0.25em;box-sizing: border-box;margin-bottom: 0.5em;}#sk-container-id-68 div.sk-estimator:hover {background-color: #d4ebff;}#sk-container-id-68 div.sk-parallel-item::after {content: \"\";width: 100%;border-bottom: 1px solid gray;flex-grow: 1;}#sk-container-id-68 div.sk-label:hover label.sk-toggleable__label {background-color: #d4ebff;}#sk-container-id-68 div.sk-serial::before {content: \"\";position: absolute;border-left: 1px solid gray;box-sizing: border-box;top: 0;bottom: 0;left: 50%;z-index: 0;}#sk-container-id-68 div.sk-serial {display: flex;flex-direction: column;align-items: center;background-color: white;padding-right: 0.2em;padding-left: 0.2em;position: relative;}#sk-container-id-68 div.sk-item {position: relative;z-index: 1;}#sk-container-id-68 div.sk-parallel {display: flex;align-items: stretch;justify-content: center;background-color: white;position: relative;}#sk-container-id-68 div.sk-item::before, #sk-container-id-68 div.sk-parallel-item::before {content: \"\";position: absolute;border-left: 1px solid gray;box-sizing: border-box;top: 0;bottom: 0;left: 50%;z-index: -1;}#sk-container-id-68 div.sk-parallel-item {display: flex;flex-direction: column;z-index: 1;position: relative;background-color: white;}#sk-container-id-68 div.sk-parallel-item:first-child::after {align-self: flex-end;width: 50%;}#sk-container-id-68 div.sk-parallel-item:last-child::after {align-self: flex-start;width: 50%;}#sk-container-id-68 div.sk-parallel-item:only-child::after {width: 0;}#sk-container-id-68 div.sk-dashed-wrapped {border: 1px dashed gray;margin: 0 0.4em 0.5em 0.4em;box-sizing: border-box;padding-bottom: 0.4em;background-color: white;}#sk-container-id-68 div.sk-label label {font-family: monospace;font-weight: bold;display: inline-block;line-height: 1.2em;}#sk-container-id-68 div.sk-label-container {text-align: center;}#sk-container-id-68 div.sk-container {/* jupyter's `normalize.less` sets `[hidden] { display: none; }` but bootstrap.min.css set `[hidden] { display: none !important; }` so we also need the `!important` here to be able to override the default hidden behavior on the sphinx rendered scikit-learn.org. See: https://github.com/scikit-learn/scikit-learn/issues/21755 */display: inline-block !important;position: relative;}#sk-container-id-68 div.sk-text-repr-fallback {display: none;}</style><div id=\"sk-container-id-68\" class=\"sk-top-container\"><div class=\"sk-text-repr-fallback\"><pre>XGBClassifier(base_score=None, booster=None, callbacks=None,\n",
       "              colsample_bylevel=None, colsample_bynode=None,\n",
       "              colsample_bytree=None, early_stopping_rounds=None,\n",
       "              enable_categorical=False, eval_metric=&#x27;logloss&#x27;,\n",
       "              feature_types=None, gamma=None, gpu_id=None, grow_policy=None,\n",
       "              importance_type=None, interaction_constraints=None,\n",
       "              learning_rate=0.1, max_bin=None, max_cat_threshold=None,\n",
       "              max_cat_to_onehot=None, max_delta_step=None, max_depth=None,\n",
       "              max_leaves=None, min_child_weight=None, missing=nan,\n",
       "              monotone_constraints=None, n_estimators=50, n_jobs=None,\n",
       "              num_parallel_tree=None, predictor=None, random_state=None, ...)</pre><b>In a Jupyter environment, please rerun this cell to show the HTML representation or trust the notebook. <br />On GitHub, the HTML representation is unable to render, please try loading this page with nbviewer.org.</b></div><div class=\"sk-container\" hidden><div class=\"sk-item\"><div class=\"sk-estimator sk-toggleable\"><input class=\"sk-toggleable__control sk-hidden--visually\" id=\"sk-estimator-id-72\" type=\"checkbox\" checked><label for=\"sk-estimator-id-72\" class=\"sk-toggleable__label sk-toggleable__label-arrow\">XGBClassifier</label><div class=\"sk-toggleable__content\"><pre>XGBClassifier(base_score=None, booster=None, callbacks=None,\n",
       "              colsample_bylevel=None, colsample_bynode=None,\n",
       "              colsample_bytree=None, early_stopping_rounds=None,\n",
       "              enable_categorical=False, eval_metric=&#x27;logloss&#x27;,\n",
       "              feature_types=None, gamma=None, gpu_id=None, grow_policy=None,\n",
       "              importance_type=None, interaction_constraints=None,\n",
       "              learning_rate=0.1, max_bin=None, max_cat_threshold=None,\n",
       "              max_cat_to_onehot=None, max_delta_step=None, max_depth=None,\n",
       "              max_leaves=None, min_child_weight=None, missing=nan,\n",
       "              monotone_constraints=None, n_estimators=50, n_jobs=None,\n",
       "              num_parallel_tree=None, predictor=None, random_state=None, ...)</pre></div></div></div></div></div>"
      ],
      "text/plain": [
       "XGBClassifier(base_score=None, booster=None, callbacks=None,\n",
       "              colsample_bylevel=None, colsample_bynode=None,\n",
       "              colsample_bytree=None, early_stopping_rounds=None,\n",
       "              enable_categorical=False, eval_metric='logloss',\n",
       "              feature_types=None, gamma=None, gpu_id=None, grow_policy=None,\n",
       "              importance_type=None, interaction_constraints=None,\n",
       "              learning_rate=0.1, max_bin=None, max_cat_threshold=None,\n",
       "              max_cat_to_onehot=None, max_delta_step=None, max_depth=None,\n",
       "              max_leaves=None, min_child_weight=None, missing=nan,\n",
       "              monotone_constraints=None, n_estimators=50, n_jobs=None,\n",
       "              num_parallel_tree=None, predictor=None, random_state=None, ...)"
      ]
     },
     "execution_count": 300,
     "metadata": {},
     "output_type": "execute_result"
    }
   ],
   "source": [
    "from xgboost import XGBClassifier\n",
    "\n",
    "model = XGBClassifier(\n",
    "    objective='binary:logistic',  # Fonction d'objectif pour la classification binaire\n",
    "    eval_metric='logloss',  # Métrique d'évaluation  # Profondeur maximale de l'arbre\n",
    "    learning_rate=0.1,  # Taux d'apprentissage\n",
    "    n_estimators=50  # Nombre d'arbres (itérations)\n",
    ")\n",
    "\n",
    "model.fit(X_train_resampled, y_train_resampled)"
   ]
  },
  {
   "cell_type": "code",
   "execution_count": 301,
   "metadata": {},
   "outputs": [
    {
     "name": "stdout",
     "output_type": "stream",
     "text": [
      "Accuracy = 0.6802127761537355\n",
      "Recall = 0.0\n",
      "Precision = 0.0\n"
     ]
    },
    {
     "name": "stderr",
     "output_type": "stream",
     "text": [
      "/Users/jeremiesordoillet/.pyenv/versions/3.10.6/envs/mlb_classification/lib/python3.10/site-packages/sklearn/metrics/_classification.py:1469: UndefinedMetricWarning: Precision is ill-defined and being set to 0.0 due to no predicted samples. Use `zero_division` parameter to control this behavior.\n",
      "  _warn_prf(average, modifier, msg_start, len(result))\n"
     ]
    }
   ],
   "source": [
    "y_pred = sgdc.predict(X_test)\n",
    "\n",
    "print(\"Accuracy =\", accuracy_score(y_test, y_pred))\n",
    "print(\"Recall =\", recall_score(y_test, y_pred))\n",
    "print(\"Precision =\", precision_score(y_test, y_pred))"
   ]
  },
  {
   "cell_type": "code",
   "execution_count": 293,
   "metadata": {},
   "outputs": [
    {
     "data": {
      "text/plain": [
       "0    41734\n",
       "Name: count, dtype: int64"
      ]
     },
     "execution_count": 293,
     "metadata": {},
     "output_type": "execute_result"
    }
   ],
   "source": []
  },
  {
   "cell_type": "code",
   "execution_count": null,
   "metadata": {},
   "outputs": [],
   "source": []
  }
 ],
 "metadata": {
  "kernelspec": {
   "display_name": "mlb_classification",
   "language": "python",
   "name": "python3"
  },
  "language_info": {
   "codemirror_mode": {
    "name": "ipython",
    "version": 3
   },
   "file_extension": ".py",
   "mimetype": "text/x-python",
   "name": "python",
   "nbconvert_exporter": "python",
   "pygments_lexer": "ipython3",
   "version": "3.10.6"
  },
  "orig_nbformat": 4
 },
 "nbformat": 4,
 "nbformat_minor": 2
}
